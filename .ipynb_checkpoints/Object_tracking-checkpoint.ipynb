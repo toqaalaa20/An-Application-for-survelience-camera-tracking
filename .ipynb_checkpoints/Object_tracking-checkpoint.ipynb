{
 "cells": [
  {
   "cell_type": "code",
   "execution_count": 1,
   "id": "0dd55747",
   "metadata": {},
   "outputs": [],
   "source": [
    "import os\n",
    "os.environ['CUDA_VISIBLE_DEVICES'] = '0'\n",
    "import cv2\n",
    "import numpy as np\n",
    "import tensorflow as tf\n",
    "from tracker import Object_Tracker\n",
    "from ultralytics import YOLO\n",
    "import random\n",
    "from deep_sort import generate_detections as gdet\n",
    "import time"
   ]
  },
  {
   "cell_type": "code",
   "execution_count": 2,
   "id": "2db687e3",
   "metadata": {},
   "outputs": [],
   "source": [
    "tracker= Object_Tracker()"
   ]
  },
  {
   "cell_type": "code",
   "execution_count": 3,
   "id": "aa5379f1",
   "metadata": {},
   "outputs": [],
   "source": [
    "model = YOLO('yolov8n.pt')"
   ]
  },
  {
   "cell_type": "code",
   "execution_count": 4,
   "id": "7c0399d0",
   "metadata": {},
   "outputs": [],
   "source": [
    "data_dir= 'C:\\\\dataset2014\\\\results'"
   ]
  },
  {
   "cell_type": "code",
   "execution_count": 5,
   "id": "cb8474b9",
   "metadata": {},
   "outputs": [
    {
     "name": "stdout",
     "output_type": "stream",
     "text": [
      "['badWeather', 'baseline', 'cameraJitter', 'dynamicBackground', 'intermittentObjectMotion', 'lowFramerate', 'nightVideos', 'PTZ', 'shadow', 'thermal', 'turbulence']\n"
     ]
    }
   ],
   "source": [
    "all_items = os.listdir(data_dir)\n",
    "categories = [item for item in all_items if os.path.isdir(os.path.join(data_dir, item))]\n",
    "print(categories)"
   ]
  },
  {
   "cell_type": "code",
   "execution_count": 6,
   "id": "4a27dfc9",
   "metadata": {},
   "outputs": [
    {
     "name": "stderr",
     "output_type": "stream",
     "text": [
      "\n",
      "0: 640x640 1 car, 105.7ms\n",
      "Speed: 5.0ms preprocess, 105.7ms inference, 2.0ms postprocess per image at shape (1, 3, 640, 640)\n"
     ]
    }
   ],
   "source": [
    "img=  'C:\\\\dataset2014\\\\results\\\\badWeather\\\\skating\\\\in000001.jpg'\n",
    "img= cv2.imread(img)\n",
    "results= model(img)\n",
    "\n",
    "names=results[0].names"
   ]
  },
  {
   "cell_type": "code",
   "execution_count": 7,
   "id": "3fb2a564",
   "metadata": {},
   "outputs": [
    {
     "data": {
      "text/plain": [
       "(320, 320, 3)"
      ]
     },
     "execution_count": 7,
     "metadata": {},
     "output_type": "execute_result"
    }
   ],
   "source": [
    "img.shape"
   ]
  },
  {
   "cell_type": "code",
   "execution_count": 8,
   "id": "a5e50979",
   "metadata": {},
   "outputs": [],
   "source": [
    "colors = [(random.randint(0, 255), random.randint(0, 255), random.randint(0, 255)) for j in range(10)]\n",
    "\n",
    "detection_threshold = 0.5"
   ]
  },
  {
   "cell_type": "code",
   "execution_count": 9,
   "id": "c6240325",
   "metadata": {},
   "outputs": [
    {
     "data": {
      "text/plain": [
       "'C:\\\\Users\\\\Toqa Alaa\\\\deep_learning\\\\Real-time-object-tracking'"
      ]
     },
     "execution_count": 9,
     "metadata": {},
     "output_type": "execute_result"
    }
   ],
   "source": [
    "pwd"
   ]
  },
  {
   "cell_type": "code",
   "execution_count": null,
   "id": "0279b741",
   "metadata": {},
   "outputs": [],
   "source": []
  },
  {
   "cell_type": "code",
   "execution_count": 11,
   "id": "e2094d7d",
   "metadata": {},
   "outputs": [],
   "source": [
    "def calculate_iou(box1, boxes2):\n",
    "    x1, y1, x2, y2 = box1\n",
    "    x1 = np.maximum(x1, boxes2[:, 0])\n",
    "    y1 = np.maximum(y1, boxes2[:, 1])\n",
    "    x2 = np.minimum(x2, boxes2[:, 2])\n",
    "    y2 = np.minimum(y2, boxes2[:, 3])\n",
    "\n",
    "    intersection_area = np.maximum(0, x2 - x1 + 1) * np.maximum(0, y2 - y1 + 1)\n",
    "    box1_area = (x2 - x1 + 1) * (y2 - y1 + 1)\n",
    "    boxes2_area = (boxes2[:, 2] - boxes2[:, 0] + 1) * (boxes2[:, 3] - boxes2[:, 1] + 1)\n",
    "\n",
    "    iou = intersection_area / (box1_area + boxes2_area - intersection_area)\n",
    "    return iou"
   ]
  },
  {
   "cell_type": "code",
   "execution_count": 12,
   "id": "a14d6e9e",
   "metadata": {},
   "outputs": [],
   "source": [
    "data_path='C:\\\\dataset2014\\\\results\\\\baseline\\\\highway'\n",
    "video_path= 'traffic_video.mp4'"
   ]
  },
  {
   "cell_type": "code",
   "execution_count": 13,
   "id": "8cf0469b",
   "metadata": {},
   "outputs": [],
   "source": [
    "vid = cv2.VideoCapture(video_path) "
   ]
  },
  {
   "cell_type": "code",
   "execution_count": null,
   "id": "90643cf8",
   "metadata": {},
   "outputs": [],
   "source": []
  },
  {
   "cell_type": "code",
   "execution_count": 14,
   "id": "b69f8d80",
   "metadata": {},
   "outputs": [],
   "source": [
    "frames=[]"
   ]
  },
  {
   "cell_type": "code",
   "execution_count": 15,
   "id": "427bf4f9",
   "metadata": {},
   "outputs": [
    {
     "name": "stderr",
     "output_type": "stream",
     "text": [
      "\n",
      "0: 384x640 1 car, 70.8ms\n",
      "Speed: 2.0ms preprocess, 70.8ms inference, 2.0ms postprocess per image at shape (1, 3, 384, 640)\n"
     ]
    },
    {
     "name": "stdout",
     "output_type": "stream",
     "text": [
      "[[607, 307, 633, 336, 0.6374568939208984, 'car']]\n"
     ]
    },
    {
     "name": "stderr",
     "output_type": "stream",
     "text": [
      "\n",
      "0: 384x640 1 car, 57.8ms\n",
      "Speed: 2.0ms preprocess, 57.8ms inference, 1.0ms postprocess per image at shape (1, 3, 384, 640)\n",
      "\n",
      "0: 384x640 1 car, 67.8ms\n",
      "Speed: 2.0ms preprocess, 67.8ms inference, 1.0ms postprocess per image at shape (1, 3, 384, 640)\n",
      "\n",
      "0: 384x640 1 car, 66.8ms\n"
     ]
    },
    {
     "name": "stdout",
     "output_type": "stream",
     "text": [
      "[[607, 307, 633, 336, 0.6399165391921997, 'car']]\n",
      "[[606, 307, 633, 336, 0.6196421980857849, 'car']]\n"
     ]
    },
    {
     "name": "stderr",
     "output_type": "stream",
     "text": [
      "Speed: 2.0ms preprocess, 66.8ms inference, 1.0ms postprocess per image at shape (1, 3, 384, 640)\n",
      "\n",
      "0: 384x640 1 car, 64.8ms\n",
      "Speed: 2.0ms preprocess, 64.8ms inference, 1.0ms postprocess per image at shape (1, 3, 384, 640)\n",
      "\n",
      "0: 384x640 2 cars, 62.8ms\n",
      "Speed: 3.0ms preprocess, 62.8ms inference, 1.0ms postprocess per image at shape (1, 3, 384, 640)\n",
      "\n"
     ]
    },
    {
     "name": "stdout",
     "output_type": "stream",
     "text": [
      "[[605, 308, 633, 337, 0.6649579405784607, 'car']]\n",
      "[[604, 308, 632, 338, 0.5958523154258728, 'car']]\n",
      "[[1102, 698, 1300, 764, 0.7092212438583374, 'car'], [601, 309, 631, 339, 0.6431823372840881, 'car']]\n"
     ]
    },
    {
     "name": "stderr",
     "output_type": "stream",
     "text": [
      "0: 384x640 2 cars, 61.8ms\n",
      "Speed: 3.0ms preprocess, 61.8ms inference, 2.0ms postprocess per image at shape (1, 3, 384, 640)\n",
      "\n",
      "0: 384x640 2 cars, 57.8ms\n",
      "Speed: 9.0ms preprocess, 57.8ms inference, 1.0ms postprocess per image at shape (1, 3, 384, 640)\n",
      "\n",
      "0: 384x640 2 cars, 56.8ms\n"
     ]
    },
    {
     "name": "stdout",
     "output_type": "stream",
     "text": [
      "[[1081, 678, 1281, 763, 0.7404282093048096, 'car'], [600, 309, 631, 339, 0.6189277768135071, 'car']]\n",
      "[[1050, 637, 1229, 765, 0.7544621229171753, 'car'], [599, 309, 628, 341, 0.5587347745895386, 'car']]\n"
     ]
    },
    {
     "name": "stderr",
     "output_type": "stream",
     "text": [
      "Speed: 2.0ms preprocess, 56.8ms inference, 1.0ms postprocess per image at shape (1, 3, 384, 640)\n",
      "\n",
      "0: 384x640 2 cars, 56.8ms\n",
      "Speed: 2.0ms preprocess, 56.8ms inference, 1.0ms postprocess per image at shape (1, 3, 384, 640)\n",
      "\n",
      "0: 384x640 2 cars, 51.9ms\n",
      "Speed: 2.0ms preprocess, 51.9ms inference, 1.0ms postprocess per image at shape (1, 3, 384, 640)\n",
      "\n"
     ]
    },
    {
     "name": "stdout",
     "output_type": "stream",
     "text": [
      "[[1034, 621, 1199, 738, 0.5695949196815491, 'car'], [598, 310, 628, 342, 0.49722540378570557, 'car']]\n",
      "[[1019, 604, 1178, 714, 0.6427969336509705, 'car'], [596, 309, 627, 344, 0.5056697130203247, 'car']]\n",
      "[[1007, 589, 1156, 698, 0.7221307754516602, 'car'], [595, 309, 627, 345, 0.4473961591720581, 'car']]\n"
     ]
    },
    {
     "name": "stderr",
     "output_type": "stream",
     "text": [
      "0: 384x640 2 cars, 55.9ms\n",
      "Speed: 1.0ms preprocess, 55.9ms inference, 1.0ms postprocess per image at shape (1, 3, 384, 640)\n",
      "\n",
      "0: 384x640 2 cars, 53.9ms\n",
      "Speed: 6.9ms preprocess, 53.9ms inference, 1.0ms postprocess per image at shape (1, 3, 384, 640)\n",
      "\n",
      "0: 384x640 3 cars, 1 truck, 59.8ms\n"
     ]
    },
    {
     "name": "stdout",
     "output_type": "stream",
     "text": [
      "[[993, 574, 1135, 677, 0.6083101630210876, 'car'], [594, 309, 628, 346, 0.4808262288570404, 'car']]\n",
      "[[973, 553, 1101, 636, 0.6526740193367004, 'car'], [590, 317, 622, 349, 0.6280165314674377, 'car']]\n"
     ]
    },
    {
     "name": "stderr",
     "output_type": "stream",
     "text": [
      "Speed: 2.0ms preprocess, 59.8ms inference, 1.0ms postprocess per image at shape (1, 3, 384, 640)\n",
      "\n",
      "0: 384x640 2 cars, 61.8ms\n",
      "Speed: 2.0ms preprocess, 61.8ms inference, 0.0ms postprocess per image at shape (1, 3, 384, 640)\n",
      "\n",
      "0: 384x640 2 cars, 62.8ms\n"
     ]
    },
    {
     "name": "stdout",
     "output_type": "stream",
     "text": [
      "[[963, 543, 1084, 624, 0.6488127708435059, 'car'], [589, 323, 620, 350, 0.6060664653778076, 'car']]\n",
      "[[588, 317, 619, 350, 0.6298187971115112, 'car'], [955, 531, 1066, 616, 0.5315497517585754, 'car']]\n"
     ]
    },
    {
     "name": "stderr",
     "output_type": "stream",
     "text": [
      "Speed: 2.0ms preprocess, 62.8ms inference, 1.0ms postprocess per image at shape (1, 3, 384, 640)\n",
      "\n",
      "0: 384x640 3 cars, 62.8ms\n",
      "Speed: 2.0ms preprocess, 62.8ms inference, 2.0ms postprocess per image at shape (1, 3, 384, 640)\n",
      "\n",
      "0: 384x640 3 cars, 63.8ms\n"
     ]
    },
    {
     "name": "stdout",
     "output_type": "stream",
     "text": [
      "[[945, 523, 1055, 597, 0.7335258722305298, 'car'], [585, 317, 619, 352, 0.5994157195091248, 'car']]\n",
      "[[584, 319, 619, 353, 0.6253370046615601, 'car'], [938, 512, 1044, 591, 0.5906488299369812, 'car']]\n"
     ]
    },
    {
     "name": "stderr",
     "output_type": "stream",
     "text": [
      "Speed: 2.0ms preprocess, 63.8ms inference, 1.0ms postprocess per image at shape (1, 3, 384, 640)\n",
      "\n",
      "0: 384x640 3 cars, 63.8ms\n",
      "Speed: 3.0ms preprocess, 63.8ms inference, 1.0ms postprocess per image at shape (1, 3, 384, 640)\n",
      "\n",
      "0: 384x640 4 cars, 58.8ms\n"
     ]
    },
    {
     "name": "stdout",
     "output_type": "stream",
     "text": [
      "[[582, 320, 620, 354, 0.634755551815033, 'car'], [923, 500, 1019, 566, 0.6043171286582947, 'car'], [625, 296, 647, 312, 0.3027831017971039, 'car']]\n",
      "[[916, 493, 1008, 557, 0.7044394016265869, 'car'], [581, 320, 619, 355, 0.6185693144798279, 'car']]\n"
     ]
    },
    {
     "name": "stderr",
     "output_type": "stream",
     "text": [
      "Speed: 2.0ms preprocess, 58.8ms inference, 1.0ms postprocess per image at shape (1, 3, 384, 640)\n",
      "\n",
      "0: 384x640 6 cars, 59.8ms\n",
      "Speed: 2.0ms preprocess, 59.8ms inference, 1.0ms postprocess per image at shape (1, 3, 384, 640)\n",
      "\n"
     ]
    },
    {
     "name": "stdout",
     "output_type": "stream",
     "text": [
      "[[911, 485, 999, 550, 0.6121188998222351, 'car'], [580, 320, 617, 357, 0.5277774930000305, 'car'], [625, 295, 648, 314, 0.30623337626457214, 'car']]\n",
      "[[904, 478, 990, 538, 0.6549689173698425, 'car'], [578, 321, 615, 359, 0.4976878762245178, 'car'], [625, 295, 648, 314, 0.3494219481945038, 'car']]\n"
     ]
    },
    {
     "name": "stderr",
     "output_type": "stream",
     "text": [
      "0: 384x640 4 cars, 60.8ms\n",
      "Speed: 2.0ms preprocess, 60.8ms inference, 1.0ms postprocess per image at shape (1, 3, 384, 640)\n",
      "\n",
      "0: 384x640 4 cars, 55.8ms\n",
      "Speed: 3.0ms preprocess, 55.8ms inference, 1.0ms postprocess per image at shape (1, 3, 384, 640)\n",
      "\n"
     ]
    },
    {
     "name": "stdout",
     "output_type": "stream",
     "text": [
      "[[574, 321, 618, 360, 0.49687233567237854, 'car'], [898, 475, 985, 531, 0.4597446322441101, 'car'], [624, 296, 647, 314, 0.3942779004573822, 'car']]\n",
      "[[887, 463, 967, 521, 0.7183414697647095, 'car'], [570, 331, 605, 363, 0.5239184498786926, 'car'], [623, 294, 647, 315, 0.39717555046081543, 'car']]\n"
     ]
    },
    {
     "name": "stderr",
     "output_type": "stream",
     "text": [
      "0: 384x640 3 cars, 67.8ms\n",
      "Speed: 2.0ms preprocess, 67.8ms inference, 1.0ms postprocess per image at shape (1, 3, 384, 640)\n",
      "\n",
      "0: 384x640 3 cars, 56.8ms\n",
      "Speed: 3.0ms preprocess, 56.8ms inference, 1.0ms postprocess per image at shape (1, 3, 384, 640)\n",
      "\n",
      "0: 384x640 3 cars, 66.8ms\n"
     ]
    },
    {
     "name": "stdout",
     "output_type": "stream",
     "text": [
      "[[883, 458, 960, 508, 0.6242813467979431, 'car'], [569, 332, 604, 365, 0.5623509883880615, 'car'], [623, 292, 647, 315, 0.4009203016757965, 'car']]\n",
      "[[567, 335, 604, 366, 0.623421847820282, 'car'], [622, 292, 648, 315, 0.3829375207424164, 'car'], [878, 452, 951, 510, 0.3571438193321228, 'car']]\n"
     ]
    },
    {
     "name": "stderr",
     "output_type": "stream",
     "text": [
      "Speed: 2.0ms preprocess, 66.8ms inference, 1.0ms postprocess per image at shape (1, 3, 384, 640)\n",
      "\n",
      "0: 384x640 2 cars, 62.8ms\n",
      "Speed: 2.0ms preprocess, 62.8ms inference, 1.0ms postprocess per image at shape (1, 3, 384, 640)\n",
      "\n",
      "0: 384x640 2 cars, 52.8ms\n",
      "Speed: 2.0ms preprocess, 52.8ms inference, 1.0ms postprocess per image at shape (1, 3, 384, 640)\n",
      "\n"
     ]
    },
    {
     "name": "stdout",
     "output_type": "stream",
     "text": [
      "[[875, 449, 948, 504, 0.6983095407485962, 'car'], [565, 339, 602, 367, 0.5995883345603943, 'car']]\n",
      "[[565, 337, 601, 369, 0.6620962023735046, 'car'], [869, 441, 941, 494, 0.62066650390625, 'car']]\n",
      "[[864, 434, 928, 475, 0.47896793484687805, 'car'], [564, 336, 604, 373, 0.47777917981147766, 'car']]\n"
     ]
    },
    {
     "name": "stderr",
     "output_type": "stream",
     "text": [
      "0: 384x640 4 cars, 58.8ms\n",
      "Speed: 1.0ms preprocess, 58.8ms inference, 1.0ms postprocess per image at shape (1, 3, 384, 640)\n",
      "\n",
      "0: 384x640 4 cars, 62.8ms\n",
      "Speed: 2.0ms preprocess, 62.8ms inference, 1.0ms postprocess per image at shape (1, 3, 384, 640)\n",
      "\n"
     ]
    },
    {
     "name": "stdout",
     "output_type": "stream",
     "text": [
      "[[865, 431, 922, 461, 0.6436747312545776, 'car'], [562, 338, 598, 372, 0.4876951277256012, 'car']]\n",
      "[[857, 428, 915, 459, 0.5555991530418396, 'car'], [558, 338, 597, 373, 0.5491067171096802, 'car']]\n"
     ]
    },
    {
     "name": "stderr",
     "output_type": "stream",
     "text": [
      "0: 384x640 3 cars, 81.8ms\n",
      "Speed: 3.0ms preprocess, 81.8ms inference, 1.0ms postprocess per image at shape (1, 3, 384, 640)\n",
      "\n",
      "0: 384x640 4 cars, 61.8ms\n",
      "Speed: 2.0ms preprocess, 61.8ms inference, 0.0ms postprocess per image at shape (1, 3, 384, 640)\n",
      "\n",
      "0: 384x640 4 cars, 58.8ms\n",
      "Speed: 2.0ms preprocess, 58.8ms inference, 1.0ms postprocess per image at shape (1, 3, 384, 640)\n",
      "\n"
     ]
    },
    {
     "name": "stdout",
     "output_type": "stream",
     "text": [
      "[[853, 423, 914, 463, 0.6168088912963867, 'car'], [557, 337, 596, 374, 0.4938786029815674, 'car']]\n",
      "[[555, 340, 591, 376, 0.5008469223976135, 'car'], [851, 420, 912, 461, 0.46970903873443604, 'car']]\n",
      "[[550, 343, 589, 379, 0.4778004586696625, 'car'], [846, 415, 899, 445, 0.42138296365737915, 'car']]\n"
     ]
    },
    {
     "name": "stderr",
     "output_type": "stream",
     "text": [
      "0: 384x640 4 cars, 65.9ms\n",
      "Speed: 2.0ms preprocess, 65.9ms inference, 1.0ms postprocess per image at shape (1, 3, 384, 640)\n",
      "\n",
      "0: 384x640 4 cars, 58.8ms\n",
      "Speed: 2.0ms preprocess, 58.8ms inference, 1.0ms postprocess per image at shape (1, 3, 384, 640)\n",
      "\n",
      "0: 384x640 5 cars, 62.8ms\n"
     ]
    },
    {
     "name": "stdout",
     "output_type": "stream",
     "text": [
      "[[547, 346, 588, 382, 0.6935564875602722, 'car'], [570, 326, 606, 347, 0.4034211039543152, 'car'], [841, 409, 898, 445, 0.3866082429885864, 'car']]\n",
      "[[545, 348, 584, 383, 0.6013485789299011, 'car'], [570, 326, 604, 347, 0.385246217250824, 'car'], [838, 407, 896, 441, 0.33653923869132996, 'car']]\n"
     ]
    },
    {
     "name": "stderr",
     "output_type": "stream",
     "text": [
      "Speed: 2.0ms preprocess, 62.8ms inference, 1.0ms postprocess per image at shape (1, 3, 384, 640)\n",
      "\n",
      "0: 384x640 7 cars, 67.8ms\n",
      "Speed: 2.0ms preprocess, 67.8ms inference, 1.0ms postprocess per image at shape (1, 3, 384, 640)\n",
      "\n"
     ]
    },
    {
     "name": "stdout",
     "output_type": "stream",
     "text": [
      "[[543, 348, 584, 385, 0.6444501280784607, 'car'], [569, 326, 604, 349, 0.46315085887908936, 'car'], [615, 300, 641, 321, 0.3334594666957855, 'car'], [836, 404, 904, 443, 0.31241124868392944, 'car']]\n",
      "[[539, 349, 584, 388, 0.6411684155464172, 'car'], [834, 400, 889, 433, 0.5957823991775513, 'car'], [568, 326, 603, 353, 0.5336233377456665, 'car'], [613, 302, 641, 322, 0.31750786304473877, 'car']]\n"
     ]
    },
    {
     "name": "stderr",
     "output_type": "stream",
     "text": [
      "0: 384x640 5 cars, 62.9ms\n",
      "Speed: 3.0ms preprocess, 62.9ms inference, 1.0ms postprocess per image at shape (1, 3, 384, 640)\n",
      "\n",
      "0: 384x640 5 cars, 61.8ms\n",
      "Speed: 2.0ms preprocess, 61.8ms inference, 1.0ms postprocess per image at shape (1, 3, 384, 640)\n",
      "\n"
     ]
    },
    {
     "name": "stdout",
     "output_type": "stream",
     "text": [
      "[[536, 352, 576, 393, 0.603405237197876, 'car'], [565, 327, 604, 355, 0.5601300001144409, 'car'], [829, 398, 890, 436, 0.5005990862846375, 'car'], [611, 303, 639, 322, 0.33033818006515503, 'car']]\n",
      "[[535, 354, 573, 393, 0.6858079433441162, 'car'], [564, 329, 603, 356, 0.5305817723274231, 'car'], [828, 395, 884, 430, 0.4854579269886017, 'car'], [608, 305, 639, 325, 0.3217278718948364, 'car']]\n"
     ]
    },
    {
     "name": "stderr",
     "output_type": "stream",
     "text": [
      "0: 384x640 5 cars, 62.8ms\n",
      "Speed: 2.0ms preprocess, 62.8ms inference, 1.0ms postprocess per image at shape (1, 3, 384, 640)\n",
      "\n",
      "0: 384x640 5 cars, 55.9ms\n",
      "Speed: 2.0ms preprocess, 55.9ms inference, 1.0ms postprocess per image at shape (1, 3, 384, 640)\n",
      "\n"
     ]
    },
    {
     "name": "stdout",
     "output_type": "stream",
     "text": [
      "[[532, 354, 572, 394, 0.6979907155036926, 'car'], [826, 391, 883, 428, 0.5527169704437256, 'car'], [562, 330, 605, 359, 0.5520931482315063, 'car'], [608, 306, 639, 325, 0.38329607248306274, 'car']]\n",
      "[[530, 355, 571, 397, 0.7502177953720093, 'car'], [561, 330, 604, 358, 0.6323993802070618, 'car'], [823, 391, 885, 427, 0.41101792454719543, 'car'], [608, 306, 635, 326, 0.4075894355773926, 'car']]\n"
     ]
    },
    {
     "name": "stderr",
     "output_type": "stream",
     "text": [
      "0: 384x640 5 cars, 74.9ms\n",
      "Speed: 2.0ms preprocess, 74.9ms inference, 1.0ms postprocess per image at shape (1, 3, 384, 640)\n",
      "\n",
      "0: 384x640 5 cars, 59.8ms\n",
      "Speed: 1.0ms preprocess, 59.8ms inference, 1.0ms postprocess per image at shape (1, 3, 384, 640)\n",
      "\n"
     ]
    },
    {
     "name": "stdout",
     "output_type": "stream",
     "text": [
      "[[527, 355, 570, 400, 0.6638322472572327, 'car'], [822, 388, 881, 422, 0.5744150280952454, 'car'], [561, 328, 606, 358, 0.49475204944610596, 'car'], [607, 306, 634, 326, 0.4870505928993225, 'car']]\n",
      "[[520, 358, 578, 407, 0.6349712014198303, 'car'], [818, 385, 876, 419, 0.5620149970054626, 'car'], [559, 332, 592, 358, 0.49176356196403503, 'car'], [606, 306, 634, 326, 0.471804141998291, 'car']]\n"
     ]
    },
    {
     "name": "stderr",
     "output_type": "stream",
     "text": [
      "0: 384x640 5 cars, 61.8ms\n",
      "Speed: 3.0ms preprocess, 61.8ms inference, 1.0ms postprocess per image at shape (1, 3, 384, 640)\n",
      "\n",
      "0: 384x640 4 cars, 61.8ms\n",
      "Speed: 2.0ms preprocess, 61.8ms inference, 1.0ms postprocess per image at shape (1, 3, 384, 640)\n",
      "\n"
     ]
    },
    {
     "name": "stdout",
     "output_type": "stream",
     "text": [
      "[[517, 361, 590, 409, 0.8075671792030334, 'car'], [557, 333, 608, 361, 0.40263187885284424, 'car'], [815, 382, 868, 416, 0.3960164487361908, 'car'], [606, 307, 633, 326, 0.37846502661705017, 'car']]\n",
      "[[513, 363, 591, 411, 0.6226015090942383, 'car'], [814, 379, 869, 414, 0.41244497895240784, 'car'], [554, 338, 590, 360, 0.32361090183258057, 'car'], [605, 306, 631, 327, 0.3160513937473297, 'car']]\n"
     ]
    },
    {
     "name": "stderr",
     "output_type": "stream",
     "text": [
      "0: 384x640 5 cars, 68.8ms\n",
      "Speed: 2.0ms preprocess, 68.8ms inference, 1.0ms postprocess per image at shape (1, 3, 384, 640)\n",
      "\n",
      "0: 384x640 4 cars, 58.8ms\n",
      "Speed: 2.0ms preprocess, 58.8ms inference, 1.0ms postprocess per image at shape (1, 3, 384, 640)\n",
      "\n"
     ]
    },
    {
     "name": "stdout",
     "output_type": "stream",
     "text": [
      "[[510, 369, 561, 412, 0.6638906002044678, 'car'], [553, 337, 588, 361, 0.395420104265213, 'car'], [811, 372, 866, 411, 0.338312029838562, 'car'], [604, 306, 630, 327, 0.30295702815055847, 'car']]\n",
      "[[507, 371, 559, 415, 0.6139549016952515, 'car'], [812, 368, 862, 401, 0.41631296277046204, 'car'], [553, 338, 585, 363, 0.4091894030570984, 'car']]\n"
     ]
    },
    {
     "name": "stderr",
     "output_type": "stream",
     "text": [
      "0: 384x640 3 cars, 82.8ms\n",
      "Speed: 2.0ms preprocess, 82.8ms inference, 2.0ms postprocess per image at shape (1, 3, 384, 640)\n",
      "\n",
      "0: 384x640 4 cars, 66.8ms\n",
      "Speed: 2.0ms preprocess, 66.8ms inference, 1.0ms postprocess per image at shape (1, 3, 384, 640)\n",
      "\n"
     ]
    },
    {
     "name": "stdout",
     "output_type": "stream",
     "text": [
      "[[502, 374, 552, 423, 0.7951562404632568, 'car'], [808, 368, 861, 401, 0.7467750310897827, 'car'], [549, 339, 580, 364, 0.5504942536354065, 'car']]\n",
      "[[498, 372, 550, 428, 0.7944243550300598, 'car'], [806, 368, 855, 399, 0.7760093212127686, 'car'], [547, 340, 580, 366, 0.6432711482048035, 'car'], [599, 308, 626, 331, 0.3657274842262268, 'car']]\n"
     ]
    },
    {
     "name": "stderr",
     "output_type": "stream",
     "text": [
      "0: 384x640 4 cars, 61.8ms\n",
      "Speed: 2.0ms preprocess, 61.8ms inference, 2.0ms postprocess per image at shape (1, 3, 384, 640)\n",
      "\n",
      "0: 384x640 4 cars, 60.8ms\n",
      "Speed: 2.0ms preprocess, 60.8ms inference, 1.0ms postprocess per image at shape (1, 3, 384, 640)\n",
      "\n"
     ]
    },
    {
     "name": "stdout",
     "output_type": "stream",
     "text": [
      "[[493, 376, 545, 428, 0.7941973805427551, 'car'], [804, 368, 851, 396, 0.7593086361885071, 'car'], [546, 340, 579, 367, 0.4881139397621155, 'car'], [599, 307, 626, 331, 0.3818034529685974, 'car']]\n",
      "[[490, 377, 544, 431, 0.8045037984848022, 'car'], [803, 367, 850, 394, 0.7604905962944031, 'car'], [544, 342, 578, 370, 0.6329190731048584, 'car'], [599, 306, 625, 332, 0.3885901868343353, 'car']]\n"
     ]
    },
    {
     "name": "stderr",
     "output_type": "stream",
     "text": [
      "0: 384x640 4 cars, 68.8ms\n",
      "Speed: 2.0ms preprocess, 68.8ms inference, 1.0ms postprocess per image at shape (1, 3, 384, 640)\n",
      "\n",
      "0: 384x640 5 cars, 68.8ms\n",
      "Speed: 2.0ms preprocess, 68.8ms inference, 1.0ms postprocess per image at shape (1, 3, 384, 640)\n",
      "\n"
     ]
    },
    {
     "name": "stdout",
     "output_type": "stream",
     "text": [
      "[[802, 367, 849, 393, 0.7474063634872437, 'car'], [486, 378, 541, 436, 0.6549060940742493, 'car'], [542, 341, 577, 371, 0.6143808960914612, 'car'], [597, 307, 624, 333, 0.36730748414993286, 'car']]\n",
      "[[537, 343, 575, 373, 0.6786291599273682, 'car'], [801, 362, 847, 389, 0.5959157943725586, 'car'], [476, 386, 537, 443, 0.529355525970459, 'car'], [596, 308, 625, 334, 0.48187461495399475, 'car']]\n"
     ]
    },
    {
     "name": "stderr",
     "output_type": "stream",
     "text": [
      "0: 384x640 5 cars, 66.8ms\n",
      "Speed: 2.0ms preprocess, 66.8ms inference, 1.0ms postprocess per image at shape (1, 3, 384, 640)\n",
      "\n",
      "0: 384x640 6 cars, 72.8ms\n",
      "Speed: 2.0ms preprocess, 72.8ms inference, 1.0ms postprocess per image at shape (1, 3, 384, 640)\n",
      "\n"
     ]
    },
    {
     "name": "stdout",
     "output_type": "stream",
     "text": [
      "[[537, 343, 574, 375, 0.7348663210868835, 'car'], [798, 360, 847, 389, 0.6450134515762329, 'car'], [471, 384, 541, 446, 0.538698136806488, 'car'], [595, 309, 623, 335, 0.5088575482368469, 'car']]\n",
      "[[796, 359, 848, 389, 0.7176922559738159, 'car'], [535, 343, 572, 376, 0.6657093167304993, 'car'], [594, 310, 622, 336, 0.569783091545105, 'car'], [467, 387, 554, 451, 0.4698916971683502, 'car']]\n"
     ]
    },
    {
     "name": "stderr",
     "output_type": "stream",
     "text": [
      "0: 384x640 6 cars, 62.8ms\n",
      "Speed: 2.0ms preprocess, 62.8ms inference, 1.0ms postprocess per image at shape (1, 3, 384, 640)\n",
      "\n",
      "0: 384x640 4 cars, 60.8ms\n",
      "Speed: 2.0ms preprocess, 60.8ms inference, 1.0ms postprocess per image at shape (1, 3, 384, 640)\n",
      "\n"
     ]
    },
    {
     "name": "stdout",
     "output_type": "stream",
     "text": [
      "[[793, 358, 844, 386, 0.7657278776168823, 'car'], [593, 310, 623, 336, 0.6005817651748657, 'car'], [463, 394, 527, 455, 0.5860678553581238, 'car'], [533, 344, 570, 377, 0.5378319025039673, 'car']]\n",
      "[[793, 357, 844, 385, 0.7579296827316284, 'car'], [458, 391, 523, 460, 0.6668509840965271, 'car'], [592, 312, 620, 336, 0.6187371611595154, 'car'], [530, 347, 566, 379, 0.5402794480323792, 'car']]\n"
     ]
    },
    {
     "name": "stderr",
     "output_type": "stream",
     "text": [
      "0: 384x640 5 cars, 68.8ms\n",
      "Speed: 3.0ms preprocess, 68.8ms inference, 1.0ms postprocess per image at shape (1, 3, 384, 640)\n",
      "\n",
      "0: 384x640 5 cars, 62.8ms\n",
      "Speed: 3.0ms preprocess, 62.8ms inference, 1.0ms postprocess per image at shape (1, 3, 384, 640)\n",
      "\n"
     ]
    },
    {
     "name": "stdout",
     "output_type": "stream",
     "text": [
      "[[447, 401, 514, 468, 0.7918127179145813, 'car'], [792, 355, 835, 382, 0.7833842039108276, 'car'], [590, 314, 616, 337, 0.6395097374916077, 'car'], [528, 349, 564, 383, 0.43420204520225525, 'car']]\n",
      "[[792, 353, 834, 381, 0.7753462195396423, 'car'], [441, 404, 511, 472, 0.7581613659858704, 'car'], [589, 314, 616, 337, 0.5917277336120605, 'car'], [525, 350, 564, 383, 0.5760494470596313, 'car']]\n"
     ]
    },
    {
     "name": "stderr",
     "output_type": "stream",
     "text": [
      "0: 384x640 5 cars, 75.8ms\n",
      "Speed: 2.0ms preprocess, 75.8ms inference, 1.0ms postprocess per image at shape (1, 3, 384, 640)\n",
      "\n",
      "0: 384x640 5 cars, 60.9ms\n",
      "Speed: 2.0ms preprocess, 60.9ms inference, 1.0ms postprocess per image at shape (1, 3, 384, 640)\n",
      "\n"
     ]
    },
    {
     "name": "stdout",
     "output_type": "stream",
     "text": [
      "[[791, 353, 834, 379, 0.7257089018821716, 'car'], [523, 352, 562, 384, 0.6159456372261047, 'car'], [589, 314, 616, 337, 0.6056440472602844, 'car'], [434, 404, 508, 478, 0.5816371440887451, 'car']]\n",
      "[[790, 352, 836, 378, 0.6354139447212219, 'car'], [521, 354, 561, 387, 0.6008142232894897, 'car'], [589, 314, 616, 338, 0.595392107963562, 'car'], [430, 409, 505, 487, 0.5768274664878845, 'car']]\n"
     ]
    },
    {
     "name": "stderr",
     "output_type": "stream",
     "text": [
      "0: 384x640 7 cars, 60.8ms\n",
      "Speed: 3.0ms preprocess, 60.8ms inference, 1.0ms postprocess per image at shape (1, 3, 384, 640)\n",
      "\n",
      "0: 384x640 6 cars, 63.8ms\n",
      "Speed: 2.0ms preprocess, 63.8ms inference, 1.0ms postprocess per image at shape (1, 3, 384, 640)\n",
      "\n"
     ]
    },
    {
     "name": "stdout",
     "output_type": "stream",
     "text": [
      "[[790, 350, 831, 375, 0.7510853409767151, 'car'], [423, 415, 499, 491, 0.7408862709999084, 'car'], [518, 357, 556, 390, 0.5968788862228394, 'car'], [587, 315, 615, 339, 0.5788649320602417, 'car'], [917, 735, 1085, 765, 0.4912043511867523, 'car']]\n",
      "[[408, 421, 490, 504, 0.8474574089050293, 'car'], [788, 348, 825, 371, 0.7488880157470703, 'car'], [890, 677, 1072, 765, 0.6275657415390015, 'car'], [512, 359, 555, 394, 0.6084240078926086, 'car'], [586, 315, 614, 340, 0.5162314772605896, 'car']]\n"
     ]
    },
    {
     "name": "stderr",
     "output_type": "stream",
     "text": [
      "0: 384x640 6 cars, 58.8ms\n",
      "Speed: 3.0ms preprocess, 58.8ms inference, 1.0ms postprocess per image at shape (1, 3, 384, 640)\n",
      "\n",
      "0: 384x640 6 cars, 64.9ms\n",
      "Speed: 2.0ms preprocess, 64.9ms inference, 1.0ms postprocess per image at shape (1, 3, 384, 640)\n",
      "\n"
     ]
    },
    {
     "name": "stdout",
     "output_type": "stream",
     "text": [
      "[[786, 347, 824, 370, 0.7251027822494507, 'car'], [401, 424, 484, 507, 0.6527893543243408, 'car'], [510, 359, 552, 395, 0.6298809051513672, 'car'], [879, 650, 1042, 764, 0.5410476922988892, 'car'], [583, 315, 614, 341, 0.46198412775993347, 'car']]\n",
      "[[507, 359, 548, 397, 0.7525962591171265, 'car'], [785, 345, 821, 370, 0.7515261173248291, 'car'], [395, 428, 480, 515, 0.6362937688827515, 'car'], [868, 616, 1020, 762, 0.5100213289260864, 'car'], [582, 316, 613, 341, 0.43471577763557434, 'car']]\n"
     ]
    },
    {
     "name": "stderr",
     "output_type": "stream",
     "text": [
      "0: 384x640 5 cars, 72.8ms\n",
      "Speed: 2.0ms preprocess, 72.8ms inference, 1.0ms postprocess per image at shape (1, 3, 384, 640)\n",
      "\n",
      "0: 384x640 5 cars, 63.8ms\n",
      "Speed: 3.0ms preprocess, 63.8ms inference, 1.0ms postprocess per image at shape (1, 3, 384, 640)\n",
      "\n"
     ]
    },
    {
     "name": "stdout",
     "output_type": "stream",
     "text": [
      "[[504, 361, 545, 399, 0.7758089303970337, 'car'], [383, 434, 473, 520, 0.7593372464179993, 'car'], [785, 345, 821, 368, 0.6517723798751831, 'car'], [862, 610, 1000, 736, 0.6177797317504883, 'car'], [580, 315, 612, 342, 0.36868101358413696, 'car']]\n",
      "[[374, 437, 469, 532, 0.8191831707954407, 'car'], [503, 362, 544, 401, 0.803203284740448, 'car'], [851, 593, 980, 703, 0.716305673122406, 'car'], [784, 344, 818, 367, 0.6351988911628723, 'car'], [579, 318, 610, 343, 0.309256911277771, 'car']]\n"
     ]
    },
    {
     "name": "stderr",
     "output_type": "stream",
     "text": [
      "0: 384x640 5 cars, 63.9ms\n",
      "Speed: 3.0ms preprocess, 63.9ms inference, 1.0ms postprocess per image at shape (1, 3, 384, 640)\n",
      "\n",
      "0: 384x640 6 cars, 62.9ms\n",
      "Speed: 1.0ms preprocess, 62.9ms inference, 1.0ms postprocess per image at shape (1, 3, 384, 640)\n",
      "\n"
     ]
    },
    {
     "name": "stdout",
     "output_type": "stream",
     "text": [
      "[[497, 365, 541, 407, 0.7207931280136108, 'car'], [782, 342, 815, 363, 0.6684425473213196, 'car'], [356, 448, 455, 552, 0.6015491485595703, 'car'], [838, 562, 952, 658, 0.5765662789344788, 'car'], [577, 321, 606, 344, 0.4164144694805145, 'car']]\n",
      "[[495, 366, 539, 408, 0.736345648765564, 'car'], [345, 452, 450, 557, 0.7311787605285645, 'car'], [781, 340, 815, 363, 0.7041817307472229, 'car'], [830, 547, 938, 642, 0.6741708517074585, 'car'], [576, 320, 606, 345, 0.5138944983482361, 'car']]\n"
     ]
    },
    {
     "name": "stderr",
     "output_type": "stream",
     "text": [
      "0: 384x640 6 cars, 78.8ms\n",
      "Speed: 5.0ms preprocess, 78.8ms inference, 1.0ms postprocess per image at shape (1, 3, 384, 640)\n",
      "\n",
      "0: 384x640 6 cars, 65.8ms\n",
      "Speed: 3.0ms preprocess, 65.8ms inference, 1.0ms postprocess per image at shape (1, 3, 384, 640)\n",
      "\n"
     ]
    },
    {
     "name": "stdout",
     "output_type": "stream",
     "text": [
      "[[492, 366, 539, 409, 0.7040939927101135, 'car'], [822, 536, 928, 624, 0.6684488654136658, 'car'], [332, 457, 443, 572, 0.6672807335853577, 'car'], [780, 339, 815, 361, 0.562470018863678, 'car'], [575, 322, 606, 346, 0.5316575765609741, 'car']]\n",
      "[[489, 368, 536, 411, 0.7681117653846741, 'car'], [322, 465, 437, 581, 0.6151064038276672, 'car'], [573, 323, 604, 346, 0.5922945737838745, 'car'], [817, 525, 916, 608, 0.48590514063835144, 'car'], [777, 339, 813, 360, 0.3756158649921417, 'car']]\n"
     ]
    },
    {
     "name": "stderr",
     "output_type": "stream",
     "text": [
      "0: 384x640 6 cars, 62.8ms\n",
      "Speed: 2.0ms preprocess, 62.8ms inference, 0.0ms postprocess per image at shape (1, 3, 384, 640)\n",
      "\n",
      "0: 384x640 6 cars, 62.9ms\n",
      "Speed: 2.0ms preprocess, 62.9ms inference, 1.0ms postprocess per image at shape (1, 3, 384, 640)\n",
      "\n"
     ]
    },
    {
     "name": "stdout",
     "output_type": "stream",
     "text": [
      "[[487, 370, 532, 413, 0.7781912088394165, 'car'], [308, 470, 430, 593, 0.7220165729522705, 'car'], [572, 323, 604, 347, 0.6140706539154053, 'car'], [811, 504, 907, 591, 0.4569987952709198, 'car'], [777, 337, 810, 357, 0.3386910557746887, 'car']]\n",
      "[[281, 486, 413, 614, 0.7537586688995361, 'car'], [803, 497, 889, 569, 0.7497127652168274, 'car'], [570, 324, 605, 351, 0.6119356751441956, 'car'], [478, 375, 525, 420, 0.4874820113182068, 'car'], [776, 336, 809, 356, 0.36726537346839905, 'car']]\n"
     ]
    },
    {
     "name": "stderr",
     "output_type": "stream",
     "text": [
      "0: 384x640 6 cars, 63.8ms\n",
      "Speed: 2.0ms preprocess, 63.8ms inference, 1.0ms postprocess per image at shape (1, 3, 384, 640)\n",
      "\n",
      "0: 384x640 6 cars, 64.8ms\n",
      "Speed: 2.0ms preprocess, 64.8ms inference, 1.0ms postprocess per image at shape (1, 3, 384, 640)\n",
      "\n"
     ]
    },
    {
     "name": "stdout",
     "output_type": "stream",
     "text": [
      "[[265, 494, 403, 626, 0.7973058819770813, 'car'], [568, 324, 604, 352, 0.6290798187255859, 'car'], [474, 378, 522, 422, 0.5673408508300781, 'car'], [803, 487, 882, 555, 0.5229222178459167, 'car'], [775, 336, 810, 355, 0.4315599501132965, 'car']]\n",
      "[[247, 505, 390, 645, 0.7754493355751038, 'car'], [469, 380, 520, 425, 0.6183270812034607, 'car'], [566, 324, 600, 352, 0.6039866805076599, 'car'], [797, 481, 875, 547, 0.518900454044342, 'car'], [775, 334, 810, 354, 0.4407937228679657, 'car']]\n"
     ]
    },
    {
     "name": "stderr",
     "output_type": "stream",
     "text": [
      "0: 384x640 7 cars, 67.8ms\n",
      "Speed: 3.0ms preprocess, 67.8ms inference, 1.0ms postprocess per image at shape (1, 3, 384, 640)\n",
      "\n",
      "0: 384x640 6 cars, 65.8ms\n",
      "Speed: 2.0ms preprocess, 65.8ms inference, 1.0ms postprocess per image at shape (1, 3, 384, 640)\n",
      "\n"
     ]
    },
    {
     "name": "stdout",
     "output_type": "stream",
     "text": [
      "[[227, 512, 380, 660, 0.8008297085762024, 'car'], [565, 324, 598, 353, 0.6071074604988098, 'car'], [790, 475, 869, 537, 0.5961585640907288, 'car'], [467, 381, 517, 426, 0.5881087183952332, 'car'], [774, 333, 808, 354, 0.48092275857925415, 'car']]\n",
      "[[207, 523, 370, 675, 0.7505711317062378, 'car'], [462, 382, 518, 431, 0.6925338506698608, 'car'], [564, 326, 607, 354, 0.5704275965690613, 'car'], [787, 468, 864, 530, 0.5338295698165894, 'car'], [775, 333, 805, 353, 0.4523645341396332, 'car']]\n"
     ]
    },
    {
     "name": "stderr",
     "output_type": "stream",
     "text": [
      "0: 384x640 6 cars, 59.8ms\n",
      "Speed: 2.0ms preprocess, 59.8ms inference, 1.0ms postprocess per image at shape (1, 3, 384, 640)\n",
      "\n",
      "0: 384x640 7 cars, 69.8ms\n",
      "Speed: 3.0ms preprocess, 69.8ms inference, 1.0ms postprocess per image at shape (1, 3, 384, 640)\n",
      "\n"
     ]
    },
    {
     "name": "stdout",
     "output_type": "stream",
     "text": [
      "[[158, 546, 344, 721, 0.8460047245025635, 'car'], [454, 386, 507, 437, 0.6966221928596497, 'car'], [562, 328, 614, 358, 0.6344789266586304, 'car'], [773, 332, 804, 351, 0.4165525734424591, 'car'], [781, 450, 852, 512, 0.3960910439491272, 'car']]\n",
      "[[130, 559, 328, 748, 0.8589369654655457, 'car'], [451, 389, 503, 441, 0.7227895855903625, 'car'], [560, 327, 614, 359, 0.6494797468185425, 'car'], [781, 446, 845, 505, 0.43091708421707153, 'car'], [773, 332, 803, 350, 0.32347655296325684, 'car']]\n"
     ]
    },
    {
     "name": "stderr",
     "output_type": "stream",
     "text": [
      "0: 384x640 7 cars, 64.8ms\n",
      "Speed: 2.0ms preprocess, 64.8ms inference, 1.0ms postprocess per image at shape (1, 3, 384, 640)\n",
      "\n",
      "0: 384x640 8 cars, 62.8ms\n",
      "Speed: 2.0ms preprocess, 62.8ms inference, 1.0ms postprocess per image at shape (1, 3, 384, 640)\n",
      "\n"
     ]
    },
    {
     "name": "stdout",
     "output_type": "stream",
     "text": [
      "[[101, 574, 313, 764, 0.8207970857620239, 'car'], [445, 390, 502, 444, 0.7741954922676086, 'car'], [776, 442, 842, 497, 0.6878432631492615, 'car'], [560, 328, 592, 358, 0.5503101944923401, 'car'], [773, 331, 802, 349, 0.46512049436569214, 'car']]\n",
      "[[441, 391, 500, 446, 0.7573748230934143, 'car'], [70, 590, 294, 764, 0.7465011477470398, 'car'], [775, 438, 836, 491, 0.5739128589630127, 'car'], [558, 328, 591, 359, 0.5255138874053955, 'car'], [772, 328, 802, 349, 0.4834462106227875, 'car']]\n"
     ]
    },
    {
     "name": "stderr",
     "output_type": "stream",
     "text": [
      "0: 384x640 7 cars, 64.8ms\n",
      "Speed: 2.0ms preprocess, 64.8ms inference, 1.0ms postprocess per image at shape (1, 3, 384, 640)\n",
      "\n",
      "0: 384x640 5 cars, 62.8ms\n",
      "Speed: 2.0ms preprocess, 62.8ms inference, 1.0ms postprocess per image at shape (1, 3, 384, 640)\n",
      "\n"
     ]
    },
    {
     "name": "stdout",
     "output_type": "stream",
     "text": [
      "[[40, 608, 275, 763, 0.8254856467247009, 'car'], [437, 394, 495, 451, 0.8055555820465088, 'car'], [771, 435, 831, 484, 0.46332600712776184, 'car'], [556, 328, 592, 361, 0.41785725951194763, 'car'], [772, 329, 801, 349, 0.39391058683395386, 'car']]\n",
      "[[427, 399, 487, 459, 0.8070283532142639, 'car'], [554, 329, 588, 364, 0.545773983001709, 'car'], [767, 424, 828, 474, 0.5177360773086548, 'car'], [770, 327, 802, 347, 0.4417528808116913, 'car'], [645, 303, 670, 326, 0.3909711539745331, 'car']]\n"
     ]
    },
    {
     "name": "stderr",
     "output_type": "stream",
     "text": [
      "0: 384x640 5 cars, 62.8ms\n",
      "Speed: 2.0ms preprocess, 62.8ms inference, 1.0ms postprocess per image at shape (1, 3, 384, 640)\n",
      "\n",
      "0: 384x640 5 cars, 94.8ms\n",
      "Speed: 2.0ms preprocess, 94.8ms inference, 1.0ms postprocess per image at shape (1, 3, 384, 640)\n",
      "\n"
     ]
    },
    {
     "name": "stdout",
     "output_type": "stream",
     "text": [
      "[[421, 403, 486, 462, 0.824104368686676, 'car'], [643, 304, 670, 327, 0.5029264092445374, 'car'], [549, 339, 587, 364, 0.45694872736930847, 'car'], [767, 421, 827, 469, 0.4273426830768585, 'car'], [769, 327, 799, 346, 0.329677551984787, 'car']]\n",
      "[[417, 404, 482, 467, 0.8659334182739258, 'car'], [642, 305, 670, 328, 0.5424016118049622, 'car'], [549, 337, 584, 365, 0.5206122994422913, 'car'], [769, 325, 800, 345, 0.30545786023139954, 'car']]\n"
     ]
    },
    {
     "name": "stderr",
     "output_type": "stream",
     "text": [
      "0: 384x640 4 cars, 59.8ms\n",
      "Speed: 2.0ms preprocess, 59.8ms inference, 1.0ms postprocess per image at shape (1, 3, 384, 640)\n",
      "\n",
      "0: 384x640 5 cars, 67.8ms\n",
      "Speed: 2.0ms preprocess, 67.8ms inference, 1.0ms postprocess per image at shape (1, 3, 384, 640)\n",
      "\n"
     ]
    },
    {
     "name": "stdout",
     "output_type": "stream",
     "text": [
      "[[408, 410, 479, 471, 0.8580552339553833, 'car'], [641, 307, 670, 328, 0.5953509211540222, 'car'], [548, 338, 582, 365, 0.5565286874771118, 'car'], [761, 412, 828, 460, 0.39493927359580994, 'car']]\n",
      "[[404, 411, 473, 475, 0.7310925126075745, 'car'], [641, 307, 670, 329, 0.6145167946815491, 'car'], [547, 338, 580, 366, 0.5485624074935913, 'car'], [761, 407, 812, 455, 0.5412429571151733, 'car']]\n"
     ]
    },
    {
     "name": "stderr",
     "output_type": "stream",
     "text": [
      "0: 384x640 4 cars, 57.8ms\n",
      "Speed: 3.0ms preprocess, 57.8ms inference, 1.0ms postprocess per image at shape (1, 3, 384, 640)\n",
      "\n",
      "0: 384x640 4 cars, 60.8ms\n",
      "Speed: 3.0ms preprocess, 60.8ms inference, 1.0ms postprocess per image at shape (1, 3, 384, 640)\n",
      "\n"
     ]
    },
    {
     "name": "stdout",
     "output_type": "stream",
     "text": [
      "[[390, 417, 464, 486, 0.7013295292854309, 'car'], [544, 338, 579, 370, 0.6222448945045471, 'car'], [641, 308, 670, 330, 0.4784315228462219, 'car'], [758, 403, 811, 445, 0.34491148591041565, 'car']]\n",
      "[[540, 339, 580, 372, 0.6376831531524658, 'car'], [383, 421, 462, 491, 0.5695870518684387, 'car'], [641, 309, 669, 330, 0.4204210937023163, 'car'], [755, 399, 807, 442, 0.41895028948783875, 'car']]\n"
     ]
    },
    {
     "name": "stderr",
     "output_type": "stream",
     "text": [
      "0: 384x640 4 cars, 65.8ms\n",
      "Speed: 2.0ms preprocess, 65.8ms inference, 1.0ms postprocess per image at shape (1, 3, 384, 640)\n",
      "\n",
      "0: 384x640 5 cars, 60.8ms\n",
      "Speed: 2.0ms preprocess, 60.8ms inference, 1.0ms postprocess per image at shape (1, 3, 384, 640)\n",
      "\n"
     ]
    },
    {
     "name": "stdout",
     "output_type": "stream",
     "text": [
      "[[374, 424, 453, 499, 0.7527291178703308, 'car'], [538, 341, 576, 373, 0.7074221968650818, 'car'], [640, 311, 668, 331, 0.43805456161499023, 'car']]\n",
      "[[368, 430, 448, 504, 0.8051598072052002, 'car'], [537, 341, 575, 375, 0.7576336860656738, 'car'], [754, 394, 804, 432, 0.5068104267120361, 'car'], [639, 311, 668, 331, 0.4231548309326172, 'car']]\n"
     ]
    },
    {
     "name": "stderr",
     "output_type": "stream",
     "text": [
      "0: 384x640 4 cars, 60.8ms\n",
      "Speed: 3.0ms preprocess, 60.8ms inference, 1.0ms postprocess per image at shape (1, 3, 384, 640)\n",
      "\n",
      "0: 384x640 4 cars, 70.8ms\n",
      "Speed: 2.0ms preprocess, 70.8ms inference, 1.0ms postprocess per image at shape (1, 3, 384, 640)\n",
      "\n"
     ]
    },
    {
     "name": "stdout",
     "output_type": "stream",
     "text": [
      "[[535, 341, 573, 375, 0.8000274896621704, 'car'], [362, 432, 445, 509, 0.7507255673408508, 'car'], [753, 389, 807, 429, 0.5599664449691772, 'car'], [638, 312, 666, 332, 0.378048837184906, 'car']]\n",
      "[[532, 342, 570, 378, 0.7140805125236511, 'car'], [345, 438, 433, 522, 0.7133393883705139, 'car'], [751, 385, 812, 424, 0.3730011582374573, 'car'], [638, 314, 665, 333, 0.3402469754219055, 'car']]\n"
     ]
    },
    {
     "name": "stderr",
     "output_type": "stream",
     "text": [
      "0: 384x640 5 cars, 66.3ms\n",
      "Speed: 3.0ms preprocess, 66.3ms inference, 1.0ms postprocess per image at shape (1, 3, 384, 640)\n",
      "\n",
      "0: 384x640 5 cars, 76.8ms\n",
      "Speed: 3.0ms preprocess, 76.8ms inference, 1.0ms postprocess per image at shape (1, 3, 384, 640)\n",
      "\n"
     ]
    },
    {
     "name": "stdout",
     "output_type": "stream",
     "text": [
      "[[335, 443, 426, 532, 0.7674477100372314, 'car'], [530, 343, 567, 380, 0.6270825862884521, 'car'], [750, 381, 797, 418, 0.5412752032279968, 'car'], [637, 314, 663, 334, 0.32620444893836975, 'car']]\n",
      "[[326, 449, 420, 541, 0.7737687230110168, 'car'], [529, 346, 565, 383, 0.5304080247879028, 'car'], [748, 379, 793, 415, 0.5147240161895752, 'car'], [636, 314, 664, 335, 0.34188413619995117, 'car']]\n"
     ]
    },
    {
     "name": "stderr",
     "output_type": "stream",
     "text": [
      "0: 384x640 4 cars, 65.8ms\n",
      "Speed: 2.0ms preprocess, 65.8ms inference, 1.0ms postprocess per image at shape (1, 3, 384, 640)\n",
      "\n",
      "0: 384x640 3 cars, 59.8ms\n",
      "Speed: 2.0ms preprocess, 59.8ms inference, 1.0ms postprocess per image at shape (1, 3, 384, 640)\n",
      "\n"
     ]
    },
    {
     "name": "stdout",
     "output_type": "stream",
     "text": [
      "[[317, 455, 413, 548, 0.810133695602417, 'car'], [748, 376, 789, 411, 0.47311121225357056, 'car'], [526, 343, 566, 383, 0.40464138984680176, 'car']]\n",
      "[[306, 459, 407, 555, 0.8426718711853027, 'car'], [525, 344, 565, 383, 0.4555254578590393, 'car'], [747, 373, 789, 408, 0.3551546335220337, 'car']]\n"
     ]
    },
    {
     "name": "stderr",
     "output_type": "stream",
     "text": [
      "0: 384x640 3 cars, 61.9ms\n",
      "Speed: 3.0ms preprocess, 61.9ms inference, 1.0ms postprocess per image at shape (1, 3, 384, 640)\n",
      "\n",
      "0: 384x640 3 cars, 69.8ms\n",
      "Speed: 2.0ms preprocess, 69.8ms inference, 1.0ms postprocess per image at shape (1, 3, 384, 640)\n",
      "\n",
      "0: 384x640 5 cars, 57.8ms\n"
     ]
    },
    {
     "name": "stdout",
     "output_type": "stream",
     "text": [
      "[[284, 472, 392, 575, 0.8578299283981323, 'car'], [746, 369, 795, 404, 0.48495185375213623, 'car']]\n",
      "[[272, 477, 383, 587, 0.689472496509552, 'car'], [516, 360, 556, 391, 0.3570323586463928, 'car']]\n"
     ]
    },
    {
     "name": "stderr",
     "output_type": "stream",
     "text": [
      "Speed: 1.0ms preprocess, 57.8ms inference, 1.0ms postprocess per image at shape (1, 3, 384, 640)\n",
      "\n",
      "0: 384x640 5 cars, 63.8ms\n",
      "Speed: 2.0ms preprocess, 63.8ms inference, 2.0ms postprocess per image at shape (1, 3, 384, 640)\n",
      "\n"
     ]
    },
    {
     "name": "stdout",
     "output_type": "stream",
     "text": [
      "[[259, 483, 374, 594, 0.813454270362854, 'car'], [512, 353, 556, 392, 0.4880068898200989, 'car'], [742, 366, 794, 399, 0.37707072496414185, 'car']]\n",
      "[[244, 489, 367, 607, 0.7467153668403625, 'car'], [511, 355, 553, 393, 0.5641571283340454, 'car'], [742, 363, 795, 396, 0.540822446346283, 'car']]\n"
     ]
    },
    {
     "name": "stderr",
     "output_type": "stream",
     "text": [
      "0: 384x640 6 cars, 63.8ms\n",
      "Speed: 2.0ms preprocess, 63.8ms inference, 1.0ms postprocess per image at shape (1, 3, 384, 640)\n",
      "\n",
      "0: 384x640 6 cars, 69.8ms\n",
      "Speed: 3.0ms preprocess, 69.8ms inference, 1.0ms postprocess per image at shape (1, 3, 384, 640)\n",
      "\n"
     ]
    },
    {
     "name": "stdout",
     "output_type": "stream",
     "text": [
      "[[229, 496, 357, 622, 0.8495779037475586, 'car'], [509, 356, 552, 394, 0.5965476632118225, 'car'], [742, 362, 782, 392, 0.5345215201377869, 'car'], [762, 312, 785, 331, 0.3660641014575958, 'car']]\n",
      "[[196, 513, 336, 648, 0.7656678557395935, 'car'], [741, 359, 783, 390, 0.7474724054336548, 'car'], [503, 358, 547, 400, 0.5866988897323608, 'car'], [627, 323, 656, 343, 0.3403699994087219, 'car'], [1115, 697, 1323, 761, 0.3226347863674164, 'car']]\n"
     ]
    },
    {
     "name": "stderr",
     "output_type": "stream",
     "text": [
      "0: 384x640 6 cars, 64.8ms\n",
      "Speed: 2.0ms preprocess, 64.8ms inference, 1.0ms postprocess per image at shape (1, 3, 384, 640)\n",
      "\n",
      "0: 384x640 6 cars, 71.8ms\n",
      "Speed: 2.0ms preprocess, 71.8ms inference, 1.0ms postprocess per image at shape (1, 3, 384, 640)\n",
      "\n"
     ]
    },
    {
     "name": "stdout",
     "output_type": "stream",
     "text": [
      "[[177, 521, 324, 663, 0.808303713798523, 'car'], [500, 359, 544, 401, 0.6789487600326538, 'car'], [740, 359, 778, 387, 0.674472987651825, 'car'], [1092, 675, 1299, 765, 0.608325183391571, 'car'], [627, 324, 655, 345, 0.42666754126548767, 'car']]\n",
      "[[157, 530, 311, 679, 0.8247624039649963, 'car'], [1075, 652, 1268, 766, 0.7629355788230896, 'car'], [740, 357, 775, 384, 0.7391117811203003, 'car'], [498, 359, 542, 403, 0.6874578595161438, 'car'], [626, 325, 654, 345, 0.35831180214881897, 'car']]\n"
     ]
    },
    {
     "name": "stderr",
     "output_type": "stream",
     "text": [
      "0: 384x640 6 cars, 61.8ms\n",
      "Speed: 2.0ms preprocess, 61.8ms inference, 1.0ms postprocess per image at shape (1, 3, 384, 640)\n",
      "\n",
      "0: 384x640 6 cars, 59.8ms\n",
      "Speed: 1.0ms preprocess, 59.8ms inference, 1.0ms postprocess per image at shape (1, 3, 384, 640)\n",
      "\n"
     ]
    },
    {
     "name": "stdout",
     "output_type": "stream",
     "text": [
      "[[136, 540, 297, 695, 0.8092767000198364, 'car'], [740, 355, 775, 383, 0.7271645665168762, 'car'], [1055, 630, 1238, 759, 0.6847925782203674, 'car'], [495, 362, 543, 408, 0.6321058869361877, 'car'], [625, 326, 654, 347, 0.45271196961402893, 'car']]\n",
      "[[110, 554, 283, 715, 0.8537957072257996, 'car'], [1038, 613, 1207, 732, 0.7813112735748291, 'car'], [739, 352, 777, 382, 0.7283591032028198, 'car'], [492, 362, 539, 408, 0.585961103439331, 'car'], [624, 327, 654, 348, 0.4222257733345032, 'car']]\n"
     ]
    },
    {
     "name": "stderr",
     "output_type": "stream",
     "text": [
      "0: 384x640 5 cars, 68.8ms\n",
      "Speed: 2.0ms preprocess, 68.8ms inference, 1.0ms postprocess per image at shape (1, 3, 384, 640)\n",
      "\n",
      "0: 384x640 5 cars, 63.8ms\n",
      "Speed: 3.0ms preprocess, 63.8ms inference, 1.0ms postprocess per image at shape (1, 3, 384, 640)\n",
      "\n"
     ]
    },
    {
     "name": "stdout",
     "output_type": "stream",
     "text": [
      "[[1011, 581, 1159, 685, 0.8095120787620544, 'car'], [55, 579, 253, 760, 0.8084408640861511, 'car'], [487, 366, 537, 411, 0.5775480270385742, 'car'], [738, 349, 771, 376, 0.47685369849205017, 'car'], [621, 329, 653, 349, 0.46205058693885803, 'car']]\n",
      "[[999, 566, 1136, 667, 0.7852259278297424, 'car'], [26, 591, 232, 761, 0.75804603099823, 'car'], [483, 367, 535, 414, 0.5923953056335449, 'car'], [737, 347, 771, 374, 0.545380175113678, 'car'], [620, 330, 652, 350, 0.4508494734764099, 'car']]\n"
     ]
    },
    {
     "name": "stderr",
     "output_type": "stream",
     "text": [
      "0: 384x640 5 cars, 61.8ms\n",
      "Speed: 2.0ms preprocess, 61.8ms inference, 1.0ms postprocess per image at shape (1, 3, 384, 640)\n",
      "\n",
      "0: 384x640 5 cars, 61.8ms\n",
      "Speed: 2.0ms preprocess, 61.8ms inference, 1.0ms postprocess per image at shape (1, 3, 384, 640)\n",
      "\n"
     ]
    },
    {
     "name": "stdout",
     "output_type": "stream",
     "text": [
      "[[1, 607, 217, 763, 0.7891665101051331, 'car'], [986, 554, 1119, 650, 0.7492493987083435, 'car'], [737, 345, 771, 373, 0.6107484698295593, 'car'], [479, 367, 531, 417, 0.5523076057434082, 'car'], [619, 330, 650, 352, 0.4183218479156494, 'car']]\n",
      "[[975, 544, 1100, 631, 0.7447357177734375, 'car'], [736, 343, 774, 373, 0.5649626851081848, 'car'], [0, 614, 275, 763, 0.5070698261260986, 'car'], [617, 331, 649, 354, 0.45037996768951416, 'car'], [476, 373, 527, 420, 0.41242989897727966, 'car']]\n"
     ]
    },
    {
     "name": "stderr",
     "output_type": "stream",
     "text": [
      "0: 384x640 4 cars, 61.9ms\n",
      "Speed: 2.0ms preprocess, 61.9ms inference, 1.0ms postprocess per image at shape (1, 3, 384, 640)\n",
      "\n",
      "0: 384x640 5 cars, 61.8ms\n",
      "Speed: 2.0ms preprocess, 61.8ms inference, 1.0ms postprocess per image at shape (1, 3, 384, 640)\n",
      "\n"
     ]
    },
    {
     "name": "stdout",
     "output_type": "stream",
     "text": [
      "[[966, 531, 1084, 617, 0.6444611549377441, 'car'], [735, 341, 771, 371, 0.570784330368042, 'car'], [615, 333, 648, 355, 0.5379055142402649, 'car'], [472, 373, 525, 422, 0.4238089323043823, 'car']]\n",
      "[[946, 507, 1054, 584, 0.6855542659759521, 'car'], [612, 335, 647, 359, 0.5142030715942383, 'car'], [463, 376, 521, 426, 0.4603292644023895, 'car'], [734, 341, 765, 367, 0.39186692237854004, 'car']]\n"
     ]
    },
    {
     "name": "stderr",
     "output_type": "stream",
     "text": [
      "0: 384x640 6 cars, 66.8ms\n",
      "Speed: 2.0ms preprocess, 66.8ms inference, 1.0ms postprocess per image at shape (1, 3, 384, 640)\n",
      "\n",
      "0: 384x640 5 cars, 55.9ms\n",
      "Speed: 1.0ms preprocess, 55.9ms inference, 1.0ms postprocess per image at shape (1, 3, 384, 640)\n",
      "\n"
     ]
    },
    {
     "name": "stdout",
     "output_type": "stream",
     "text": [
      "[[936, 505, 1040, 576, 0.6044907569885254, 'car'], [460, 377, 519, 430, 0.49399277567863464, 'car'], [611, 336, 649, 360, 0.4867091178894043, 'car'], [733, 340, 766, 364, 0.4596521854400635, 'car']]\n",
      "[[930, 496, 1028, 568, 0.688349723815918, 'car'], [610, 337, 649, 361, 0.5304262638092041, 'car'], [734, 339, 766, 363, 0.32732439041137695, 'car'], [457, 374, 514, 435, 0.3223608136177063, 'car']]\n"
     ]
    },
    {
     "name": "stderr",
     "output_type": "stream",
     "text": [
      "0: 384x640 3 cars, 65.8ms\n",
      "Speed: 2.0ms preprocess, 65.8ms inference, 1.0ms postprocess per image at shape (1, 3, 384, 640)\n",
      "\n",
      "0: 384x640 5 cars, 61.8ms\n",
      "Speed: 2.0ms preprocess, 61.8ms inference, 2.0ms postprocess per image at shape (1, 3, 384, 640)\n",
      "\n"
     ]
    },
    {
     "name": "stdout",
     "output_type": "stream",
     "text": [
      "[[920, 488, 1018, 560, 0.7293890714645386, 'car'], [609, 339, 646, 361, 0.5968908071517944, 'car'], [453, 382, 512, 438, 0.5387714505195618, 'car']]\n",
      "[[609, 339, 642, 362, 0.6763616800308228, 'car'], [915, 482, 1007, 550, 0.528072714805603, 'car'], [449, 386, 506, 442, 0.46817269921302795, 'car'], [732, 335, 766, 361, 0.40183138847351074, 'car']]\n"
     ]
    },
    {
     "name": "stderr",
     "output_type": "stream",
     "text": [
      "0: 384x640 4 cars, 63.8ms\n",
      "Speed: 2.0ms preprocess, 63.8ms inference, 1.0ms postprocess per image at shape (1, 3, 384, 640)\n",
      "\n",
      "0: 384x640 4 cars, 64.8ms\n",
      "Speed: 2.0ms preprocess, 64.8ms inference, 1.0ms postprocess per image at shape (1, 3, 384, 640)\n",
      "\n",
      "0: 384x640 4 cars, 61.8ms\n"
     ]
    },
    {
     "name": "stdout",
     "output_type": "stream",
     "text": [
      "[[439, 391, 503, 445, 0.7453792095184326, 'car'], [606, 342, 639, 365, 0.7322676777839661, 'car']]\n",
      "[[605, 343, 638, 366, 0.7350310683250427, 'car'], [896, 463, 978, 525, 0.6456466317176819, 'car'], [435, 396, 499, 452, 0.3297293782234192, 'car']]\n"
     ]
    },
    {
     "name": "stderr",
     "output_type": "stream",
     "text": [
      "Speed: 2.0ms preprocess, 61.8ms inference, 1.0ms postprocess per image at shape (1, 3, 384, 640)\n",
      "\n",
      "0: 384x640 4 cars, 60.8ms\n",
      "Speed: 1.0ms preprocess, 60.8ms inference, 1.0ms postprocess per image at shape (1, 3, 384, 640)\n",
      "\n"
     ]
    },
    {
     "name": "stdout",
     "output_type": "stream",
     "text": [
      "[[604, 344, 636, 367, 0.6811772584915161, 'car'], [431, 399, 493, 453, 0.6271869540214539, 'car'], [889, 458, 973, 512, 0.5161309242248535, 'car'], [731, 332, 763, 355, 0.3101348876953125, 'car']]\n",
      "[[601, 344, 635, 370, 0.6249139308929443, 'car'], [424, 397, 491, 460, 0.6113840341567993, 'car'], [886, 452, 964, 511, 0.5491267442703247, 'car']]\n"
     ]
    },
    {
     "name": "stderr",
     "output_type": "stream",
     "text": [
      "0: 384x640 3 cars, 57.8ms\n",
      "Speed: 2.0ms preprocess, 57.8ms inference, 1.0ms postprocess per image at shape (1, 3, 384, 640)\n",
      "\n",
      "0: 384x640 4 cars, 68.8ms\n",
      "Speed: 2.0ms preprocess, 68.8ms inference, 1.0ms postprocess per image at shape (1, 3, 384, 640)\n",
      "\n"
     ]
    },
    {
     "name": "stdout",
     "output_type": "stream",
     "text": [
      "[[419, 398, 488, 463, 0.7906063199043274, 'car'], [599, 345, 635, 372, 0.6317066550254822, 'car'], [882, 448, 956, 500, 0.5638408660888672, 'car']]\n",
      "[[408, 403, 482, 473, 0.7716163396835327, 'car'], [595, 346, 631, 373, 0.6507498621940613, 'car'], [872, 437, 940, 478, 0.5104236006736755, 'car']]\n"
     ]
    },
    {
     "name": "stderr",
     "output_type": "stream",
     "text": [
      "0: 384x640 3 cars, 58.8ms\n",
      "Speed: 2.0ms preprocess, 58.8ms inference, 1.0ms postprocess per image at shape (1, 3, 384, 640)\n",
      "\n",
      "0: 384x640 3 cars, 62.9ms\n",
      "Speed: 2.0ms preprocess, 62.9ms inference, 1.0ms postprocess per image at shape (1, 3, 384, 640)\n",
      "\n"
     ]
    },
    {
     "name": "stdout",
     "output_type": "stream",
     "text": [
      "[[401, 406, 479, 479, 0.6705687046051025, 'car'], [869, 434, 935, 478, 0.5994625091552734, 'car'], [594, 349, 632, 375, 0.5419838428497314, 'car']]\n",
      "[[398, 408, 471, 481, 0.5239810347557068, 'car'], [593, 352, 631, 377, 0.4589778482913971, 'car'], [865, 431, 930, 474, 0.4525381922721863, 'car']]\n"
     ]
    },
    {
     "name": "stderr",
     "output_type": "stream",
     "text": [
      "0: 384x640 4 cars, 81.8ms\n",
      "Speed: 2.0ms preprocess, 81.8ms inference, 1.0ms postprocess per image at shape (1, 3, 384, 640)\n",
      "\n",
      "0: 384x640 3 cars, 60.9ms\n",
      "Speed: 2.0ms preprocess, 60.9ms inference, 1.0ms postprocess per image at shape (1, 3, 384, 640)\n",
      "\n",
      "0: 384x640 3 cars, 60.8ms\n"
     ]
    },
    {
     "name": "stdout",
     "output_type": "stream",
     "text": [
      "[[390, 411, 469, 486, 0.5854421854019165, 'car'], [592, 352, 629, 378, 0.537917971611023, 'car'], [862, 424, 924, 464, 0.48497864603996277, 'car']]\n",
      "[[590, 353, 627, 380, 0.6229708790779114, 'car'], [383, 418, 467, 493, 0.5919045805931091, 'car'], [857, 419, 916, 461, 0.5901448726654053, 'car']]\n"
     ]
    },
    {
     "name": "stderr",
     "output_type": "stream",
     "text": [
      "Speed: 3.0ms preprocess, 60.8ms inference, 1.0ms postprocess per image at shape (1, 3, 384, 640)\n",
      "\n",
      "0: 384x640 4 cars, 66.9ms\n",
      "Speed: 2.0ms preprocess, 66.9ms inference, 1.0ms postprocess per image at shape (1, 3, 384, 640)\n",
      "\n",
      "0: 384x640 4 cars, 56.8ms\n"
     ]
    },
    {
     "name": "stdout",
     "output_type": "stream",
     "text": [
      "[[588, 358, 622, 384, 0.6758091449737549, 'car'], [368, 420, 457, 506, 0.6531820297241211, 'car'], [854, 416, 914, 461, 0.5246095061302185, 'car']]\n",
      "[[585, 359, 622, 388, 0.7389887571334839, 'car'], [362, 425, 450, 514, 0.6412733197212219, 'car'], [855, 414, 902, 439, 0.5073344111442566, 'car']]\n"
     ]
    },
    {
     "name": "stderr",
     "output_type": "stream",
     "text": [
      "Speed: 2.0ms preprocess, 56.8ms inference, 1.0ms postprocess per image at shape (1, 3, 384, 640)\n",
      "\n",
      "0: 384x640 3 cars, 61.8ms\n",
      "Speed: 2.0ms preprocess, 61.8ms inference, 1.0ms postprocess per image at shape (1, 3, 384, 640)\n",
      "\n"
     ]
    },
    {
     "name": "stdout",
     "output_type": "stream",
     "text": [
      "[[581, 360, 622, 389, 0.7281432747840881, 'car'], [352, 430, 445, 521, 0.6258047223091125, 'car'], [845, 407, 900, 445, 0.4625416398048401, 'car']]\n",
      "[[579, 361, 621, 391, 0.7372340559959412, 'car'], [842, 404, 896, 443, 0.6668423414230347, 'car'], [346, 432, 441, 524, 0.5547839403152466, 'car']]\n"
     ]
    },
    {
     "name": "stderr",
     "output_type": "stream",
     "text": [
      "0: 384x640 3 cars, 81.8ms\n",
      "Speed: 2.0ms preprocess, 81.8ms inference, 1.0ms postprocess per image at shape (1, 3, 384, 640)\n",
      "\n",
      "0: 384x640 4 cars, 62.8ms\n",
      "Speed: 2.0ms preprocess, 62.8ms inference, 1.0ms postprocess per image at shape (1, 3, 384, 640)\n",
      "\n"
     ]
    },
    {
     "name": "stdout",
     "output_type": "stream",
     "text": [
      "[[577, 361, 619, 393, 0.7438711524009705, 'car'], [335, 437, 433, 535, 0.7083861827850342, 'car'], [841, 401, 895, 439, 0.6197411417961121, 'car']]\n",
      "[[573, 367, 614, 398, 0.7596278786659241, 'car'], [834, 398, 886, 427, 0.6502538919448853, 'car'], [318, 445, 424, 551, 0.5987939238548279, 'car']]\n"
     ]
    },
    {
     "name": "stderr",
     "output_type": "stream",
     "text": [
      "0: 384x640 4 cars, 58.8ms\n",
      "Speed: 3.0ms preprocess, 58.8ms inference, 1.0ms postprocess per image at shape (1, 3, 384, 640)\n",
      "\n",
      "0: 384x640 4 cars, 60.8ms\n",
      "Speed: 2.0ms preprocess, 60.8ms inference, 1.0ms postprocess per image at shape (1, 3, 384, 640)\n",
      "\n"
     ]
    },
    {
     "name": "stdout",
     "output_type": "stream",
     "text": [
      "[[571, 368, 612, 400, 0.7591390013694763, 'car'], [307, 450, 416, 556, 0.7325535416603088, 'car'], [831, 395, 885, 431, 0.5644542574882507, 'car']]\n",
      "[[569, 371, 609, 403, 0.7984078526496887, 'car'], [297, 455, 409, 562, 0.65592360496521, 'car'], [830, 391, 880, 428, 0.5513911843299866, 'car']]\n"
     ]
    },
    {
     "name": "stderr",
     "output_type": "stream",
     "text": [
      "0: 384x640 4 cars, 64.8ms\n",
      "Speed: 2.0ms preprocess, 64.8ms inference, 1.0ms postprocess per image at shape (1, 3, 384, 640)\n",
      "\n",
      "0: 384x640 3 cars, 62.9ms\n",
      "Speed: 2.0ms preprocess, 62.9ms inference, 1.0ms postprocess per image at shape (1, 3, 384, 640)\n",
      "\n",
      "0: 384x640 3 cars, 63.8ms\n"
     ]
    },
    {
     "name": "stdout",
     "output_type": "stream",
     "text": [
      "[[567, 371, 612, 407, 0.7844889760017395, 'car'], [829, 388, 877, 422, 0.6626157164573669, 'car'], [285, 462, 405, 575, 0.5971091389656067, 'car']]\n",
      "[[828, 385, 878, 421, 0.7125985622406006, 'car'], [273, 467, 397, 583, 0.7033003568649292, 'car'], [562, 374, 607, 407, 0.6445907950401306, 'car']]\n"
     ]
    },
    {
     "name": "stderr",
     "output_type": "stream",
     "text": [
      "Speed: 2.0ms preprocess, 63.8ms inference, 1.0ms postprocess per image at shape (1, 3, 384, 640)\n",
      "\n",
      "0: 384x640 3 cars, 73.8ms\n",
      "Speed: 3.0ms preprocess, 73.8ms inference, 1.0ms postprocess per image at shape (1, 3, 384, 640)\n",
      "\n"
     ]
    },
    {
     "name": "stdout",
     "output_type": "stream",
     "text": [
      "[[247, 481, 380, 605, 0.812813401222229, 'car'], [560, 374, 608, 415, 0.6074659824371338, 'car'], [823, 383, 867, 410, 0.509553849697113, 'car']]\n",
      "[[230, 487, 371, 622, 0.7773475646972656, 'car'], [821, 381, 866, 412, 0.614403486251831, 'car'], [555, 378, 601, 417, 0.5963226556777954, 'car']]\n"
     ]
    },
    {
     "name": "stderr",
     "output_type": "stream",
     "text": [
      "0: 384x640 3 cars, 61.9ms\n",
      "Speed: 1.9ms preprocess, 61.9ms inference, 1.0ms postprocess per image at shape (1, 3, 384, 640)\n",
      "\n",
      "0: 384x640 4 cars, 68.9ms\n",
      "Speed: 2.0ms preprocess, 68.9ms inference, 1.0ms postprocess per image at shape (1, 3, 384, 640)\n",
      "\n"
     ]
    },
    {
     "name": "stdout",
     "output_type": "stream",
     "text": [
      "[[215, 496, 362, 632, 0.7189932465553284, 'car'], [554, 378, 598, 420, 0.4922429323196411, 'car'], [820, 375, 863, 409, 0.4870595932006836, 'car']]\n",
      "[[199, 503, 351, 648, 0.7932629585266113, 'car'], [552, 381, 596, 423, 0.569749653339386, 'car'], [817, 372, 860, 405, 0.5164430141448975, 'car']]\n"
     ]
    },
    {
     "name": "stderr",
     "output_type": "stream",
     "text": [
      "0: 384x640 3 cars, 68.8ms\n",
      "Speed: 2.0ms preprocess, 68.8ms inference, 1.0ms postprocess per image at shape (1, 3, 384, 640)\n",
      "\n",
      "0: 384x640 3 cars, 61.8ms\n",
      "Speed: 2.0ms preprocess, 61.8ms inference, 1.0ms postprocess per image at shape (1, 3, 384, 640)\n",
      "\n",
      "0: 384x640 3 cars, 67.8ms\n"
     ]
    },
    {
     "name": "stdout",
     "output_type": "stream",
     "text": [
      "[[180, 512, 340, 660, 0.7732157111167908, 'car'], [815, 371, 858, 404, 0.7032837867736816, 'car'], [544, 387, 595, 427, 0.5923504829406738, 'car']]\n",
      "[[811, 367, 854, 397, 0.7997898459434509, 'car'], [138, 529, 316, 693, 0.7815085649490356, 'car'], [539, 392, 589, 434, 0.7030574083328247, 'car']]\n"
     ]
    },
    {
     "name": "stderr",
     "output_type": "stream",
     "text": [
      "Speed: 3.0ms preprocess, 67.8ms inference, 1.0ms postprocess per image at shape (1, 3, 384, 640)\n",
      "\n",
      "0: 384x640 3 cars, 63.8ms\n",
      "Speed: 2.0ms preprocess, 63.8ms inference, 1.0ms postprocess per image at shape (1, 3, 384, 640)\n",
      "\n"
     ]
    },
    {
     "name": "stdout",
     "output_type": "stream",
     "text": [
      "[[809, 367, 850, 395, 0.8138660192489624, 'car'], [116, 538, 303, 715, 0.7884814143180847, 'car'], [536, 395, 591, 437, 0.7848740816116333, 'car']]\n",
      "[[534, 397, 591, 441, 0.8262478113174438, 'car'], [90, 552, 289, 737, 0.8166944980621338, 'car'], [808, 367, 848, 393, 0.7921133637428284, 'car']]\n"
     ]
    },
    {
     "name": "stderr",
     "output_type": "stream",
     "text": [
      "0: 384x640 3 cars, 66.8ms\n",
      "Speed: 3.0ms preprocess, 66.8ms inference, 1.0ms postprocess per image at shape (1, 3, 384, 640)\n",
      "\n",
      "0: 384x640 3 cars, 57.8ms\n",
      "Speed: 1.0ms preprocess, 57.8ms inference, 1.0ms postprocess per image at shape (1, 3, 384, 640)\n",
      "\n",
      "0: 384x640 4 cars, 64.8ms\n"
     ]
    },
    {
     "name": "stdout",
     "output_type": "stream",
     "text": [
      "[[62, 563, 274, 760, 0.8359127640724182, 'car'], [807, 365, 847, 390, 0.7855645418167114, 'car'], [528, 398, 594, 445, 0.7822555303573608, 'car']]\n",
      "[[32, 576, 258, 761, 0.7950180768966675, 'car'], [526, 401, 583, 451, 0.7906597256660461, 'car'], [806, 363, 843, 389, 0.6860495805740356, 'car']]\n"
     ]
    },
    {
     "name": "stderr",
     "output_type": "stream",
     "text": [
      "Speed: 2.0ms preprocess, 64.8ms inference, 1.0ms postprocess per image at shape (1, 3, 384, 640)\n",
      "\n",
      "0: 384x640 3 cars, 63.8ms\n",
      "Speed: 3.0ms preprocess, 63.8ms inference, 1.0ms postprocess per image at shape (1, 3, 384, 640)\n",
      "\n"
     ]
    },
    {
     "name": "stdout",
     "output_type": "stream",
     "text": [
      "[[517, 409, 573, 459, 0.7796719074249268, 'car'], [803, 360, 842, 388, 0.761534571647644, 'car'], [0, 606, 225, 762, 0.6877188086509705, 'car']]\n",
      "[[511, 415, 572, 464, 0.7149008512496948, 'car'], [802, 359, 841, 386, 0.7097864151000977, 'car'], [598, 308, 625, 333, 0.3644697964191437, 'car']]\n"
     ]
    },
    {
     "name": "stderr",
     "output_type": "stream",
     "text": [
      "0: 384x640 3 cars, 61.9ms\n",
      "Speed: 2.0ms preprocess, 61.9ms inference, 1.0ms postprocess per image at shape (1, 3, 384, 640)\n",
      "\n",
      "0: 384x640 3 cars, 61.8ms\n",
      "Speed: 1.0ms preprocess, 61.8ms inference, 1.0ms postprocess per image at shape (1, 3, 384, 640)\n",
      "\n"
     ]
    },
    {
     "name": "stdout",
     "output_type": "stream",
     "text": [
      "[[507, 418, 570, 469, 0.8065826296806335, 'car'], [800, 358, 839, 384, 0.7836270332336426, 'car'], [597, 308, 624, 333, 0.32002341747283936, 'car']]\n",
      "[[503, 421, 568, 473, 0.7866029143333435, 'car'], [798, 356, 836, 382, 0.6122428178787231, 'car'], [597, 309, 623, 333, 0.3264126777648926, 'car']]\n"
     ]
    },
    {
     "name": "stderr",
     "output_type": "stream",
     "text": [
      "0: 384x640 3 cars, 61.8ms\n",
      "Speed: 2.0ms preprocess, 61.8ms inference, 1.0ms postprocess per image at shape (1, 3, 384, 640)\n",
      "\n",
      "0: 384x640 3 cars, 65.9ms\n",
      "Speed: 2.0ms preprocess, 65.9ms inference, 1.0ms postprocess per image at shape (1, 3, 384, 640)\n",
      "\n",
      "0: 384x640 3 cars, 61.8ms\n"
     ]
    },
    {
     "name": "stdout",
     "output_type": "stream",
     "text": [
      "[[796, 355, 834, 381, 0.7631251811981201, 'car'], [499, 424, 563, 481, 0.5235152244567871, 'car'], [596, 309, 623, 334, 0.46401265263557434, 'car']]\n",
      "[[794, 352, 831, 377, 0.8026518821716309, 'car'], [487, 432, 558, 493, 0.6617312431335449, 'car'], [595, 311, 621, 335, 0.4944719672203064, 'car']]\n"
     ]
    },
    {
     "name": "stderr",
     "output_type": "stream",
     "text": [
      "Speed: 3.0ms preprocess, 61.8ms inference, 0.0ms postprocess per image at shape (1, 3, 384, 640)\n",
      "\n",
      "0: 384x640 3 cars, 60.9ms\n",
      "Speed: 3.0ms preprocess, 60.9ms inference, 1.0ms postprocess per image at shape (1, 3, 384, 640)\n",
      "\n",
      "0: 384x640 4 cars, 59.8ms\n"
     ]
    },
    {
     "name": "stdout",
     "output_type": "stream",
     "text": [
      "[[483, 437, 554, 502, 0.858849287033081, 'car'], [794, 351, 830, 374, 0.7708983421325684, 'car'], [594, 311, 619, 336, 0.4907894730567932, 'car']]\n",
      "[[474, 444, 551, 509, 0.8436126112937927, 'car'], [793, 349, 827, 372, 0.7835917472839355, 'car'], [594, 311, 617, 337, 0.46834009885787964, 'car']]\n"
     ]
    },
    {
     "name": "stderr",
     "output_type": "stream",
     "text": [
      "Speed: 3.0ms preprocess, 59.8ms inference, 1.0ms postprocess per image at shape (1, 3, 384, 640)\n",
      "\n",
      "0: 384x640 3 cars, 62.8ms\n",
      "Speed: 2.0ms preprocess, 62.8ms inference, 1.0ms postprocess per image at shape (1, 3, 384, 640)\n",
      "\n",
      "0: 384x640 3 cars, 61.8ms\n"
     ]
    },
    {
     "name": "stdout",
     "output_type": "stream",
     "text": [
      "[[793, 348, 826, 372, 0.8331145644187927, 'car'], [469, 451, 545, 517, 0.8063945770263672, 'car'], [593, 314, 616, 338, 0.40285006165504456, 'car']]\n",
      "[[792, 348, 824, 372, 0.7969074249267578, 'car'], [464, 456, 542, 524, 0.77992844581604, 'car'], [591, 314, 616, 338, 0.4543679356575012, 'car']]\n"
     ]
    },
    {
     "name": "stderr",
     "output_type": "stream",
     "text": [
      "Speed: 2.0ms preprocess, 61.8ms inference, 1.0ms postprocess per image at shape (1, 3, 384, 640)\n",
      "\n",
      "0: 384x640 3 cars, 61.8ms\n",
      "Speed: 2.0ms preprocess, 61.8ms inference, 1.0ms postprocess per image at shape (1, 3, 384, 640)\n",
      "\n",
      "0: 384x640 4 cars, 57.8ms\n"
     ]
    },
    {
     "name": "stdout",
     "output_type": "stream",
     "text": [
      "[[450, 469, 536, 542, 0.7881245613098145, 'car'], [791, 343, 820, 368, 0.7423742413520813, 'car'], [590, 314, 616, 339, 0.4876284599304199, 'car']]\n",
      "[[440, 474, 529, 552, 0.8473835587501526, 'car'], [790, 343, 820, 366, 0.6561403870582581, 'car'], [589, 313, 615, 340, 0.4328954815864563, 'car']]\n"
     ]
    },
    {
     "name": "stderr",
     "output_type": "stream",
     "text": [
      "Speed: 2.0ms preprocess, 57.8ms inference, 1.0ms postprocess per image at shape (1, 3, 384, 640)\n",
      "\n",
      "0: 384x640 4 cars, 66.8ms\n",
      "Speed: 3.0ms preprocess, 66.8ms inference, 1.0ms postprocess per image at shape (1, 3, 384, 640)\n",
      "\n"
     ]
    },
    {
     "name": "stdout",
     "output_type": "stream",
     "text": [
      "[[434, 480, 525, 561, 0.8034799695014954, 'car'], [789, 342, 819, 363, 0.598399817943573, 'car'], [587, 313, 615, 341, 0.45750558376312256, 'car']]\n",
      "[[424, 479, 522, 573, 0.6612330675125122, 'car'], [787, 341, 817, 363, 0.6058311462402344, 'car'], [586, 313, 614, 341, 0.41796937584877014, 'car']]\n"
     ]
    },
    {
     "name": "stderr",
     "output_type": "stream",
     "text": [
      "0: 384x640 4 cars, 69.8ms\n",
      "Speed: 2.0ms preprocess, 69.8ms inference, 1.0ms postprocess per image at shape (1, 3, 384, 640)\n",
      "\n",
      "0: 384x640 3 cars, 59.8ms\n",
      "Speed: 2.0ms preprocess, 59.8ms inference, 1.0ms postprocess per image at shape (1, 3, 384, 640)\n",
      "\n",
      "0: 384x640 3 cars, 62.9ms\n"
     ]
    },
    {
     "name": "stdout",
     "output_type": "stream",
     "text": [
      "[[415, 498, 514, 587, 0.7763212323188782, 'car'], [584, 313, 613, 341, 0.3661379814147949, 'car'], [786, 340, 817, 361, 0.3112472891807556, 'car']]\n",
      "[[393, 516, 502, 614, 0.7805667519569397, 'car'], [583, 317, 612, 342, 0.38167089223861694, 'car'], [651, 290, 684, 315, 0.30610743165016174, 'car']]\n"
     ]
    },
    {
     "name": "stderr",
     "output_type": "stream",
     "text": [
      "Speed: 2.0ms preprocess, 62.9ms inference, 1.0ms postprocess per image at shape (1, 3, 384, 640)\n",
      "\n",
      "0: 384x640 3 cars, 61.8ms\n",
      "Speed: 2.0ms preprocess, 61.8ms inference, 1.0ms postprocess per image at shape (1, 3, 384, 640)\n",
      "\n",
      "0: 384x640 5 cars, 67.9ms\n"
     ]
    },
    {
     "name": "stdout",
     "output_type": "stream",
     "text": [
      "[[382, 523, 496, 629, 0.8125050663948059, 'car'], [582, 318, 609, 343, 0.39111825823783875, 'car']]\n",
      "[[368, 535, 488, 647, 0.8262110948562622, 'car'], [581, 320, 610, 344, 0.4481930136680603, 'car'], [782, 337, 810, 356, 0.33445340394973755, 'car']]\n"
     ]
    },
    {
     "name": "stderr",
     "output_type": "stream",
     "text": [
      "Speed: 3.0ms preprocess, 67.9ms inference, 1.0ms postprocess per image at shape (1, 3, 384, 640)\n",
      "\n",
      "0: 384x640 5 cars, 64.8ms\n",
      "Speed: 3.0ms preprocess, 64.8ms inference, 1.0ms postprocess per image at shape (1, 3, 384, 640)\n",
      "\n"
     ]
    },
    {
     "name": "stdout",
     "output_type": "stream",
     "text": [
      "[[353, 548, 480, 665, 0.8212907910346985, 'car'], [579, 320, 608, 343, 0.4637206494808197, 'car'], [780, 337, 810, 356, 0.4471292495727539, 'car']]\n",
      "[[338, 560, 473, 686, 0.7160404920578003, 'car'], [579, 321, 607, 345, 0.4996390640735626, 'car'], [779, 335, 809, 356, 0.45872291922569275, 'car']]\n"
     ]
    },
    {
     "name": "stderr",
     "output_type": "stream",
     "text": [
      "0: 384x640 3 cars, 61.8ms\n",
      "Speed: 2.0ms preprocess, 61.8ms inference, 1.0ms postprocess per image at shape (1, 3, 384, 640)\n",
      "\n",
      "0: 384x640 3 cars, 64.9ms\n",
      "Speed: 2.0ms preprocess, 64.9ms inference, 1.0ms postprocess per image at shape (1, 3, 384, 640)\n",
      "\n"
     ]
    },
    {
     "name": "stdout",
     "output_type": "stream",
     "text": [
      "[[301, 583, 454, 742, 0.7482749819755554, 'car'], [577, 321, 606, 346, 0.5441572666168213, 'car'], [778, 333, 805, 355, 0.4480772316455841, 'car']]\n",
      "[[279, 573, 441, 763, 0.7883427739143372, 'car'], [776, 332, 804, 353, 0.5618142485618591, 'car'], [577, 323, 604, 348, 0.3139561712741852, 'car']]\n"
     ]
    },
    {
     "name": "stderr",
     "output_type": "stream",
     "text": [
      "0: 384x640 3 cars, 63.8ms\n",
      "Speed: 2.0ms preprocess, 63.8ms inference, 0.0ms postprocess per image at shape (1, 3, 384, 640)\n",
      "\n",
      "0: 384x640 3 cars, 69.8ms\n",
      "Speed: 2.0ms preprocess, 69.8ms inference, 1.0ms postprocess per image at shape (1, 3, 384, 640)\n",
      "\n"
     ]
    },
    {
     "name": "stdout",
     "output_type": "stream",
     "text": [
      "[[257, 578, 432, 765, 0.58924800157547, 'car'], [776, 331, 805, 352, 0.5828534960746765, 'car'], [574, 322, 604, 348, 0.41463080048561096, 'car']]\n",
      "[[237, 649, 416, 767, 0.5743138790130615, 'car'], [776, 331, 804, 350, 0.461009681224823, 'car'], [573, 322, 603, 349, 0.3833974301815033, 'car']]\n"
     ]
    },
    {
     "name": "stderr",
     "output_type": "stream",
     "text": [
      "0: 384x640 4 cars, 63.8ms\n",
      "Speed: 2.0ms preprocess, 63.8ms inference, 1.0ms postprocess per image at shape (1, 3, 384, 640)\n",
      "\n",
      "0: 384x640 4 cars, 61.8ms\n",
      "Speed: 2.0ms preprocess, 61.8ms inference, 1.0ms postprocess per image at shape (1, 3, 384, 640)\n",
      "\n"
     ]
    },
    {
     "name": "stdout",
     "output_type": "stream",
     "text": [
      "[[775, 329, 804, 350, 0.5895050168037415, 'car'], [217, 670, 401, 766, 0.5570246577262878, 'car'], [573, 323, 602, 349, 0.5002488493919373, 'car']]\n",
      "[[572, 324, 601, 351, 0.5205506086349487, 'car'], [775, 328, 803, 349, 0.49433454871177673, 'car'], [216, 695, 385, 765, 0.47744089365005493, 'car'], [608, 312, 643, 328, 0.31501302123069763, 'car']]\n"
     ]
    },
    {
     "name": "stderr",
     "output_type": "stream",
     "text": [
      "0: 384x640 3 cars, 62.8ms\n",
      "Speed: 2.0ms preprocess, 62.8ms inference, 1.0ms postprocess per image at shape (1, 3, 384, 640)\n",
      "\n",
      "0: 384x640 5 cars, 60.9ms\n",
      "Speed: 2.0ms preprocess, 60.9ms inference, 1.0ms postprocess per image at shape (1, 3, 384, 640)\n",
      "\n",
      "0: 384x640 6 cars, 57.8ms\n"
     ]
    },
    {
     "name": "stdout",
     "output_type": "stream",
     "text": [
      "[[774, 326, 804, 349, 0.6407077312469482, 'car'], [567, 327, 599, 354, 0.6367028951644897, 'car'], [608, 312, 641, 328, 0.37361031770706177, 'car']]\n",
      "[[566, 327, 602, 355, 0.606594979763031, 'car'], [774, 325, 803, 348, 0.5948131084442139, 'car'], [607, 311, 642, 329, 0.47048914432525635, 'car']]\n"
     ]
    },
    {
     "name": "stderr",
     "output_type": "stream",
     "text": [
      "Speed: 2.0ms preprocess, 57.8ms inference, 1.0ms postprocess per image at shape (1, 3, 384, 640)\n",
      "\n",
      "0: 384x640 4 cars, 64.8ms\n",
      "Speed: 2.0ms preprocess, 64.8ms inference, 1.0ms postprocess per image at shape (1, 3, 384, 640)\n",
      "\n",
      "0: 384x640 4 cars, 82.8ms\n"
     ]
    },
    {
     "name": "stdout",
     "output_type": "stream",
     "text": [
      "[[563, 328, 599, 356, 0.6100929379463196, 'car'], [606, 310, 643, 330, 0.543265163898468, 'car'], [773, 324, 801, 346, 0.3476710617542267, 'car']]\n",
      "[[607, 310, 644, 329, 0.5581604838371277, 'car'], [562, 325, 597, 357, 0.5476065278053284, 'car']]\n"
     ]
    },
    {
     "name": "stderr",
     "output_type": "stream",
     "text": [
      "Speed: 2.0ms preprocess, 82.8ms inference, 2.0ms postprocess per image at shape (1, 3, 384, 640)\n",
      "\n",
      "0: 384x640 5 cars, 59.8ms\n",
      "Speed: 2.0ms preprocess, 59.8ms inference, 1.0ms postprocess per image at shape (1, 3, 384, 640)\n",
      "\n"
     ]
    },
    {
     "name": "stdout",
     "output_type": "stream",
     "text": [
      "[[561, 325, 597, 357, 0.6087964177131653, 'car'], [607, 310, 643, 329, 0.5863937139511108, 'car'], [644, 304, 672, 325, 0.3273387849330902, 'car']]\n",
      "[[560, 327, 593, 358, 0.6781190633773804, 'car'], [606, 310, 641, 332, 0.49106431007385254, 'car'], [643, 304, 672, 326, 0.41603171825408936, 'car']]\n"
     ]
    },
    {
     "name": "stderr",
     "output_type": "stream",
     "text": [
      "0: 384x640 4 cars, 63.9ms\n",
      "Speed: 2.0ms preprocess, 63.9ms inference, 2.0ms postprocess per image at shape (1, 3, 384, 640)\n",
      "\n",
      "0: 384x640 4 cars, 77.8ms\n",
      "Speed: 2.0ms preprocess, 77.8ms inference, 0.0ms postprocess per image at shape (1, 3, 384, 640)\n",
      "\n"
     ]
    },
    {
     "name": "stdout",
     "output_type": "stream",
     "text": [
      "[[558, 328, 592, 359, 0.6968852281570435, 'car'], [605, 310, 640, 332, 0.5540635585784912, 'car'], [643, 304, 670, 326, 0.4230794310569763, 'car'], [770, 320, 797, 340, 0.32126176357269287, 'car']]\n",
      "[[556, 330, 590, 360, 0.6875407695770264, 'car'], [604, 309, 640, 331, 0.4986336827278137, 'car'], [642, 304, 669, 326, 0.44046345353126526, 'car'], [770, 320, 796, 339, 0.3164578676223755, 'car']]\n"
     ]
    },
    {
     "name": "stderr",
     "output_type": "stream",
     "text": [
      "0: 384x640 4 cars, 53.9ms\n",
      "Speed: 3.0ms preprocess, 53.9ms inference, 1.0ms postprocess per image at shape (1, 3, 384, 640)\n",
      "\n",
      "0: 384x640 3 cars, 60.8ms\n",
      "Speed: 3.0ms preprocess, 60.8ms inference, 1.0ms postprocess per image at shape (1, 3, 384, 640)\n",
      "\n",
      "0: 384x640 3 cars, 60.8ms\n"
     ]
    },
    {
     "name": "stdout",
     "output_type": "stream",
     "text": [
      "[[555, 332, 589, 363, 0.6644318103790283, 'car'], [641, 304, 670, 327, 0.4170323312282562, 'car'], [604, 310, 639, 331, 0.34170177578926086, 'car']]\n",
      "[[553, 333, 588, 363, 0.6786641478538513, 'car'], [641, 304, 669, 328, 0.42426249384880066, 'car'], [603, 310, 638, 331, 0.39630746841430664, 'car']]\n"
     ]
    },
    {
     "name": "stderr",
     "output_type": "stream",
     "text": [
      "Speed: 2.0ms preprocess, 60.8ms inference, 1.0ms postprocess per image at shape (1, 3, 384, 640)\n",
      "\n",
      "0: 384x640 4 cars, 65.8ms\n",
      "Speed: 3.0ms preprocess, 65.8ms inference, 1.0ms postprocess per image at shape (1, 3, 384, 640)\n",
      "\n"
     ]
    },
    {
     "name": "stdout",
     "output_type": "stream",
     "text": [
      "[[549, 337, 585, 365, 0.5898550152778625, 'car'], [641, 305, 668, 329, 0.3952063024044037, 'car'], [601, 311, 638, 332, 0.3772069811820984, 'car']]\n",
      "[[547, 339, 582, 366, 0.5453627109527588, 'car'], [640, 306, 668, 330, 0.46653255820274353, 'car'], [601, 312, 637, 334, 0.31529369950294495, 'car']]\n"
     ]
    },
    {
     "name": "stderr",
     "output_type": "stream",
     "text": [
      "0: 384x640 2 cars, 61.8ms\n",
      "Speed: 2.0ms preprocess, 61.8ms inference, 1.0ms postprocess per image at shape (1, 3, 384, 640)\n",
      "\n",
      "0: 384x640 4 cars, 61.8ms\n",
      "Speed: 1.0ms preprocess, 61.8ms inference, 1.0ms postprocess per image at shape (1, 3, 384, 640)\n",
      "\n",
      "0: 384x640 5 cars, 58.9ms\n"
     ]
    },
    {
     "name": "stdout",
     "output_type": "stream",
     "text": [
      "[[546, 338, 581, 368, 0.543410062789917, 'car'], [639, 306, 668, 331, 0.45642632246017456, 'car']]\n",
      "[[544, 339, 581, 369, 0.576128363609314, 'car'], [638, 306, 667, 332, 0.5112447738647461, 'car']]\n"
     ]
    },
    {
     "name": "stderr",
     "output_type": "stream",
     "text": [
      "Speed: 2.0ms preprocess, 58.9ms inference, 1.0ms postprocess per image at shape (1, 3, 384, 640)\n",
      "\n",
      "0: 384x640 4 cars, 64.9ms\n",
      "Speed: 2.0ms preprocess, 64.9ms inference, 1.0ms postprocess per image at shape (1, 3, 384, 640)\n",
      "\n",
      "0: 384x640 5 cars, 65.8ms\n"
     ]
    },
    {
     "name": "stdout",
     "output_type": "stream",
     "text": [
      "[[543, 341, 580, 371, 0.6682634353637695, 'car'], [637, 306, 667, 332, 0.4795996844768524, 'car']]\n",
      "[[538, 341, 576, 374, 0.7000163197517395, 'car'], [635, 305, 663, 333, 0.4762483537197113, 'car'], [590, 317, 629, 341, 0.3648782968521118, 'car']]\n"
     ]
    },
    {
     "name": "stderr",
     "output_type": "stream",
     "text": [
      "Speed: 2.0ms preprocess, 65.8ms inference, 1.0ms postprocess per image at shape (1, 3, 384, 640)\n",
      "\n",
      "0: 384x640 6 cars, 77.8ms\n",
      "Speed: 3.0ms preprocess, 77.8ms inference, 1.0ms postprocess per image at shape (1, 3, 384, 640)\n",
      "\n"
     ]
    },
    {
     "name": "stdout",
     "output_type": "stream",
     "text": [
      "[[536, 341, 575, 375, 0.7169086933135986, 'car'], [633, 305, 662, 334, 0.43901196122169495, 'car'], [590, 315, 627, 341, 0.4364047646522522, 'car']]\n",
      "[[535, 341, 573, 376, 0.7002341151237488, 'car'], [590, 314, 631, 342, 0.4489712715148926, 'car'], [633, 306, 662, 335, 0.3764418065547943, 'car'], [765, 310, 787, 332, 0.33225393295288086, 'car']]\n"
     ]
    },
    {
     "name": "stderr",
     "output_type": "stream",
     "text": [
      "0: 384x640 6 cars, 69.8ms\n",
      "Speed: 3.0ms preprocess, 69.8ms inference, 1.0ms postprocess per image at shape (1, 3, 384, 640)\n",
      "\n",
      "0: 384x640 6 cars, 84.8ms\n",
      "Speed: 2.0ms preprocess, 84.8ms inference, 1.0ms postprocess per image at shape (1, 3, 384, 640)\n",
      "\n"
     ]
    },
    {
     "name": "stdout",
     "output_type": "stream",
     "text": [
      "[[533, 341, 573, 378, 0.6893508434295654, 'car'], [590, 314, 632, 342, 0.4469907283782959, 'car'], [764, 309, 787, 331, 0.3579353094100952, 'car'], [633, 308, 661, 336, 0.3508063852787018, 'car']]\n",
      "[[530, 341, 571, 380, 0.6685665249824524, 'car'], [589, 316, 632, 342, 0.4288208782672882, 'car'], [633, 310, 661, 337, 0.38321006298065186, 'car'], [764, 308, 786, 331, 0.3319997787475586, 'car']]\n"
     ]
    },
    {
     "name": "stderr",
     "output_type": "stream",
     "text": [
      "0: 384x640 5 cars, 65.8ms\n",
      "Speed: 1.0ms preprocess, 65.8ms inference, 1.0ms postprocess per image at shape (1, 3, 384, 640)\n",
      "\n",
      "0: 384x640 5 cars, 62.8ms\n",
      "Speed: 2.0ms preprocess, 62.8ms inference, 1.0ms postprocess per image at shape (1, 3, 384, 640)\n",
      "\n"
     ]
    },
    {
     "name": "stdout",
     "output_type": "stream",
     "text": [
      "[[528, 346, 568, 382, 0.6185004711151123, 'car'], [590, 315, 631, 342, 0.3726319968700409, 'car'], [633, 312, 660, 339, 0.36662232875823975, 'car'], [763, 307, 786, 330, 0.35005584359169006, 'car']]\n",
      "[[527, 346, 567, 383, 0.5535693764686584, 'car'], [587, 323, 613, 344, 0.37492668628692627, 'car'], [631, 311, 659, 339, 0.34334704279899597, 'car'], [763, 308, 786, 329, 0.3391987383365631, 'car'], [587, 316, 631, 343, 0.3312743604183197, 'car']]\n"
     ]
    },
    {
     "name": "stderr",
     "output_type": "stream",
     "text": [
      "0: 384x640 5 cars, 62.8ms\n",
      "Speed: 2.0ms preprocess, 62.8ms inference, 1.0ms postprocess per image at shape (1, 3, 384, 640)\n",
      "\n",
      "0: 384x640 5 cars, 64.8ms\n",
      "Speed: 3.0ms preprocess, 64.8ms inference, 1.0ms postprocess per image at shape (1, 3, 384, 640)\n",
      "\n",
      "0: 384x640 5 cars, 67.8ms\n"
     ]
    },
    {
     "name": "stdout",
     "output_type": "stream",
     "text": [
      "[[526, 347, 564, 384, 0.5053918361663818, 'car'], [585, 322, 611, 344, 0.41012969613075256, 'car'], [630, 311, 660, 340, 0.3046647608280182, 'car']]\n",
      "[[522, 349, 563, 387, 0.49931690096855164, 'car'], [584, 323, 611, 345, 0.43969082832336426, 'car'], [629, 311, 660, 341, 0.30156636238098145, 'car']]\n"
     ]
    },
    {
     "name": "stderr",
     "output_type": "stream",
     "text": [
      "Speed: 2.0ms preprocess, 67.8ms inference, 1.0ms postprocess per image at shape (1, 3, 384, 640)\n",
      "\n",
      "0: 384x640 4 cars, 67.8ms\n",
      "Speed: 2.0ms preprocess, 67.8ms inference, 1.0ms postprocess per image at shape (1, 3, 384, 640)\n",
      "\n"
     ]
    },
    {
     "name": "stdout",
     "output_type": "stream",
     "text": [
      "[[519, 351, 560, 390, 0.5513876676559448, 'car'], [582, 322, 611, 346, 0.47666996717453003, 'car'], [628, 317, 658, 344, 0.40103599429130554, 'car']]\n",
      "[[511, 356, 555, 394, 0.5758101940155029, 'car'], [582, 322, 609, 348, 0.5067997574806213, 'car'], [511, 351, 587, 396, 0.47936052083969116, 'car'], [625, 315, 657, 346, 0.3919208347797394, 'car']]\n"
     ]
    },
    {
     "name": "stderr",
     "output_type": "stream",
     "text": [
      "0: 384x640 4 cars, 68.8ms\n",
      "Speed: 2.0ms preprocess, 68.8ms inference, 1.0ms postprocess per image at shape (1, 3, 384, 640)\n",
      "\n",
      "0: 384x640 6 cars, 63.8ms\n",
      "Speed: 2.0ms preprocess, 63.8ms inference, 1.0ms postprocess per image at shape (1, 3, 384, 640)\n",
      "\n",
      "0: 384x640 4 cars, 64.8ms\n"
     ]
    },
    {
     "name": "stdout",
     "output_type": "stream",
     "text": [
      "[[509, 357, 554, 396, 0.583441436290741, 'car'], [581, 323, 610, 348, 0.4905197024345398, 'car'], [510, 351, 588, 398, 0.4643913805484772, 'car'], [625, 314, 656, 348, 0.44557932019233704, 'car']]\n",
      "[[508, 357, 553, 397, 0.6614966988563538, 'car'], [582, 323, 615, 347, 0.40407833456993103, 'car'], [624, 315, 655, 347, 0.33598485589027405, 'car']]\n"
     ]
    },
    {
     "name": "stderr",
     "output_type": "stream",
     "text": [
      "Speed: 2.0ms preprocess, 64.8ms inference, 1.0ms postprocess per image at shape (1, 3, 384, 640)\n",
      "\n",
      "0: 384x640 3 cars, 66.8ms\n",
      "Speed: 2.0ms preprocess, 66.8ms inference, 1.0ms postprocess per image at shape (1, 3, 384, 640)\n",
      "\n",
      "0: 384x640 5 cars, 60.8ms\n"
     ]
    },
    {
     "name": "stdout",
     "output_type": "stream",
     "text": [
      "[[506, 356, 552, 401, 0.7384601831436157, 'car'], [582, 325, 617, 348, 0.3422665596008301, 'car'], [624, 317, 654, 349, 0.311618834733963, 'car']]\n",
      "[[503, 357, 548, 402, 0.7282092571258545, 'car'], [576, 330, 604, 349, 0.3224562108516693, 'car']]\n"
     ]
    },
    {
     "name": "stderr",
     "output_type": "stream",
     "text": [
      "Speed: 3.0ms preprocess, 60.8ms inference, 1.0ms postprocess per image at shape (1, 3, 384, 640)\n",
      "\n",
      "0: 384x640 5 cars, 59.9ms\n",
      "Speed: 2.0ms preprocess, 59.9ms inference, 1.0ms postprocess per image at shape (1, 3, 384, 640)\n",
      "\n",
      "0: 384x640 5 cars, 1 truck, 57.8ms\n"
     ]
    },
    {
     "name": "stdout",
     "output_type": "stream",
     "text": [
      "[[497, 363, 543, 406, 0.7521547079086304, 'car'], [574, 329, 602, 350, 0.4913243055343628, 'car'], [1067, 641, 1307, 766, 0.3100016415119171, 'car']]\n",
      "[[495, 364, 542, 409, 0.6858828663825989, 'car'], [574, 331, 602, 352, 0.5536395311355591, 'car'], [884, 733, 1035, 765, 0.49004602432250977, 'car'], [620, 323, 651, 353, 0.30316242575645447, 'car']]\n"
     ]
    },
    {
     "name": "stderr",
     "output_type": "stream",
     "text": [
      "Speed: 2.0ms preprocess, 57.8ms inference, 1.0ms postprocess per image at shape (1, 3, 384, 640)\n",
      "\n",
      "0: 384x640 7 cars, 1 bus, 65.8ms\n",
      "Speed: 3.0ms preprocess, 65.8ms inference, 1.0ms postprocess per image at shape (1, 3, 384, 640)\n",
      "\n"
     ]
    },
    {
     "name": "stdout",
     "output_type": "stream",
     "text": [
      "[[492, 365, 540, 411, 0.6449298858642578, 'car'], [872, 709, 1030, 765, 0.6229360699653625, 'car'], [573, 331, 601, 353, 0.5203962922096252, 'car'], [619, 321, 651, 353, 0.43542057275772095, 'car']]\n",
      "[[862, 687, 1026, 766, 0.7691665291786194, 'car'], [489, 366, 538, 411, 0.6863572597503662, 'car'], [1144, 687, 1314, 765, 0.554675817489624, 'car'], [571, 331, 601, 355, 0.5338616371154785, 'car'], [1022, 593, 1221, 765, 0.37601158022880554, 'car'], [618, 319, 649, 354, 0.3552956283092499, 'car']]\n"
     ]
    },
    {
     "name": "stderr",
     "output_type": "stream",
     "text": [
      "0: 384x640 5 cars, 1 truck, 58.8ms\n",
      "Speed: 2.0ms preprocess, 58.8ms inference, 1.0ms postprocess per image at shape (1, 3, 384, 640)\n",
      "\n",
      "0: 384x640 4 cars, 1 bus, 1 truck, 57.8ms\n",
      "Speed: 1.0ms preprocess, 57.8ms inference, 1.0ms postprocess per image at shape (1, 3, 384, 640)\n",
      "\n"
     ]
    },
    {
     "name": "stdout",
     "output_type": "stream",
     "text": [
      "[[852, 664, 1009, 766, 0.7049219608306885, 'car'], [486, 367, 536, 413, 0.6580470204353333, 'car'], [570, 331, 603, 356, 0.5193579792976379, 'car'], [617, 320, 648, 355, 0.4994218945503235, 'car']]\n",
      "[[477, 369, 532, 419, 0.7275474071502686, 'car'], [837, 621, 978, 756, 0.5558570623397827, 'car'], [563, 333, 605, 360, 0.4785207211971283, 'car'], [615, 320, 649, 360, 0.37552422285079956, 'car'], [987, 557, 1155, 709, 0.3564577102661133, 'car']]\n"
     ]
    },
    {
     "name": "stderr",
     "output_type": "stream",
     "text": [
      "0: 384x640 7 cars, 1 bus, 2 trucks, 62.8ms\n",
      "Speed: 2.0ms preprocess, 62.8ms inference, 1.0ms postprocess per image at shape (1, 3, 384, 640)\n",
      "\n",
      "0: 384x640 6 cars, 2 trucks, 69.8ms\n",
      "Speed: 2.0ms preprocess, 69.8ms inference, 1.0ms postprocess per image at shape (1, 3, 384, 640)\n",
      "\n"
     ]
    },
    {
     "name": "stdout",
     "output_type": "stream",
     "text": [
      "[[475, 372, 528, 423, 0.6753963232040405, 'car'], [562, 333, 606, 360, 0.48090991377830505, 'car'], [613, 319, 648, 362, 0.39784878492355347, 'car'], [831, 610, 964, 733, 0.3710824251174927, 'car'], [980, 548, 1135, 695, 0.33686143159866333, 'car'], [1066, 617, 1229, 761, 0.3234115242958069, 'car']]\n",
      "[[470, 374, 525, 426, 0.6178997755050659, 'car'], [825, 594, 949, 711, 0.5615751147270203, 'car'], [561, 333, 611, 361, 0.5240159630775452, 'car'], [970, 536, 1120, 671, 0.34983789920806885, 'car']]\n"
     ]
    },
    {
     "name": "stderr",
     "output_type": "stream",
     "text": [
      "0: 384x640 7 cars, 1 truck, 65.9ms\n",
      "Speed: 7.0ms preprocess, 65.9ms inference, 1.0ms postprocess per image at shape (1, 3, 384, 640)\n",
      "\n",
      "0: 384x640 6 cars, 2 trucks, 61.9ms\n",
      "Speed: 2.0ms preprocess, 61.9ms inference, 1.0ms postprocess per image at shape (1, 3, 384, 640)\n",
      "\n"
     ]
    },
    {
     "name": "stdout",
     "output_type": "stream",
     "text": [
      "[[467, 375, 524, 429, 0.5677364468574524, 'car'], [817, 580, 933, 691, 0.561180591583252, 'car'], [560, 334, 608, 362, 0.4555870592594147, 'car'], [961, 524, 1106, 661, 0.3651423454284668, 'car'], [609, 331, 645, 365, 0.32583481073379517, 'car']]\n",
      "[[815, 566, 924, 672, 0.680974006652832, 'car'], [462, 377, 521, 432, 0.6677340269088745, 'car'], [954, 516, 1089, 644, 0.5809873342514038, 'car'], [559, 334, 611, 362, 0.4158681631088257, 'car'], [608, 332, 645, 365, 0.35412052273750305, 'car']]\n"
     ]
    },
    {
     "name": "stderr",
     "output_type": "stream",
     "text": [
      "0: 384x640 8 cars, 2 trucks, 57.8ms\n",
      "Speed: 2.0ms preprocess, 57.8ms inference, 1.0ms postprocess per image at shape (1, 3, 384, 640)\n",
      "\n",
      "0: 384x640 7 cars, 3 trucks, 66.8ms\n",
      "Speed: 3.0ms preprocess, 66.8ms inference, 1.0ms postprocess per image at shape (1, 3, 384, 640)\n",
      "\n"
     ]
    },
    {
     "name": "stdout",
     "output_type": "stream",
     "text": [
      "[[456, 382, 515, 439, 0.6802005171775818, 'car'], [803, 545, 907, 638, 0.5023189783096313, 'car'], [607, 335, 642, 367, 0.499296098947525, 'car'], [556, 342, 589, 365, 0.45619964599609375, 'car'], [938, 504, 1064, 617, 0.4559917151927948, 'car']]\n",
      "[[452, 383, 511, 441, 0.6454181671142578, 'car'], [801, 536, 899, 631, 0.5665258765220642, 'car'], [555, 342, 588, 365, 0.5574563145637512, 'car'], [606, 335, 641, 370, 0.5343397855758667, 'car'], [900, 732, 1061, 763, 0.5210496783256531, 'car'], [930, 497, 1053, 594, 0.45836934447288513, 'car'], [993, 546, 1088, 650, 0.32249945402145386, 'car']]\n"
     ]
    },
    {
     "name": "stderr",
     "output_type": "stream",
     "text": [
      "0: 384x640 6 cars, 1 truck, 67.8ms\n",
      "Speed: 2.0ms preprocess, 67.8ms inference, 1.0ms postprocess per image at shape (1, 3, 384, 640)\n",
      "\n",
      "0: 384x640 6 cars, 2 trucks, 66.8ms\n",
      "Speed: 2.0ms preprocess, 66.8ms inference, 0.0ms postprocess per image at shape (1, 3, 384, 640)\n",
      "\n"
     ]
    },
    {
     "name": "stdout",
     "output_type": "stream",
     "text": [
      "[[888, 705, 1057, 763, 0.7147442102432251, 'car'], [797, 527, 892, 618, 0.5804908871650696, 'car'], [554, 341, 586, 365, 0.5424472093582153, 'car'], [446, 383, 507, 447, 0.5075016617774963, 'car'], [603, 336, 641, 372, 0.446028470993042, 'car']]\n",
      "[[876, 682, 1053, 765, 0.6851250529289246, 'car'], [441, 387, 506, 449, 0.661945104598999, 'car'], [551, 343, 584, 367, 0.5682269930839539, 'car'], [794, 518, 885, 603, 0.4738110601902008, 'car'], [600, 338, 639, 371, 0.4176657497882843, 'car'], [919, 484, 1035, 583, 0.33612024784088135, 'car']]\n"
     ]
    },
    {
     "name": "stderr",
     "output_type": "stream",
     "text": [
      "0: 384x640 6 cars, 3 trucks, 61.8ms\n",
      "Speed: 1.0ms preprocess, 61.8ms inference, 1.0ms postprocess per image at shape (1, 3, 384, 640)\n",
      "\n",
      "0: 384x640 7 cars, 1 truck, 58.8ms\n",
      "Speed: 2.0ms preprocess, 58.8ms inference, 1.0ms postprocess per image at shape (1, 3, 384, 640)\n",
      "\n"
     ]
    },
    {
     "name": "stdout",
     "output_type": "stream",
     "text": [
      "[[439, 392, 500, 450, 0.5900501608848572, 'car'], [867, 661, 1027, 765, 0.5770400762557983, 'car'], [549, 342, 582, 369, 0.5414043664932251, 'car'], [790, 509, 878, 590, 0.42884132266044617, 'car'], [600, 337, 638, 373, 0.37682044506073, 'car']]\n",
      "[[852, 618, 991, 758, 0.7034364342689514, 'car'], [426, 400, 493, 459, 0.6983156204223633, 'car'], [598, 342, 634, 376, 0.6282142996788025, 'car'], [546, 342, 580, 372, 0.5102368593215942, 'car'], [786, 496, 869, 573, 0.4709000587463379, 'car']]\n"
     ]
    },
    {
     "name": "stderr",
     "output_type": "stream",
     "text": [
      "0: 384x640 7 cars, 2 trucks, 72.8ms\n",
      "Speed: 1.0ms preprocess, 72.8ms inference, 1.0ms postprocess per image at shape (1, 3, 384, 640)\n",
      "\n",
      "0: 384x640 6 cars, 2 trucks, 58.8ms\n",
      "Speed: 2.0ms preprocess, 58.8ms inference, 1.0ms postprocess per image at shape (1, 3, 384, 640)\n",
      "\n"
     ]
    },
    {
     "name": "stdout",
     "output_type": "stream",
     "text": [
      "[[422, 400, 490, 465, 0.769660472869873, 'car'], [843, 605, 980, 733, 0.5890902280807495, 'car'], [598, 342, 633, 377, 0.5844433903694153, 'car'], [545, 342, 579, 373, 0.5148353576660156, 'car'], [782, 487, 859, 559, 0.34964483976364136, 'car'], [937, 502, 1015, 579, 0.3024245798587799, 'car']]\n",
      "[[837, 589, 966, 708, 0.6589252352714539, 'car'], [417, 403, 486, 468, 0.5502806901931763, 'car'], [543, 344, 581, 373, 0.52161705493927, 'car'], [594, 342, 632, 379, 0.49628427624702454, 'car']]\n"
     ]
    },
    {
     "name": "stderr",
     "output_type": "stream",
     "text": [
      "0: 384x640 6 cars, 1 truck, 67.8ms\n",
      "Speed: 3.0ms preprocess, 67.8ms inference, 1.0ms postprocess per image at shape (1, 3, 384, 640)\n",
      "\n",
      "0: 384x640 6 cars, 87.8ms\n",
      "Speed: 2.0ms preprocess, 87.8ms inference, 1.0ms postprocess per image at shape (1, 3, 384, 640)\n",
      "\n"
     ]
    },
    {
     "name": "stdout",
     "output_type": "stream",
     "text": [
      "[[410, 403, 484, 472, 0.6192123889923096, 'car'], [832, 576, 950, 692, 0.6077868342399597, 'car'], [540, 345, 584, 376, 0.509516179561615, 'car'], [591, 346, 633, 383, 0.4845757484436035, 'car']]\n",
      "[[406, 406, 480, 479, 0.5817129015922546, 'car'], [538, 346, 578, 376, 0.5547137260437012, 'car'], [591, 347, 630, 385, 0.4825007915496826, 'car'], [827, 560, 939, 668, 0.43159499764442444, 'car'], [776, 470, 847, 540, 0.312065064907074, 'car']]\n"
     ]
    },
    {
     "name": "stderr",
     "output_type": "stream",
     "text": [
      "0: 384x640 5 cars, 66.9ms\n",
      "Speed: 2.0ms preprocess, 66.9ms inference, 1.0ms postprocess per image at shape (1, 3, 384, 640)\n",
      "\n",
      "0: 384x640 6 cars, 62.8ms\n",
      "Speed: 2.0ms preprocess, 62.8ms inference, 1.0ms postprocess per image at shape (1, 3, 384, 640)\n",
      "\n"
     ]
    },
    {
     "name": "stdout",
     "output_type": "stream",
     "text": [
      "[[818, 541, 923, 643, 0.6228381991386414, 'car'], [588, 348, 627, 387, 0.44728344678878784, 'car'], [535, 346, 573, 379, 0.44062694907188416, 'car'], [769, 459, 836, 524, 0.3690800964832306, 'car'], [393, 416, 469, 485, 0.3631364107131958, 'car']]\n",
      "[[811, 528, 912, 626, 0.5922858715057373, 'car'], [586, 349, 625, 389, 0.5354925990104675, 'car'], [533, 352, 567, 380, 0.49214085936546326, 'car'], [388, 419, 463, 487, 0.4244302809238434, 'car'], [768, 453, 832, 515, 0.3558594584465027, 'car']]\n"
     ]
    },
    {
     "name": "stderr",
     "output_type": "stream",
     "text": [
      "0: 384x640 6 cars, 66.8ms\n",
      "Speed: 2.0ms preprocess, 66.8ms inference, 1.0ms postprocess per image at shape (1, 3, 384, 640)\n",
      "\n",
      "0: 384x640 6 cars, 1 truck, 62.8ms\n",
      "Speed: 3.0ms preprocess, 62.8ms inference, 1.0ms postprocess per image at shape (1, 3, 384, 640)\n",
      "\n"
     ]
    },
    {
     "name": "stdout",
     "output_type": "stream",
     "text": [
      "[[808, 520, 904, 611, 0.6340198516845703, 'car'], [530, 353, 567, 381, 0.5978030562400818, 'car'], [584, 351, 625, 391, 0.5396904349327087, 'car'], [377, 415, 464, 499, 0.517734169960022, 'car'], [766, 445, 830, 510, 0.3381838798522949, 'car']]\n",
      "[[806, 510, 896, 596, 0.5957476496696472, 'car'], [530, 355, 563, 383, 0.5830444693565369, 'car'], [371, 421, 457, 505, 0.5115673542022705, 'car'], [583, 354, 623, 395, 0.45920971035957336, 'car'], [764, 444, 829, 504, 0.34213757514953613, 'car']]\n"
     ]
    },
    {
     "name": "stderr",
     "output_type": "stream",
     "text": [
      "0: 384x640 7 cars, 1 truck, 61.8ms\n",
      "Speed: 2.0ms preprocess, 61.8ms inference, 1.0ms postprocess per image at shape (1, 3, 384, 640)\n",
      "\n",
      "0: 384x640 8 cars, 2 trucks, 61.8ms\n",
      "Speed: 2.0ms preprocess, 61.8ms inference, 1.0ms postprocess per image at shape (1, 3, 384, 640)\n",
      "\n"
     ]
    },
    {
     "name": "stdout",
     "output_type": "stream",
     "text": [
      "[[762, 439, 827, 497, 0.5322682857513428, 'car'], [530, 353, 564, 385, 0.49494102597236633, 'car'], [582, 356, 622, 397, 0.49212920665740967, 'car'], [364, 427, 449, 511, 0.34921976923942566, 'car'], [808, 512, 890, 583, 0.3491567373275757, 'car']]\n",
      "[[800, 489, 878, 569, 0.6533654928207397, 'car'], [760, 432, 823, 488, 0.5221916437149048, 'car'], [526, 359, 561, 390, 0.4610740542411804, 'car'], [348, 430, 444, 524, 0.4207896292209625, 'car'], [576, 359, 619, 402, 0.41388335824012756, 'car'], [606, 312, 628, 329, 0.3052619695663452, 'car']]\n"
     ]
    },
    {
     "name": "stderr",
     "output_type": "stream",
     "text": [
      "0: 384x640 7 cars, 1 truck, 59.8ms\n",
      "Speed: 2.0ms preprocess, 59.8ms inference, 1.0ms postprocess per image at shape (1, 3, 384, 640)\n",
      "\n",
      "0: 384x640 6 cars, 1 truck, 63.8ms\n",
      "Speed: 3.0ms preprocess, 63.8ms inference, 1.0ms postprocess per image at shape (1, 3, 384, 640)\n",
      "\n"
     ]
    },
    {
     "name": "stdout",
     "output_type": "stream",
     "text": [
      "[[571, 361, 617, 402, 0.5758533477783203, 'car'], [795, 483, 873, 556, 0.530083954334259, 'car'], [760, 429, 812, 478, 0.49925297498703003, 'car'], [522, 359, 560, 390, 0.48955321311950684, 'car'], [339, 440, 435, 531, 0.37776562571525574, 'car'], [605, 311, 628, 330, 0.32592833042144775, 'car']]\n",
      "[[521, 361, 556, 391, 0.6034618616104126, 'car'], [757, 425, 810, 476, 0.5755874514579773, 'car'], [793, 478, 870, 550, 0.5635786056518555, 'car'], [330, 440, 432, 539, 0.48864978551864624, 'car'], [570, 362, 616, 404, 0.4342881739139557, 'car']]\n"
     ]
    },
    {
     "name": "stderr",
     "output_type": "stream",
     "text": [
      "0: 384x640 6 cars, 69.8ms\n",
      "Speed: 3.0ms preprocess, 69.8ms inference, 1.0ms postprocess per image at shape (1, 3, 384, 640)\n",
      "\n",
      "0: 384x640 5 cars, 1 truck, 61.8ms\n",
      "Speed: 2.0ms preprocess, 61.8ms inference, 1.0ms postprocess per image at shape (1, 3, 384, 640)\n",
      "\n"
     ]
    },
    {
     "name": "stdout",
     "output_type": "stream",
     "text": [
      "[[790, 471, 864, 541, 0.641361653804779, 'car'], [517, 364, 554, 394, 0.5029354691505432, 'car'], [320, 442, 425, 548, 0.44247937202453613, 'car'], [569, 363, 615, 407, 0.4218232035636902, 'car'], [759, 422, 808, 472, 0.3530965745449066, 'car']]\n",
      "[[786, 463, 860, 535, 0.6146015524864197, 'car'], [513, 363, 550, 395, 0.5990009307861328, 'car'], [309, 449, 420, 555, 0.4577099680900574, 'car'], [566, 363, 613, 411, 0.367765337228775, 'car'], [755, 419, 806, 466, 0.3462368845939636, 'car']]\n"
     ]
    },
    {
     "name": "stderr",
     "output_type": "stream",
     "text": [
      "0: 384x640 5 cars, 1 truck, 69.8ms\n",
      "Speed: 2.0ms preprocess, 69.8ms inference, 1.0ms postprocess per image at shape (1, 3, 384, 640)\n",
      "\n",
      "0: 384x640 7 cars, 1 truck, 61.8ms\n",
      "Speed: 2.0ms preprocess, 61.8ms inference, 1.0ms postprocess per image at shape (1, 3, 384, 640)\n",
      "\n"
     ]
    },
    {
     "name": "stdout",
     "output_type": "stream",
     "text": [
      "[[508, 365, 546, 399, 0.6253103017807007, 'car'], [563, 370, 609, 421, 0.5252274870872498, 'car'], [287, 457, 404, 571, 0.4479213356971741, 'car'], [752, 411, 800, 458, 0.43401652574539185, 'car'], [781, 452, 849, 521, 0.3966963291168213, 'car']]\n",
      "[[505, 367, 546, 403, 0.7154325246810913, 'car'], [272, 464, 397, 587, 0.548551082611084, 'car'], [778, 446, 844, 512, 0.5371574759483337, 'car'], [751, 407, 799, 455, 0.5121757984161377, 'car'], [560, 372, 608, 423, 0.42246106266975403, 'car'], [553, 340, 591, 363, 0.30756258964538574, 'car']]\n"
     ]
    },
    {
     "name": "stderr",
     "output_type": "stream",
     "text": [
      "0: 384x640 8 cars, 87.8ms\n",
      "Speed: 2.0ms preprocess, 87.8ms inference, 1.0ms postprocess per image at shape (1, 3, 384, 640)\n",
      "\n",
      "0: 384x640 9 cars, 1 truck, 67.9ms\n",
      "Speed: 2.0ms preprocess, 67.9ms inference, 1.0ms postprocess per image at shape (1, 3, 384, 640)\n"
     ]
    },
    {
     "name": "stdout",
     "output_type": "stream",
     "text": [
      "[[502, 369, 546, 407, 0.7379569411277771, 'car'], [777, 444, 842, 507, 0.6880828738212585, 'car'], [555, 372, 607, 424, 0.6473098993301392, 'car'], [261, 470, 387, 593, 0.5435366630554199, 'car'], [750, 403, 798, 450, 0.5201884508132935, 'car'], [643, 301, 673, 326, 0.4150391221046448, 'car'], [553, 340, 588, 363, 0.40011173486709595, 'car']]\n",
      "[[500, 371, 544, 408, 0.7848783135414124, 'car'], [776, 439, 838, 498, 0.7139098644256592, 'car'], [245, 476, 381, 606, 0.5059021711349487, 'car'], [642, 302, 672, 327, 0.4571891129016876, 'car'], [749, 401, 796, 445, 0.4417622685432434, 'car'], [551, 342, 586, 364, 0.39845386147499084, 'car'], [554, 373, 605, 427, 0.31764674186706543, 'car']]\n"
     ]
    },
    {
     "name": "stderr",
     "output_type": "stream",
     "text": [
      "\n",
      "0: 384x640 7 cars, 2 trucks, 47.9ms\n",
      "Speed: 3.0ms preprocess, 47.9ms inference, 1.0ms postprocess per image at shape (1, 3, 384, 640)\n",
      "\n",
      "0: 384x640 1 person, 8 cars, 2 trucks, 62.9ms\n",
      "Speed: 3.0ms preprocess, 62.9ms inference, 2.0ms postprocess per image at shape (1, 3, 384, 640)\n"
     ]
    },
    {
     "name": "stdout",
     "output_type": "stream",
     "text": [
      "[[498, 373, 544, 409, 0.7134191989898682, 'car'], [775, 436, 834, 495, 0.6499910950660706, 'car'], [748, 399, 794, 442, 0.6146007776260376, 'car'], [641, 299, 672, 327, 0.5630435347557068, 'car'], [232, 484, 369, 618, 0.5542575120925903, 'car'], [901, 672, 1116, 765, 0.47207820415496826, 'car'], [547, 343, 583, 365, 0.39680272340774536, 'car']]\n",
      "[[493, 375, 535, 413, 0.7049381732940674, 'car'], [744, 393, 791, 433, 0.647193431854248, 'car'], [641, 298, 673, 328, 0.6142248511314392, 'car'], [199, 501, 351, 646, 0.5579952597618103, 'car'], [874, 622, 1085, 763, 0.5339293479919434, 'car'], [545, 342, 583, 368, 0.48091283440589905, 'car'], [592, 315, 617, 338, 0.3415181040763855, 'car'], [772, 426, 828, 478, 0.33126944303512573, 'car'], [543, 381, 598, 439, 0.3072153627872467, 'car']]\n"
     ]
    },
    {
     "name": "stderr",
     "output_type": "stream",
     "text": [
      "\n",
      "0: 384x640 1 person, 9 cars, 2 trucks, 66.9ms\n",
      "Speed: 2.0ms preprocess, 66.9ms inference, 1.0ms postprocess per image at shape (1, 3, 384, 640)\n",
      "\n",
      "0: 384x640 6 cars, 2 trucks, 60.9ms\n",
      "Speed: 2.0ms preprocess, 60.9ms inference, 1.0ms postprocess per image at shape (1, 3, 384, 640)\n"
     ]
    },
    {
     "name": "stdout",
     "output_type": "stream",
     "text": [
      "[[179, 508, 338, 660, 0.6782283782958984, 'car'], [640, 298, 672, 329, 0.6610989570617676, 'car'], [489, 375, 533, 416, 0.6179538369178772, 'car'], [743, 391, 789, 431, 0.5640368461608887, 'car'], [545, 343, 580, 371, 0.5542098879814148, 'car'], [770, 423, 826, 477, 0.4639023542404175, 'car'], [538, 388, 596, 444, 0.44940295815467834, 'car'], [867, 611, 1051, 762, 0.37040942907333374, 'car']]\n",
      "[[769, 420, 826, 473, 0.6834900379180908, 'car'], [162, 518, 328, 670, 0.653418242931366, 'car'], [639, 298, 672, 330, 0.634436309337616, 'car'], [543, 343, 578, 371, 0.5582152605056763, 'car'], [537, 390, 594, 449, 0.4907447397708893, 'car'], [744, 389, 786, 429, 0.43822306394577026, 'car'], [860, 593, 1132, 761, 0.3805752694606781, 'car']]\n"
     ]
    },
    {
     "name": "stderr",
     "output_type": "stream",
     "text": [
      "\n",
      "0: 384x640 1 person, 7 cars, 1 truck, 67.8ms\n",
      "Speed: 3.0ms preprocess, 67.8ms inference, 1.0ms postprocess per image at shape (1, 3, 384, 640)\n",
      "\n",
      "0: 384x640 7 cars, 1 truck, 60.8ms\n",
      "Speed: 2.0ms preprocess, 60.8ms inference, 1.0ms postprocess per image at shape (1, 3, 384, 640)\n"
     ]
    },
    {
     "name": "stdout",
     "output_type": "stream",
     "text": [
      "[[139, 526, 315, 692, 0.6904537677764893, 'car'], [639, 298, 672, 330, 0.6635568141937256, 'car'], [541, 345, 579, 373, 0.5822508335113525, 'car'], [848, 577, 1125, 761, 0.5256085395812988, 'car'], [484, 382, 528, 422, 0.47333940863609314, 'car'], [742, 388, 784, 427, 0.4116337299346924, 'car'], [535, 393, 592, 456, 0.4000416696071625, 'car'], [767, 417, 821, 470, 0.32113590836524963, 'car']]\n",
      "[[115, 535, 301, 716, 0.7127636671066284, 'car'], [639, 300, 673, 331, 0.6448391079902649, 'car'], [531, 395, 591, 459, 0.638342022895813, 'car'], [764, 413, 816, 462, 0.6179277896881104, 'car'], [539, 347, 579, 373, 0.5827268362045288, 'car'], [841, 561, 1038, 752, 0.5760439038276672, 'car'], [479, 381, 529, 426, 0.5035161375999451, 'car'], [743, 386, 783, 425, 0.3769357204437256, 'car']]\n"
     ]
    },
    {
     "name": "stderr",
     "output_type": "stream",
     "text": [
      "\n",
      "0: 384x640 1 person, 9 cars, 1 truck, 62.8ms\n",
      "Speed: 2.0ms preprocess, 62.8ms inference, 1.0ms postprocess per image at shape (1, 3, 384, 640)\n",
      "\n",
      "0: 384x640 1 person, 7 cars, 1 truck, 60.9ms\n",
      "Speed: 2.0ms preprocess, 60.9ms inference, 1.0ms postprocess per image at shape (1, 3, 384, 640)\n"
     ]
    },
    {
     "name": "stdout",
     "output_type": "stream",
     "text": [
      "[[61, 558, 271, 758, 0.7812944650650024, 'car'], [763, 407, 811, 455, 0.7469031810760498, 'car'], [831, 536, 1005, 702, 0.7311750054359436, 'car'], [638, 300, 673, 331, 0.6155107021331787, 'car'], [522, 401, 586, 469, 0.6049017310142517, 'car'], [536, 348, 578, 376, 0.5513930320739746, 'car'], [741, 381, 780, 418, 0.5116453170776367, 'car'], [472, 379, 530, 430, 0.41154778003692627, 'car']]\n",
      "[[825, 525, 987, 684, 0.8198116421699524, 'truck'], [32, 570, 255, 763, 0.7262712717056274, 'truck'], [519, 405, 584, 476, 0.6599923968315125, 'truck'], [468, 391, 515, 431, 0.5893126130104065, 'truck'], [638, 299, 673, 332, 0.5712358951568604, 'truck'], [533, 349, 570, 377, 0.4465131163597107, 'truck'], [742, 378, 777, 416, 0.33209121227264404, 'truck']]\n"
     ]
    },
    {
     "name": "stderr",
     "output_type": "stream",
     "text": [
      "\n",
      "0: 384x640 8 cars, 2 trucks, 88.8ms\n",
      "Speed: 2.0ms preprocess, 88.8ms inference, 1.0ms postprocess per image at shape (1, 3, 384, 640)\n",
      "\n",
      "0: 384x640 8 cars, 1 truck, 62.9ms\n",
      "Speed: 2.0ms preprocess, 62.9ms inference, 1.0ms postprocess per image at shape (1, 3, 384, 640)\n"
     ]
    },
    {
     "name": "stdout",
     "output_type": "stream",
     "text": [
      "[[514, 408, 580, 477, 0.7444635629653931, 'car'], [2, 584, 237, 765, 0.7166784405708313, 'car'], [820, 513, 973, 664, 0.6536442637443542, 'car'], [464, 394, 514, 435, 0.6428973078727722, 'car'], [637, 299, 675, 332, 0.5180858969688416, 'car'], [762, 401, 806, 445, 0.4723997712135315, 'car'], [532, 348, 569, 378, 0.3726048469543457, 'car'], [818, 369, 893, 425, 0.30730754137039185, 'car']]\n",
      "[[460, 395, 510, 439, 0.704268753528595, 'car'], [814, 506, 961, 647, 0.6725394129753113, 'car'], [510, 413, 577, 487, 0.6361223459243774, 'car'], [0, 597, 218, 764, 0.6291163563728333, 'car'], [636, 302, 674, 333, 0.5048781633377075, 'car'], [741, 374, 776, 409, 0.4162690043449402, 'car'], [529, 353, 566, 381, 0.4137333035469055, 'car'], [760, 397, 805, 441, 0.4103907346725464, 'car']]\n"
     ]
    },
    {
     "name": "stderr",
     "output_type": "stream",
     "text": [
      "\n",
      "0: 384x640 7 cars, 1 truck, 66.8ms\n",
      "Speed: 2.0ms preprocess, 66.8ms inference, 1.0ms postprocess per image at shape (1, 3, 384, 640)\n",
      "\n",
      "0: 384x640 1 person, 8 cars, 1 truck, 67.8ms\n",
      "Speed: 2.0ms preprocess, 67.8ms inference, 1.0ms postprocess per image at shape (1, 3, 384, 640)\n"
     ]
    },
    {
     "name": "stdout",
     "output_type": "stream",
     "text": [
      "[[458, 397, 505, 441, 0.6807841062545776, 'car'], [504, 415, 575, 496, 0.6183133721351624, 'car'], [810, 497, 949, 632, 0.5632740259170532, 'car'], [636, 302, 676, 335, 0.4884554445743561, 'car'], [527, 353, 564, 380, 0.48640191555023193, 'car'], [758, 395, 804, 439, 0.31935423612594604, 'car'], [740, 372, 776, 407, 0.30115482211112976, 'car']]\n",
      "[[492, 425, 569, 495, 0.6356844305992126, 'car'], [525, 357, 562, 384, 0.56233811378479, 'car'], [636, 299, 672, 335, 0.5368186235427856, 'car'], [450, 404, 500, 449, 0.49350929260253906, 'car'], [805, 481, 928, 605, 0.4423483908176422, 'car'], [582, 326, 611, 346, 0.4020272195339203, 'car'], [756, 391, 802, 432, 0.35231488943099976, 'car']]\n"
     ]
    },
    {
     "name": "stderr",
     "output_type": "stream",
     "text": [
      "\n",
      "0: 384x640 7 cars, 1 truck, 66.8ms\n",
      "Speed: 2.0ms preprocess, 66.8ms inference, 1.0ms postprocess per image at shape (1, 3, 384, 640)\n",
      "\n",
      "0: 384x640 5 cars, 1 truck, 59.8ms\n",
      "Speed: 2.0ms preprocess, 59.8ms inference, 1.0ms postprocess per image at shape (1, 3, 384, 640)\n",
      "\n"
     ]
    },
    {
     "name": "stdout",
     "output_type": "stream",
     "text": [
      "[[486, 432, 565, 521, 0.6935515999794006, 'car'], [444, 406, 496, 452, 0.6098924875259399, 'car'], [522, 359, 561, 386, 0.5670772194862366, 'car'], [805, 475, 921, 592, 0.5446900725364685, 'car'], [582, 327, 610, 347, 0.5431383848190308, 'car'], [636, 299, 672, 336, 0.5200268626213074, 'car'], [755, 388, 799, 430, 0.3916935622692108, 'car']]\n",
      "[[440, 412, 492, 457, 0.6728684306144714, 'car'], [799, 468, 912, 582, 0.6403613686561584, 'car'], [520, 361, 559, 389, 0.635773241519928, 'car'], [482, 434, 561, 524, 0.6075595617294312, 'car'], [582, 326, 609, 349, 0.5896983742713928, 'car'], [635, 299, 672, 337, 0.47503548860549927, 'car']]\n"
     ]
    },
    {
     "name": "stderr",
     "output_type": "stream",
     "text": [
      "0: 384x640 8 cars, 1 truck, 64.8ms\n",
      "Speed: 1.9ms preprocess, 64.8ms inference, 1.0ms postprocess per image at shape (1, 3, 384, 640)\n",
      "\n",
      "0: 384x640 9 cars, 1 truck, 66.8ms\n",
      "Speed: 2.0ms preprocess, 66.8ms inference, 1.0ms postprocess per image at shape (1, 3, 384, 640)\n"
     ]
    },
    {
     "name": "stdout",
     "output_type": "stream",
     "text": [
      "[[434, 410, 491, 461, 0.7713891863822937, 'car'], [518, 360, 556, 390, 0.7257219552993774, 'car'], [474, 438, 559, 528, 0.5924006104469299, 'car'], [580, 326, 609, 349, 0.5765011310577393, 'car'], [794, 458, 906, 571, 0.5428600311279297, 'car'], [635, 298, 672, 331, 0.4479255974292755, 'car'], [753, 384, 797, 424, 0.32686492800712585, 'car']]\n",
      "[[431, 413, 492, 465, 0.7160303592681885, 'car'], [514, 362, 553, 390, 0.6633126139640808, 'car'], [468, 444, 556, 538, 0.5560283064842224, 'car'], [753, 382, 797, 422, 0.4965500831604004, 'car'], [578, 327, 609, 348, 0.44658833742141724, 'car'], [792, 456, 897, 560, 0.38583120703697205, 'car'], [634, 300, 673, 337, 0.35597774386405945, 'car']]\n"
     ]
    },
    {
     "name": "stderr",
     "output_type": "stream",
     "text": [
      "\n",
      "0: 384x640 9 cars, 1 truck, 67.8ms\n",
      "Speed: 2.0ms preprocess, 67.8ms inference, 1.0ms postprocess per image at shape (1, 3, 384, 640)\n",
      "\n",
      "0: 384x640 9 cars, 2 trucks, 64.8ms\n",
      "Speed: 2.0ms preprocess, 64.8ms inference, 1.0ms postprocess per image at shape (1, 3, 384, 640)\n"
     ]
    },
    {
     "name": "stdout",
     "output_type": "stream",
     "text": [
      "[[419, 420, 484, 474, 0.8046008348464966, 'car'], [508, 364, 549, 395, 0.7679179310798645, 'car'], [872, 688, 1036, 765, 0.7156809568405151, 'car'], [452, 458, 545, 564, 0.6135350465774536, 'car'], [750, 373, 792, 416, 0.5375453233718872, 'car'], [575, 329, 608, 349, 0.46646827459335327, 'car'], [786, 441, 886, 546, 0.42186132073402405, 'car'], [633, 300, 672, 339, 0.37012800574302673, 'car']]\n",
      "[[415, 421, 478, 479, 0.8065750598907471, 'car'], [507, 365, 549, 397, 0.7972145676612854, 'car'], [750, 375, 792, 413, 0.7313031554222107, 'car'], [863, 665, 1022, 764, 0.6701772809028625, 'car'], [444, 465, 543, 574, 0.6337506175041199, 'car'], [573, 330, 607, 351, 0.5813429355621338, 'car'], [783, 439, 879, 534, 0.47798991203308105, 'car'], [631, 302, 672, 342, 0.41152694821357727, 'car'], [803, 355, 868, 399, 0.35357338190078735, 'car']]\n"
     ]
    },
    {
     "name": "stderr",
     "output_type": "stream",
     "text": [
      "\n",
      "0: 384x640 12 cars, 66.9ms\n",
      "Speed: 2.0ms preprocess, 66.9ms inference, 1.0ms postprocess per image at shape (1, 3, 384, 640)\n",
      "\n",
      "0: 384x640 9 cars, 1 truck, 60.8ms\n",
      "Speed: 2.0ms preprocess, 60.8ms inference, 1.0ms postprocess per image at shape (1, 3, 384, 640)\n"
     ]
    },
    {
     "name": "stdout",
     "output_type": "stream",
     "text": [
      "[[503, 366, 546, 398, 0.7904267907142639, 'car'], [408, 427, 475, 482, 0.7812048196792603, 'car'], [435, 471, 537, 586, 0.7190534472465515, 'car'], [750, 374, 788, 411, 0.710163414478302, 'car'], [572, 330, 605, 352, 0.708448052406311, 'car'], [802, 353, 868, 398, 0.40801694989204407, 'car'], [630, 302, 673, 341, 0.3973073959350586, 'car'], [856, 647, 1001, 762, 0.3940960764884949, 'car'], [780, 433, 873, 526, 0.30726712942123413, 'car']]\n",
      "[[402, 431, 470, 488, 0.8177770376205444, 'car'], [502, 367, 542, 399, 0.7854902744293213, 'car'], [425, 476, 532, 594, 0.7577255964279175, 'car'], [571, 331, 605, 353, 0.7249687314033508, 'car'], [849, 615, 986, 756, 0.5991631150245667, 'car'], [800, 352, 866, 397, 0.5534912943840027, 'car'], [749, 372, 787, 408, 0.4714052975177765, 'car'], [628, 311, 667, 344, 0.3430439233779907, 'car'], [776, 428, 865, 522, 0.3002623915672302, 'car']]\n"
     ]
    },
    {
     "name": "stderr",
     "output_type": "stream",
     "text": [
      "\n",
      "0: 384x640 7 cars, 1 bus, 64.8ms\n",
      "Speed: 2.0ms preprocess, 64.8ms inference, 2.0ms postprocess per image at shape (1, 3, 384, 640)\n",
      "\n",
      "0: 384x640 9 cars, 67.8ms\n",
      "Speed: 2.0ms preprocess, 67.8ms inference, 1.0ms postprocess per image at shape (1, 3, 384, 640)\n"
     ]
    },
    {
     "name": "stdout",
     "output_type": "stream",
     "text": [
      "[[499, 369, 540, 402, 0.7881957292556763, 'car'], [571, 331, 603, 354, 0.7694523334503174, 'car'], [840, 608, 978, 731, 0.6639692187309265, 'car'], [394, 432, 466, 494, 0.6473236680030823, 'car'], [414, 486, 525, 614, 0.6175890564918518, 'car'], [748, 372, 787, 407, 0.49050724506378174, 'car'], [800, 352, 840, 392, 0.3743430972099304, 'car']]\n",
      "[[567, 333, 606, 356, 0.7856455445289612, 'car'], [377, 441, 456, 504, 0.7624938488006592, 'car'], [495, 374, 539, 406, 0.7361617088317871, 'car'], [829, 582, 950, 685, 0.7062232494354248, 'car'], [388, 503, 513, 650, 0.6578267216682434, 'car'], [747, 365, 785, 401, 0.5352745056152344, 'car'], [627, 314, 664, 348, 0.4697621166706085, 'car'], [770, 418, 853, 499, 0.38839027285575867, 'car']]\n"
     ]
    },
    {
     "name": "stderr",
     "output_type": "stream",
     "text": [
      "\n",
      "0: 384x640 9 cars, 58.8ms\n",
      "Speed: 2.0ms preprocess, 58.8ms inference, 1.0ms postprocess per image at shape (1, 3, 384, 640)\n",
      "\n",
      "0: 384x640 9 cars, 69.8ms\n",
      "Speed: 2.0ms preprocess, 69.8ms inference, 1.0ms postprocess per image at shape (1, 3, 384, 640)\n"
     ]
    },
    {
     "name": "stdout",
     "output_type": "stream",
     "text": [
      "[[372, 445, 452, 510, 0.8080590963363647, 'car'], [565, 334, 605, 359, 0.7399296760559082, 'car'], [493, 375, 538, 408, 0.7182514071464539, 'car'], [375, 514, 508, 660, 0.6495693325996399, 'car'], [824, 568, 939, 667, 0.6355247497558594, 'car'], [745, 363, 783, 399, 0.5943326354026794, 'car'], [767, 415, 847, 494, 0.4780479669570923, 'car'], [625, 322, 662, 349, 0.46247804164886475, 'car']]\n",
      "[[360, 524, 498, 688, 0.7887158393859863, 'car'], [563, 335, 605, 359, 0.7385198473930359, 'car'], [366, 447, 444, 516, 0.7246288657188416, 'car'], [489, 375, 534, 411, 0.7151227593421936, 'car'], [824, 557, 926, 653, 0.6930513978004456, 'car'], [744, 363, 784, 397, 0.49700728058815, 'car'], [768, 409, 844, 490, 0.4836656451225281, 'car'], [624, 326, 660, 350, 0.47347256541252136, 'car']]\n"
     ]
    },
    {
     "name": "stderr",
     "output_type": "stream",
     "text": [
      "\n",
      "0: 384x640 8 cars, 66.8ms\n",
      "Speed: 2.0ms preprocess, 66.8ms inference, 1.0ms postprocess per image at shape (1, 3, 384, 640)\n",
      "\n",
      "0: 384x640 9 cars, 1 bus, 65.9ms\n",
      "Speed: 2.0ms preprocess, 65.9ms inference, 1.0ms postprocess per image at shape (1, 3, 384, 640)\n"
     ]
    },
    {
     "name": "stdout",
     "output_type": "stream",
     "text": [
      "[[342, 537, 492, 714, 0.7583022117614746, 'car'], [486, 373, 539, 414, 0.7168231010437012, 'car'], [357, 451, 440, 523, 0.7087932825088501, 'car'], [562, 335, 603, 359, 0.7084435224533081, 'car'], [817, 546, 918, 638, 0.6929928064346313, 'car'], [743, 361, 786, 395, 0.6720972061157227, 'car'], [765, 408, 839, 484, 0.5357704758644104, 'car'], [624, 326, 657, 350, 0.4664759933948517, 'car']]\n",
      "[[325, 550, 482, 724, 0.7162894606590271, 'car'], [349, 457, 435, 530, 0.7162871956825256, 'car'], [482, 380, 529, 415, 0.7071250677108765, 'car'], [561, 336, 605, 360, 0.678398847579956, 'car'], [743, 359, 787, 394, 0.6318894624710083, 'car'], [813, 537, 909, 623, 0.6002795100212097, 'car'], [624, 327, 655, 350, 0.4440544545650482, 'car'], [764, 405, 837, 477, 0.3541527986526489, 'car']]\n"
     ]
    },
    {
     "name": "stderr",
     "output_type": "stream",
     "text": [
      "\n",
      "0: 384x640 9 cars, 62.8ms\n",
      "Speed: 2.0ms preprocess, 62.8ms inference, 1.0ms postprocess per image at shape (1, 3, 384, 640)\n",
      "\n",
      "0: 384x640 9 cars, 1 truck, 69.8ms\n",
      "Speed: 2.0ms preprocess, 69.8ms inference, 1.0ms postprocess per image at shape (1, 3, 384, 640)\n"
     ]
    },
    {
     "name": "stdout",
     "output_type": "stream",
     "text": [
      "[[282, 580, 462, 761, 0.7609807848930359, 'car'], [331, 468, 422, 545, 0.7556966543197632, 'car'], [475, 383, 522, 420, 0.7147709727287292, 'car'], [760, 397, 829, 465, 0.6713577508926392, 'car'], [743, 356, 781, 390, 0.6398403644561768, 'car'], [808, 520, 896, 601, 0.5918146967887878, 'car'], [558, 339, 599, 362, 0.5748486518859863, 'car'], [622, 325, 656, 351, 0.4788760542869568, 'car']]\n",
      "[[759, 395, 828, 462, 0.8121206760406494, 'car'], [322, 473, 416, 553, 0.700211763381958, 'car'], [472, 381, 526, 425, 0.688329815864563, 'car'], [801, 508, 887, 589, 0.6841713786125183, 'car'], [742, 355, 781, 388, 0.6198017597198486, 'car'], [259, 600, 450, 766, 0.5709845423698425, 'car'], [557, 340, 594, 364, 0.5700358748435974, 'car'], [621, 326, 656, 352, 0.38919001817703247, 'car']]\n"
     ]
    },
    {
     "name": "stderr",
     "output_type": "stream",
     "text": [
      "\n",
      "0: 384x640 10 cars, 64.8ms\n",
      "Speed: 2.0ms preprocess, 64.8ms inference, 1.0ms postprocess per image at shape (1, 3, 384, 640)\n",
      "\n",
      "0: 384x640 8 cars, 1 truck, 57.8ms\n",
      "Speed: 7.0ms preprocess, 57.8ms inference, 1.0ms postprocess per image at shape (1, 3, 384, 640)\n",
      "\n"
     ]
    },
    {
     "name": "stdout",
     "output_type": "stream",
     "text": [
      "[[759, 391, 826, 458, 0.7304311990737915, 'car'], [468, 386, 519, 427, 0.7295834422111511, 'car'], [798, 500, 882, 579, 0.7065830230712891, 'car'], [237, 619, 438, 763, 0.7041709423065186, 'car'], [314, 479, 406, 561, 0.6990267038345337, 'car'], [741, 352, 778, 385, 0.6254876255989075, 'car'], [556, 341, 590, 365, 0.5475901961326599, 'car']]\n",
      "[[301, 485, 401, 572, 0.7464842200279236, 'car'], [465, 386, 517, 429, 0.7124871611595154, 'car'], [797, 495, 875, 569, 0.6880466341972351, 'car'], [555, 342, 590, 366, 0.5887856483459473, 'car'], [741, 350, 777, 383, 0.523700475692749, 'car'], [759, 389, 821, 454, 0.4657268524169922, 'car'], [217, 641, 422, 766, 0.46339520812034607, 'car']]\n"
     ]
    },
    {
     "name": "stderr",
     "output_type": "stream",
     "text": [
      "0: 384x640 10 cars, 85.8ms\n",
      "Speed: 2.0ms preprocess, 85.8ms inference, 0.0ms postprocess per image at shape (1, 3, 384, 640)\n",
      "\n",
      "0: 384x640 9 cars, 63.9ms\n",
      "Speed: 2.0ms preprocess, 63.9ms inference, 1.0ms postprocess per image at shape (1, 3, 384, 640)\n",
      "\n"
     ]
    },
    {
     "name": "stdout",
     "output_type": "stream",
     "text": [
      "[[290, 492, 392, 579, 0.8008994460105896, 'car'], [463, 387, 514, 431, 0.7681692838668823, 'car'], [554, 343, 588, 366, 0.6542526483535767, 'car'], [792, 488, 874, 555, 0.6270875334739685, 'car'], [755, 387, 818, 451, 0.549668550491333, 'car'], [740, 349, 776, 383, 0.5197693705558777, 'car'], [197, 666, 404, 765, 0.36862632632255554, 'car']]\n",
      "[[264, 506, 376, 602, 0.7174975872039795, 'car'], [549, 344, 583, 370, 0.6274747252464294, 'car'], [455, 394, 503, 437, 0.6227839589118958, 'car'], [783, 476, 862, 542, 0.5728456974029541, 'car'], [736, 345, 775, 378, 0.42020443081855774, 'car']]\n"
     ]
    },
    {
     "name": "stderr",
     "output_type": "stream",
     "text": [
      "0: 384x640 7 cars, 72.8ms\n",
      "Speed: 2.0ms preprocess, 72.8ms inference, 1.0ms postprocess per image at shape (1, 3, 384, 640)\n",
      "\n",
      "0: 384x640 7 cars, 64.8ms\n",
      "Speed: 2.0ms preprocess, 64.8ms inference, 1.0ms postprocess per image at shape (1, 3, 384, 640)\n",
      "\n"
     ]
    },
    {
     "name": "stdout",
     "output_type": "stream",
     "text": [
      "[[452, 397, 508, 439, 0.686238169670105, 'car'], [547, 343, 582, 372, 0.6538662314414978, 'car'], [784, 470, 863, 534, 0.6430845260620117, 'car'], [251, 513, 367, 612, 0.6321281790733337, 'car'], [737, 344, 774, 377, 0.4686829745769501, 'car'], [613, 331, 652, 360, 0.32693934440612793, 'car']]\n",
      "[[237, 523, 359, 625, 0.8136987686157227, 'car'], [446, 399, 516, 443, 0.7646910548210144, 'car'], [546, 343, 582, 372, 0.6731680631637573, 'car'], [783, 462, 850, 525, 0.5566760301589966, 'car'], [612, 332, 650, 362, 0.32549625635147095, 'car'], [737, 344, 774, 376, 0.3108639419078827, 'car']]\n"
     ]
    },
    {
     "name": "stderr",
     "output_type": "stream",
     "text": [
      "0: 384x640 7 cars, 1 truck, 69.8ms\n",
      "Speed: 2.0ms preprocess, 69.8ms inference, 1.0ms postprocess per image at shape (1, 3, 384, 640)\n",
      "\n",
      "0: 384x640 6 cars, 1 train, 65.8ms\n",
      "Speed: 2.0ms preprocess, 65.8ms inference, 1.0ms postprocess per image at shape (1, 3, 384, 640)\n",
      "\n"
     ]
    },
    {
     "name": "stdout",
     "output_type": "stream",
     "text": [
      "[[222, 530, 346, 638, 0.8553427457809448, 'car'], [545, 344, 581, 372, 0.7045310139656067, 'car'], [442, 400, 494, 444, 0.6642635464668274, 'car'], [779, 458, 846, 519, 0.594039797782898, 'car'], [610, 332, 650, 365, 0.3578341603279114, 'car'], [737, 343, 773, 374, 0.3085062801837921, 'car']]\n",
      "[[438, 402, 491, 446, 0.7891466021537781, 'car'], [542, 345, 581, 373, 0.6987467408180237, 'car'], [205, 541, 337, 654, 0.6847221255302429, 'car'], [778, 451, 842, 511, 0.6621333360671997, 'car'], [608, 332, 650, 366, 0.3828856348991394, 'car']]\n"
     ]
    },
    {
     "name": "stderr",
     "output_type": "stream",
     "text": [
      "0: 384x640 7 cars, 58.8ms\n",
      "Speed: 2.0ms preprocess, 58.8ms inference, 1.0ms postprocess per image at shape (1, 3, 384, 640)\n",
      "\n",
      "0: 384x640 6 cars, 74.8ms\n",
      "Speed: 2.0ms preprocess, 74.8ms inference, 1.0ms postprocess per image at shape (1, 3, 384, 640)\n"
     ]
    },
    {
     "name": "stdout",
     "output_type": "stream",
     "text": [
      "[[429, 408, 486, 456, 0.7843115925788879, 'car'], [167, 561, 313, 685, 0.7501529455184937, 'car'], [538, 346, 581, 376, 0.690269947052002, 'car'], [774, 442, 833, 500, 0.6858499646186829, 'car'], [607, 332, 646, 368, 0.5086139440536499, 'car'], [747, 368, 797, 422, 0.3780030310153961, 'car']]\n",
      "[[146, 574, 300, 703, 0.7885308265686035, 'car'], [772, 440, 831, 493, 0.7668808102607727, 'car'], [425, 412, 486, 460, 0.7384634017944336, 'car'], [537, 347, 575, 378, 0.6349921226501465, 'car'], [606, 334, 646, 369, 0.4888424575328827, 'car'], [745, 367, 796, 420, 0.3005026578903198, 'car']]\n"
     ]
    },
    {
     "name": "stderr",
     "output_type": "stream",
     "text": [
      "\n",
      "0: 384x640 7 cars, 57.8ms\n",
      "Speed: 2.0ms preprocess, 57.8ms inference, 1.0ms postprocess per image at shape (1, 3, 384, 640)\n",
      "\n",
      "0: 384x640 6 cars, 65.8ms\n",
      "Speed: 2.0ms preprocess, 65.8ms inference, 2.0ms postprocess per image at shape (1, 3, 384, 640)\n",
      "\n"
     ]
    },
    {
     "name": "stdout",
     "output_type": "stream",
     "text": [
      "[[123, 584, 286, 722, 0.8332405686378479, 'car'], [420, 415, 478, 462, 0.6971792578697205, 'car'], [770, 436, 830, 488, 0.674504816532135, 'car'], [535, 347, 573, 379, 0.555841863155365, 'car'], [605, 338, 646, 371, 0.43127432465553284, 'car'], [744, 364, 795, 417, 0.3695089817047119, 'car']]\n",
      "[[97, 598, 271, 748, 0.7134297490119934, 'car'], [769, 431, 827, 481, 0.7006460428237915, 'car'], [415, 419, 475, 468, 0.676893413066864, 'car'], [534, 349, 570, 380, 0.5147078633308411, 'car'], [605, 338, 646, 372, 0.36444637179374695, 'car']]\n"
     ]
    },
    {
     "name": "stderr",
     "output_type": "stream",
     "text": [
      "0: 384x640 6 cars, 60.8ms\n",
      "Speed: 2.0ms preprocess, 60.8ms inference, 1.0ms postprocess per image at shape (1, 3, 384, 640)\n",
      "\n",
      "0: 384x640 8 cars, 68.8ms\n",
      "Speed: 3.0ms preprocess, 68.8ms inference, 1.0ms postprocess per image at shape (1, 3, 384, 640)\n",
      "\n"
     ]
    },
    {
     "name": "stdout",
     "output_type": "stream",
     "text": [
      "[[70, 611, 255, 764, 0.7434426546096802, 'car'], [410, 420, 471, 471, 0.7139865159988403, 'car'], [768, 427, 827, 477, 0.6794140934944153, 'car'], [531, 353, 567, 382, 0.5682197213172913, 'car'], [744, 362, 793, 412, 0.39646977186203003, 'car'], [604, 339, 641, 372, 0.32647913694381714, 'car']]\n",
      "[[400, 426, 465, 479, 0.7395489811897278, 'car'], [529, 355, 564, 384, 0.5696486830711365, 'car'], [762, 421, 821, 470, 0.535627543926239, 'car'], [7, 646, 221, 764, 0.5291346907615662, 'car'], [746, 361, 791, 407, 0.39658623933792114, 'car'], [602, 340, 641, 375, 0.3508783280849457, 'car']]\n"
     ]
    },
    {
     "name": "stderr",
     "output_type": "stream",
     "text": [
      "0: 384x640 7 cars, 78.8ms\n",
      "Speed: 2.0ms preprocess, 78.8ms inference, 1.0ms postprocess per image at shape (1, 3, 384, 640)\n",
      "\n",
      "0: 384x640 7 cars, 66.8ms\n",
      "Speed: 2.0ms preprocess, 66.8ms inference, 1.0ms postprocess per image at shape (1, 3, 384, 640)\n",
      "\n"
     ]
    },
    {
     "name": "stdout",
     "output_type": "stream",
     "text": [
      "[[762, 416, 815, 464, 0.65159010887146, 'car'], [392, 430, 461, 486, 0.6416588425636292, 'car'], [0, 665, 196, 763, 0.6299604773521423, 'car'], [527, 357, 565, 387, 0.5444605946540833, 'car'], [600, 341, 639, 375, 0.45321378111839294, 'car'], [744, 359, 789, 405, 0.3095230162143707, 'car']]\n",
      "[[387, 434, 455, 490, 0.6233183741569519, 'car'], [762, 412, 815, 459, 0.5638691186904907, 'car'], [526, 361, 562, 388, 0.5499817132949829, 'car'], [0, 687, 173, 765, 0.5295776724815369, 'car'], [599, 342, 638, 377, 0.44543546438217163, 'car']]\n"
     ]
    },
    {
     "name": "stderr",
     "output_type": "stream",
     "text": [
      "0: 384x640 6 cars, 60.8ms\n",
      "Speed: 2.0ms preprocess, 60.8ms inference, 1.0ms postprocess per image at shape (1, 3, 384, 640)\n",
      "\n",
      "0: 384x640 8 cars, 59.8ms\n",
      "Speed: 2.0ms preprocess, 59.8ms inference, 1.0ms postprocess per image at shape (1, 3, 384, 640)\n",
      "\n",
      "0: 384x640 5 cars, 1 truck, 63.8ms\n"
     ]
    },
    {
     "name": "stdout",
     "output_type": "stream",
     "text": [
      "[[378, 437, 453, 495, 0.8304620981216431, 'car'], [761, 408, 812, 456, 0.6879488229751587, 'car'], [523, 360, 559, 390, 0.6417772769927979, 'car'], [597, 343, 639, 380, 0.45611196756362915, 'car']]\n",
      "[[371, 441, 447, 502, 0.8209334015846252, 'car'], [521, 360, 556, 392, 0.7148419618606567, 'car'], [760, 405, 813, 453, 0.6125532388687134, 'car'], [595, 344, 636, 382, 0.49682357907295227, 'car']]\n"
     ]
    },
    {
     "name": "stderr",
     "output_type": "stream",
     "text": [
      "Speed: 2.0ms preprocess, 63.8ms inference, 1.0ms postprocess per image at shape (1, 3, 384, 640)\n",
      "\n",
      "0: 384x640 5 cars, 2 trucks, 67.9ms\n",
      "Speed: 2.0ms preprocess, 67.9ms inference, 1.0ms postprocess per image at shape (1, 3, 384, 640)\n",
      "\n"
     ]
    },
    {
     "name": "stdout",
     "output_type": "stream",
     "text": [
      "[[513, 363, 554, 395, 0.7443199157714844, 'car'], [358, 448, 438, 514, 0.6706697940826416, 'car'], [758, 402, 806, 443, 0.5212829113006592, 'car'], [592, 346, 637, 386, 0.39682507514953613, 'car'], [735, 332, 783, 393, 0.30959492921829224, 'car']]\n",
      "[[510, 364, 551, 397, 0.775476336479187, 'car'], [351, 455, 431, 520, 0.7552614212036133, 'car'], [756, 395, 803, 440, 0.6216718554496765, 'car'], [732, 326, 780, 390, 0.46670395135879517, 'car'], [591, 347, 634, 388, 0.43608447909355164, 'car']]\n"
     ]
    },
    {
     "name": "stderr",
     "output_type": "stream",
     "text": [
      "0: 384x640 6 cars, 1 truck, 71.3ms\n",
      "Speed: 2.0ms preprocess, 71.3ms inference, 1.0ms postprocess per image at shape (1, 3, 384, 640)\n",
      "\n",
      "0: 384x640 4 cars, 2 trucks, 61.8ms\n",
      "Speed: 2.0ms preprocess, 61.8ms inference, 1.0ms postprocess per image at shape (1, 3, 384, 640)\n",
      "\n"
     ]
    },
    {
     "name": "stdout",
     "output_type": "stream",
     "text": [
      "[[509, 366, 550, 399, 0.782299280166626, 'car'], [343, 458, 427, 527, 0.7784768342971802, 'car'], [755, 393, 802, 438, 0.6350752115249634, 'car'], [590, 347, 636, 390, 0.42364782094955444, 'car'], [731, 325, 780, 389, 0.31667324900627136, 'car']]\n",
      "[[507, 366, 547, 401, 0.815057635307312, 'car'], [333, 463, 421, 535, 0.798820436000824, 'car'], [755, 392, 802, 433, 0.5943038463592529, 'car'], [588, 349, 631, 390, 0.5560662746429443, 'car'], [607, 314, 646, 348, 0.3181638717651367, 'car']]\n"
     ]
    },
    {
     "name": "stderr",
     "output_type": "stream",
     "text": [
      "0: 384x640 4 cars, 1 truck, 61.8ms\n",
      "Speed: 3.0ms preprocess, 61.8ms inference, 1.0ms postprocess per image at shape (1, 3, 384, 640)\n",
      "\n",
      "0: 384x640 6 cars, 2 trucks, 71.8ms\n",
      "Speed: 3.0ms preprocess, 71.8ms inference, 1.0ms postprocess per image at shape (1, 3, 384, 640)\n",
      "\n"
     ]
    },
    {
     "name": "stdout",
     "output_type": "stream",
     "text": [
      "[[504, 367, 545, 403, 0.8407318592071533, 'car'], [328, 468, 414, 541, 0.7629507184028625, 'car'], [588, 352, 629, 391, 0.5565529465675354, 'car'], [753, 390, 814, 432, 0.5477179884910583, 'car'], [607, 314, 645, 352, 0.40529438853263855, 'car']]\n",
      "[[307, 478, 403, 555, 0.8097643256187439, 'car'], [499, 371, 542, 408, 0.7306427955627441, 'car'], [585, 352, 628, 395, 0.6083573698997498, 'car'], [753, 384, 816, 427, 0.5353676080703735, 'car'], [620, 356, 660, 396, 0.3312016725540161, 'car'], [606, 315, 645, 351, 0.3009651005268097, 'car']]\n"
     ]
    },
    {
     "name": "stderr",
     "output_type": "stream",
     "text": [
      "0: 384x640 6 cars, 1 train, 1 truck, 57.8ms\n",
      "Speed: 3.0ms preprocess, 57.8ms inference, 1.0ms postprocess per image at shape (1, 3, 384, 640)\n",
      "\n",
      "0: 384x640 5 cars, 65.8ms\n",
      "Speed: 2.0ms preprocess, 65.8ms inference, 1.0ms postprocess per image at shape (1, 3, 384, 640)\n",
      "\n"
     ]
    },
    {
     "name": "stdout",
     "output_type": "stream",
     "text": [
      "[[297, 481, 396, 566, 0.778300940990448, 'car'], [497, 373, 540, 411, 0.7413955926895142, 'car'], [583, 355, 626, 398, 0.6786084175109863, 'car'], [751, 382, 808, 423, 0.451749712228775, 'car'], [619, 358, 660, 397, 0.39401382207870483, 'car'], [605, 316, 644, 356, 0.30681926012039185, 'car'], [731, 321, 776, 383, 0.3007310628890991, 'car']]\n",
      "[[286, 488, 389, 573, 0.8526753187179565, 'car'], [494, 375, 538, 412, 0.8304170966148376, 'car'], [582, 357, 625, 401, 0.653591513633728, 'car'], [619, 359, 661, 400, 0.3872874081134796, 'car'], [750, 378, 794, 415, 0.3354179263114929, 'car']]\n"
     ]
    },
    {
     "name": "stderr",
     "output_type": "stream",
     "text": [
      "0: 384x640 7 cars, 66.8ms\n",
      "Speed: 2.0ms preprocess, 66.8ms inference, 1.0ms postprocess per image at shape (1, 3, 384, 640)\n",
      "\n",
      "0: 384x640 6 cars, 59.8ms\n",
      "Speed: 2.0ms preprocess, 59.8ms inference, 1.0ms postprocess per image at shape (1, 3, 384, 640)\n",
      "\n"
     ]
    },
    {
     "name": "stdout",
     "output_type": "stream",
     "text": [
      "[[492, 375, 537, 416, 0.8104989528656006, 'car'], [278, 494, 381, 583, 0.7930551171302795, 'car'], [580, 358, 625, 403, 0.6306235194206238, 'car'], [749, 375, 794, 414, 0.42002734541893005, 'car'], [603, 316, 643, 363, 0.3238237202167511, 'car']]\n",
      "[[265, 501, 375, 592, 0.6793010234832764, 'car'], [487, 377, 532, 418, 0.6262794733047485, 'car'], [578, 359, 624, 405, 0.5291860103607178, 'car'], [602, 316, 642, 362, 0.3214355409145355, 'car']]\n"
     ]
    },
    {
     "name": "stderr",
     "output_type": "stream",
     "text": [
      "0: 384x640 8 cars, 63.8ms\n",
      "Speed: 3.0ms preprocess, 63.8ms inference, 1.0ms postprocess per image at shape (1, 3, 384, 640)\n",
      "\n",
      "0: 384x640 6 cars, 66.9ms\n",
      "Speed: 2.0ms preprocess, 66.9ms inference, 1.0ms postprocess per image at shape (1, 3, 384, 640)\n",
      "\n"
     ]
    },
    {
     "name": "stdout",
     "output_type": "stream",
     "text": [
      "[[240, 517, 357, 613, 0.832504391670227, 'car'], [481, 378, 529, 424, 0.5667823553085327, 'car'], [731, 320, 773, 371, 0.40025269985198975, 'car'], [748, 371, 792, 407, 0.31511354446411133, 'car']]\n",
      "[[225, 525, 347, 625, 0.813385546207428, 'car'], [478, 379, 531, 426, 0.578120231628418, 'car'], [747, 369, 791, 406, 0.429380863904953, 'car'], [570, 366, 616, 411, 0.4116290807723999, 'car'], [731, 319, 772, 370, 0.36130091547966003, 'car']]\n"
     ]
    },
    {
     "name": "stderr",
     "output_type": "stream",
     "text": [
      "0: 384x640 5 cars, 63.8ms\n",
      "Speed: 2.0ms preprocess, 63.8ms inference, 1.0ms postprocess per image at shape (1, 3, 384, 640)\n",
      "\n",
      "0: 384x640 4 cars, 65.8ms\n",
      "Speed: 3.0ms preprocess, 65.8ms inference, 1.0ms postprocess per image at shape (1, 3, 384, 640)\n",
      "\n"
     ]
    },
    {
     "name": "stdout",
     "output_type": "stream",
     "text": [
      "[[211, 532, 339, 639, 0.7518976926803589, 'car'], [569, 368, 617, 413, 0.7401414513587952, 'car'], [473, 381, 529, 429, 0.5909016132354736, 'car'], [747, 367, 791, 403, 0.4113956689834595, 'car']]\n",
      "[[194, 542, 327, 652, 0.8475809693336487, 'car'], [468, 387, 520, 429, 0.6552464365959167, 'car'], [569, 369, 616, 417, 0.6088815331459045, 'car']]\n"
     ]
    },
    {
     "name": "stderr",
     "output_type": "stream",
     "text": [
      "0: 384x640 4 cars, 1 truck, 65.8ms\n",
      "Speed: 2.0ms preprocess, 65.8ms inference, 1.0ms postprocess per image at shape (1, 3, 384, 640)\n",
      "\n",
      "0: 384x640 6 cars, 1 truck, 68.8ms\n",
      "Speed: 2.0ms preprocess, 68.8ms inference, 1.0ms postprocess per image at shape (1, 3, 384, 640)\n",
      "\n"
     ]
    },
    {
     "name": "stdout",
     "output_type": "stream",
     "text": [
      "[[176, 551, 317, 670, 0.7657896280288696, 'car'], [466, 389, 519, 434, 0.7430486679077148, 'car'], [567, 370, 613, 421, 0.7201621532440186, 'car']]\n",
      "[[459, 395, 509, 440, 0.8045440912246704, 'car'], [138, 572, 292, 698, 0.7936956882476807, 'car'], [561, 377, 612, 426, 0.7001323103904724, 'car'], [868, 700, 1022, 764, 0.5293091535568237, 'car'], [742, 361, 792, 394, 0.3840862512588501, 'car']]\n"
     ]
    },
    {
     "name": "stderr",
     "output_type": "stream",
     "text": [
      "0: 384x640 8 cars, 64.9ms\n",
      "Speed: 2.0ms preprocess, 64.9ms inference, 2.0ms postprocess per image at shape (1, 3, 384, 640)\n",
      "\n",
      "0: 384x640 7 cars, 1 truck, 62.8ms\n",
      "Speed: 4.0ms preprocess, 62.8ms inference, 1.0ms postprocess per image at shape (1, 3, 384, 640)\n",
      "\n"
     ]
    },
    {
     "name": "stdout",
     "output_type": "stream",
     "text": [
      "[[116, 584, 280, 718, 0.8166245222091675, 'car'], [457, 397, 506, 441, 0.6908940672874451, 'car'], [559, 379, 612, 428, 0.6766456365585327, 'car'], [860, 680, 1033, 765, 0.5763588547706604, 'car'], [1175, 602, 1362, 760, 0.3747131824493408, 'car'], [731, 317, 767, 362, 0.37022367119789124, 'car']]\n",
      "[[91, 596, 267, 742, 0.8376263976097107, 'car'], [1155, 587, 1362, 759, 0.6777436137199402, 'car'], [853, 658, 1007, 765, 0.6534358859062195, 'car'], [451, 398, 506, 447, 0.628048837184906, 'car'], [557, 378, 610, 432, 0.5735178589820862, 'car'], [742, 357, 793, 392, 0.3915817439556122, 'car']]\n"
     ]
    },
    {
     "name": "stderr",
     "output_type": "stream",
     "text": [
      "0: 384x640 4 cars, 1 truck, 63.8ms\n",
      "Speed: 2.0ms preprocess, 63.8ms inference, 1.0ms postprocess per image at shape (1, 3, 384, 640)\n",
      "\n",
      "0: 384x640 5 cars, 1 truck, 82.8ms\n",
      "Speed: 2.0ms preprocess, 82.8ms inference, 1.0ms postprocess per image at shape (1, 3, 384, 640)\n",
      "\n"
     ]
    },
    {
     "name": "stdout",
     "output_type": "stream",
     "text": [
      "[[66, 610, 250, 759, 0.8267900943756104, 'car'], [448, 401, 504, 450, 0.7916587591171265, 'car'], [1136, 574, 1362, 758, 0.7345506548881531, 'car'], [555, 382, 610, 437, 0.6087411642074585, 'car'], [846, 637, 989, 761, 0.5621439814567566, 'car']]\n",
      "[[1120, 561, 1362, 759, 0.850659191608429, 'truck'], [441, 404, 501, 455, 0.7278025150299072, 'truck'], [34, 616, 232, 764, 0.6486920714378357, 'truck'], [552, 387, 607, 439, 0.6047309637069702, 'truck'], [841, 619, 977, 750, 0.555448055267334, 'truck']]\n"
     ]
    },
    {
     "name": "stderr",
     "output_type": "stream",
     "text": [
      "0: 384x640 1 person, 5 cars, 1 truck, 63.8ms\n",
      "Speed: 3.0ms preprocess, 63.8ms inference, 1.0ms postprocess per image at shape (1, 3, 384, 640)\n",
      "C:\\Users\\Toqa Alaa\\AppData\\Local\\Temp\\ipykernel_1092\\3134211081.py:12: RuntimeWarning: invalid value encountered in divide\n",
      "  iou = intersection_area / (box1_area + boxes2_area - intersection_area)\n",
      "\n",
      "0: 384x640 1 person, 6 cars, 1 truck, 63.8ms\n",
      "Speed: 2.0ms preprocess, 63.8ms inference, 1.0ms postprocess per image at shape (1, 3, 384, 640)\n",
      "\n"
     ]
    },
    {
     "name": "stdout",
     "output_type": "stream",
     "text": [
      "[[1086, 537, 1362, 757, 0.8320295214653015, 'truck'], [1, 657, 247, 765, 0.7258199453353882, 'truck'], [433, 410, 493, 460, 0.6964682936668396, 'truck'], [544, 387, 603, 443, 0.6486927270889282, 'truck'], [743, 351, 779, 383, 0.4180295765399933, 'truck']]\n",
      "[[1070, 527, 1363, 759, 0.7131605744361877, 'truck'], [430, 413, 489, 466, 0.7013646364212036, 'truck'], [743, 351, 778, 382, 0.6637280583381653, 'truck'], [537, 388, 600, 450, 0.6229304075241089, 'truck'], [825, 581, 941, 682, 0.6061810255050659, 'truck'], [1, 676, 175, 766, 0.5482657551765442, 'truck'], [583, 338, 625, 394, 0.431124210357666, 'truck']]\n"
     ]
    },
    {
     "name": "stderr",
     "output_type": "stream",
     "text": [
      "0: 384x640 1 person, 6 cars, 2 trucks, 81.8ms\n",
      "Speed: 2.0ms preprocess, 81.8ms inference, 1.0ms postprocess per image at shape (1, 3, 384, 640)\n",
      "\n",
      "0: 384x640 4 cars, 1 bus, 1 truck, 65.8ms\n",
      "Speed: 2.0ms preprocess, 65.8ms inference, 1.0ms postprocess per image at shape (1, 3, 384, 640)\n",
      "\n"
     ]
    },
    {
     "name": "stdout",
     "output_type": "stream",
     "text": [
      "[[424, 415, 488, 469, 0.796510636806488, 'car'], [538, 391, 599, 454, 0.7139948606491089, 'car'], [1061, 517, 1363, 759, 0.6546412110328674, 'car'], [742, 351, 777, 380, 0.5629425644874573, 'car'], [822, 567, 931, 662, 0.5531423091888428, 'car']]\n",
      "[[815, 557, 922, 650, 0.7308992147445679, 'car'], [418, 420, 480, 474, 0.705486536026001, 'car'], [1050, 507, 1363, 757, 0.48546892404556274, 'car'], [535, 394, 598, 458, 0.4521794021129608, 'car'], [742, 350, 779, 378, 0.42939046025276184, 'car']]\n"
     ]
    },
    {
     "name": "stderr",
     "output_type": "stream",
     "text": [
      "0: 384x640 5 cars, 1 bus, 1 train, 60.9ms\n",
      "Speed: 2.0ms preprocess, 60.9ms inference, 1.0ms postprocess per image at shape (1, 3, 384, 640)\n",
      "\n",
      "0: 384x640 5 cars, 1 bus, 65.8ms\n",
      "Speed: 2.0ms preprocess, 65.8ms inference, 1.0ms postprocess per image at shape (1, 3, 384, 640)\n",
      "\n"
     ]
    },
    {
     "name": "stdout",
     "output_type": "stream",
     "text": [
      "[[414, 423, 477, 477, 0.7532212734222412, 'car'], [534, 400, 596, 462, 0.6869055032730103, 'car'], [809, 546, 915, 635, 0.5912103056907654, 'car'], [1037, 496, 1363, 759, 0.4372820556163788, 'car'], [741, 349, 781, 377, 0.4280453622341156, 'car'], [577, 343, 623, 399, 0.4004274010658264, 'car']]\n",
      "[[401, 428, 471, 488, 0.7196412682533264, 'car'], [529, 403, 592, 472, 0.7126015424728394, 'car'], [804, 528, 901, 613, 0.6122519373893738, 'car'], [741, 347, 783, 374, 0.5311694145202637, 'car'], [570, 346, 620, 404, 0.4017391800880432, 'car'], [1015, 481, 1363, 759, 0.3631731867790222, 'car']]\n"
     ]
    },
    {
     "name": "stderr",
     "output_type": "stream",
     "text": [
      "0: 384x640 5 cars, 1 bus, 60.8ms\n",
      "Speed: 2.0ms preprocess, 60.8ms inference, 1.0ms postprocess per image at shape (1, 3, 384, 640)\n",
      "\n",
      "0: 384x640 5 cars, 1 bus, 64.8ms\n",
      "Speed: 2.0ms preprocess, 64.8ms inference, 1.0ms postprocess per image at shape (1, 3, 384, 640)\n",
      "\n"
     ]
    },
    {
     "name": "stdout",
     "output_type": "stream",
     "text": [
      "[[393, 433, 465, 494, 0.6942217946052551, 'car'], [801, 519, 893, 598, 0.6736852526664734, 'car'], [525, 406, 590, 479, 0.5770142078399658, 'car'], [1005, 475, 1363, 759, 0.5283527970314026, 'car'], [741, 346, 783, 372, 0.43192166090011597, 'car'], [570, 346, 619, 403, 0.3541717827320099, 'car']]\n",
      "[[384, 434, 459, 500, 0.7662627696990967, 'car'], [521, 406, 588, 476, 0.7012012600898743, 'car'], [800, 510, 886, 586, 0.6212884187698364, 'car'], [570, 346, 618, 405, 0.4433654844760895, 'car'], [999, 468, 1363, 760, 0.3772289752960205, 'car'], [740, 345, 780, 371, 0.30741021037101746, 'car']]\n"
     ]
    },
    {
     "name": "stderr",
     "output_type": "stream",
     "text": [
      "0: 384x640 4 cars, 1 bus, 1 train, 63.8ms\n",
      "Speed: 2.0ms preprocess, 63.8ms inference, 1.0ms postprocess per image at shape (1, 3, 384, 640)\n",
      "\n",
      "0: 384x640 4 cars, 1 train, 66.8ms\n",
      "Speed: 2.0ms preprocess, 66.8ms inference, 1.0ms postprocess per image at shape (1, 3, 384, 640)\n",
      "\n"
     ]
    },
    {
     "name": "stdout",
     "output_type": "stream",
     "text": [
      "[[376, 440, 456, 505, 0.8256005048751831, 'car'], [568, 348, 617, 410, 0.6037823557853699, 'car'], [797, 501, 882, 579, 0.5462169647216797, 'car'], [518, 411, 586, 484, 0.49006515741348267, 'car'], [990, 462, 1363, 757, 0.41756463050842285, 'car']]\n",
      "[[370, 445, 447, 512, 0.8181800842285156, 'car'], [513, 413, 585, 492, 0.6643518805503845, 'car'], [565, 350, 617, 412, 0.5981056094169617, 'car'], [796, 496, 875, 565, 0.5700044631958008, 'car']]\n"
     ]
    },
    {
     "name": "stderr",
     "output_type": "stream",
     "text": [
      "0: 384x640 4 cars, 1 bus, 80.8ms\n",
      "Speed: 2.1ms preprocess, 80.8ms inference, 1.0ms postprocess per image at shape (1, 3, 384, 640)\n",
      "\n",
      "0: 384x640 6 cars, 1 bus, 1 truck, 66.8ms\n",
      "Speed: 2.0ms preprocess, 66.8ms inference, 1.0ms postprocess per image at shape (1, 3, 384, 640)\n",
      "\n"
     ]
    },
    {
     "name": "stdout",
     "output_type": "stream",
     "text": [
      "[[356, 449, 440, 524, 0.8364512324333191, 'car'], [506, 427, 579, 505, 0.6456193923950195, 'car'], [789, 480, 865, 548, 0.5124790072441101, 'car'], [966, 444, 1363, 758, 0.4282224178314209, 'car'], [561, 351, 612, 418, 0.4047223925590515, 'car']]\n",
      "[[349, 457, 434, 531, 0.7059875726699829, 'car'], [499, 429, 576, 511, 0.6096962094306946, 'car'], [785, 476, 864, 541, 0.4975874423980713, 'car'], [558, 353, 611, 421, 0.4487711489200592, 'car'], [959, 438, 1363, 758, 0.39507898688316345, 'car'], [739, 335, 771, 364, 0.3323398530483246, 'car']]\n"
     ]
    },
    {
     "name": "stderr",
     "output_type": "stream",
     "text": [
      "0: 384x640 6 cars, 1 bus, 1 truck, 64.8ms\n",
      "Speed: 2.0ms preprocess, 64.8ms inference, 1.0ms postprocess per image at shape (1, 3, 384, 640)\n",
      "\n",
      "0: 384x640 6 cars, 1 bus, 64.8ms\n",
      "Speed: 2.0ms preprocess, 64.8ms inference, 1.0ms postprocess per image at shape (1, 3, 384, 640)\n",
      "\n"
     ]
    },
    {
     "name": "stdout",
     "output_type": "stream",
     "text": [
      "[[339, 460, 431, 539, 0.8781839609146118, 'car'], [492, 428, 574, 519, 0.6187977194786072, 'car'], [784, 470, 864, 533, 0.5950947403907776, 'car'], [556, 358, 609, 424, 0.5054647922515869, 'car'], [951, 433, 1363, 758, 0.47050708532333374, 'car'], [739, 335, 774, 363, 0.3013341724872589, 'car']]\n",
      "[[942, 427, 1363, 759, 0.7473149299621582, 'bus'], [487, 441, 570, 523, 0.6807025671005249, 'bus'], [330, 466, 424, 548, 0.6766147613525391, 'bus'], [554, 360, 608, 426, 0.6376982927322388, 'bus'], [782, 463, 851, 526, 0.45614105463027954, 'bus'], [738, 334, 776, 361, 0.31669169664382935, 'bus']]\n"
     ]
    },
    {
     "name": "stderr",
     "output_type": "stream",
     "text": [
      "0: 384x640 5 cars, 1 bus, 70.8ms\n",
      "Speed: 2.0ms preprocess, 70.8ms inference, 1.0ms postprocess per image at shape (1, 3, 384, 640)\n",
      "\n",
      "0: 384x640 5 cars, 1 train, 1 truck, 63.8ms\n",
      "Speed: 2.0ms preprocess, 63.8ms inference, 1.0ms postprocess per image at shape (1, 3, 384, 640)\n",
      "\n"
     ]
    },
    {
     "name": "stdout",
     "output_type": "stream",
     "text": [
      "[[322, 473, 418, 556, 0.8993644714355469, 'car'], [939, 423, 1363, 759, 0.6416211128234863, 'car'], [552, 359, 607, 430, 0.57984459400177, 'car'], [485, 439, 568, 527, 0.5734660625457764, 'car'], [781, 459, 847, 518, 0.48084962368011475, 'car'], [738, 334, 777, 361, 0.3012525141239166, 'car']]\n",
      "[[301, 482, 403, 573, 0.8047590255737305, 'car'], [472, 443, 562, 545, 0.6043882369995117, 'car'], [547, 364, 604, 438, 0.5366286039352417, 'car'], [927, 416, 1363, 761, 0.420929878950119, 'car'], [779, 447, 841, 504, 0.3760662078857422, 'car'], [739, 333, 774, 358, 0.3255002796649933, 'car']]\n"
     ]
    },
    {
     "name": "stderr",
     "output_type": "stream",
     "text": [
      "0: 384x640 5 cars, 1 train, 1 truck, 74.8ms\n",
      "Speed: 3.0ms preprocess, 74.8ms inference, 1.0ms postprocess per image at shape (1, 3, 384, 640)\n",
      "\n",
      "0: 384x640 5 cars, 1 train, 63.9ms\n",
      "Speed: 2.0ms preprocess, 63.9ms inference, 1.0ms postprocess per image at shape (1, 3, 384, 640)\n",
      "\n"
     ]
    },
    {
     "name": "stdout",
     "output_type": "stream",
     "text": [
      "[[291, 487, 397, 583, 0.7811866998672485, 'car'], [468, 448, 559, 547, 0.6978679299354553, 'car'], [545, 367, 604, 441, 0.3962307572364807, 'car'], [778, 444, 836, 498, 0.3866055905818939, 'car'], [924, 413, 1362, 761, 0.38337862491607666, 'car'], [738, 330, 768, 357, 0.3242873549461365, 'car']]\n",
      "[[459, 455, 555, 553, 0.8023028373718262, 'car'], [279, 494, 389, 590, 0.7747268676757812, 'car'], [739, 330, 770, 355, 0.5179641842842102, 'car'], [777, 439, 834, 494, 0.4826149344444275, 'car'], [537, 369, 602, 443, 0.45538613200187683, 'car'], [920, 411, 1335, 756, 0.3190845251083374, 'car']]\n"
     ]
    },
    {
     "name": "stderr",
     "output_type": "stream",
     "text": [
      "0: 384x640 6 cars, 1 truck, 73.8ms\n",
      "Speed: 2.0ms preprocess, 73.8ms inference, 1.0ms postprocess per image at shape (1, 3, 384, 640)\n",
      "\n",
      "0: 384x640 6 cars, 2 trucks, 66.8ms\n",
      "Speed: 2.0ms preprocess, 66.8ms inference, 2.0ms postprocess per image at shape (1, 3, 384, 640)\n",
      "\n"
     ]
    },
    {
     "name": "stdout",
     "output_type": "stream",
     "text": [
      "[[266, 500, 380, 603, 0.8368787169456482, 'car'], [537, 372, 601, 449, 0.6518406867980957, 'car'], [738, 330, 766, 354, 0.5391027927398682, 'car'], [775, 437, 833, 490, 0.5247746109962463, 'car'], [453, 460, 552, 571, 0.46225836873054504, 'car']]\n",
      "[[253, 510, 372, 614, 0.7596603035926819, 'car'], [446, 466, 547, 573, 0.5723561644554138, 'car'], [736, 328, 766, 354, 0.5158016085624695, 'car'], [535, 373, 599, 450, 0.4385552704334259, 'car'], [773, 434, 834, 484, 0.337319552898407, 'car'], [909, 404, 1281, 752, 0.33361485600471497, 'car']]\n"
     ]
    },
    {
     "name": "stderr",
     "output_type": "stream",
     "text": [
      "0: 384x640 7 cars, 1 truck, 63.9ms\n",
      "Speed: 2.0ms preprocess, 63.9ms inference, 1.0ms postprocess per image at shape (1, 3, 384, 640)\n",
      "\n",
      "0: 384x640 9 cars, 1 truck, 64.8ms\n",
      "Speed: 2.0ms preprocess, 64.8ms inference, 1.0ms postprocess per image at shape (1, 3, 384, 640)\n",
      "\n"
     ]
    },
    {
     "name": "stdout",
     "output_type": "stream",
     "text": [
      "[[224, 526, 352, 639, 0.8752538561820984, 'car'], [527, 378, 595, 462, 0.6037102937698364, 'car'], [430, 478, 540, 602, 0.5984268188476562, 'car'], [738, 328, 768, 352, 0.5125425457954407, 'car'], [770, 426, 830, 476, 0.42492175102233887, 'car'], [579, 354, 618, 389, 0.4249119460582733, 'car'], [905, 400, 1248, 707, 0.31272652745246887, 'car']]\n",
      "[[207, 533, 341, 652, 0.7429611682891846, 'car'], [522, 379, 592, 467, 0.6434996724128723, 'car'], [423, 478, 536, 609, 0.6122167706489563, 'car'], [736, 327, 767, 351, 0.5944890379905701, 'car'], [768, 422, 830, 469, 0.4883447289466858, 'car'], [577, 354, 617, 390, 0.4429936707019806, 'car'], [570, 330, 607, 355, 0.36855176091194153, 'car']]\n"
     ]
    },
    {
     "name": "stderr",
     "output_type": "stream",
     "text": [
      "0: 384x640 9 cars, 62.8ms\n",
      "Speed: 2.0ms preprocess, 62.8ms inference, 1.0ms postprocess per image at shape (1, 3, 384, 640)\n",
      "\n",
      "0: 384x640 9 cars, 1 truck, 71.8ms\n",
      "Speed: 2.0ms preprocess, 71.8ms inference, 1.0ms postprocess per image at shape (1, 3, 384, 640)\n"
     ]
    },
    {
     "name": "stdout",
     "output_type": "stream",
     "text": [
      "[[190, 544, 333, 668, 0.8201282620429993, 'car'], [520, 381, 591, 472, 0.7902791500091553, 'car'], [735, 326, 768, 350, 0.616834282875061, 'car'], [408, 481, 530, 625, 0.5078275799751282, 'car'], [768, 420, 827, 463, 0.4528142809867859, 'car'], [576, 356, 616, 392, 0.38813096284866333, 'car'], [733, 303, 766, 350, 0.33589139580726624, 'car'], [569, 330, 604, 356, 0.3236357867717743, 'car']]\n",
      "[[172, 553, 319, 685, 0.8417879343032837, 'car'], [392, 505, 525, 648, 0.7165871858596802, 'car'], [517, 386, 591, 478, 0.6890274882316589, 'car'], [767, 414, 821, 460, 0.5693829655647278, 'car'], [733, 325, 766, 349, 0.5416389107704163, 'car'], [888, 388, 1194, 667, 0.4315095543861389, 'car'], [575, 354, 617, 395, 0.3226211667060852, 'car'], [732, 301, 765, 349, 0.31614479422569275, 'car']]\n"
     ]
    },
    {
     "name": "stderr",
     "output_type": "stream",
     "text": [
      "\n",
      "0: 384x640 7 cars, 1 truck, 65.9ms\n",
      "Speed: 3.0ms preprocess, 65.9ms inference, 1.0ms postprocess per image at shape (1, 3, 384, 640)\n",
      "\n",
      "0: 384x640 7 cars, 1 truck, 65.9ms\n",
      "Speed: 2.0ms preprocess, 65.9ms inference, 1.0ms postprocess per image at shape (1, 3, 384, 640)\n",
      "\n"
     ]
    },
    {
     "name": "stdout",
     "output_type": "stream",
     "text": [
      "[[151, 562, 306, 700, 0.789221465587616, 'car'], [513, 390, 588, 484, 0.6720273494720459, 'car'], [886, 384, 1179, 652, 0.5765247344970703, 'car'], [734, 325, 765, 348, 0.5674925446510315, 'car'], [389, 513, 519, 663, 0.5345556735992432, 'car'], [766, 411, 819, 458, 0.5121996998786926, 'car'], [572, 358, 614, 396, 0.30886340141296387, 'car']]\n",
      "[[105, 586, 280, 740, 0.7861700057983398, 'car'], [763, 405, 814, 450, 0.7043064832687378, 'car'], [365, 533, 507, 703, 0.5580506920814514, 'car'], [504, 396, 582, 491, 0.5478888154029846, 'car'], [733, 319, 767, 346, 0.49934419989585876, 'car'], [572, 363, 611, 402, 0.4896787405014038, 'car']]\n"
     ]
    },
    {
     "name": "stderr",
     "output_type": "stream",
     "text": [
      "0: 384x640 6 cars, 1 truck, 60.9ms\n",
      "Speed: 8.0ms preprocess, 60.9ms inference, 1.0ms postprocess per image at shape (1, 3, 384, 640)\n",
      "\n",
      "0: 384x640 7 cars, 1 truck, 64.8ms\n",
      "Speed: 2.0ms preprocess, 64.8ms inference, 1.0ms postprocess per image at shape (1, 3, 384, 640)\n",
      "\n"
     ]
    },
    {
     "name": "stdout",
     "output_type": "stream",
     "text": [
      "[[80, 599, 264, 757, 0.8695054650306702, 'car'], [348, 546, 500, 735, 0.7181732654571533, 'car'], [569, 364, 609, 406, 0.49424248933792114, 'car'], [500, 398, 580, 501, 0.4730967581272125, 'car'], [763, 404, 817, 447, 0.46888023614883423, 'car'], [876, 377, 1136, 624, 0.4644392132759094, 'car'], [732, 316, 765, 345, 0.3751154839992523, 'car']]\n",
      "[[45, 611, 248, 763, 0.7090770602226257, 'car'], [331, 558, 495, 759, 0.6776333451271057, 'car'], [494, 403, 578, 506, 0.6124235391616821, 'car'], [762, 402, 815, 444, 0.49519550800323486, 'car'], [568, 367, 608, 407, 0.489549458026886, 'car'], [873, 375, 1124, 612, 0.43024617433547974, 'car'], [731, 312, 763, 344, 0.318310022354126, 'car']]\n"
     ]
    },
    {
     "name": "stderr",
     "output_type": "stream",
     "text": [
      "0: 384x640 6 cars, 3 trucks, 69.8ms\n",
      "Speed: 2.0ms preprocess, 69.8ms inference, 1.0ms postprocess per image at shape (1, 3, 384, 640)\n",
      "\n",
      "0: 384x640 8 cars, 2 trucks, 71.8ms\n",
      "Speed: 2.0ms preprocess, 71.8ms inference, 1.0ms postprocess per image at shape (1, 3, 384, 640)\n",
      "\n"
     ]
    },
    {
     "name": "stdout",
     "output_type": "stream",
     "text": [
      "[[762, 400, 809, 438, 0.5964824557304382, 'car'], [315, 570, 484, 760, 0.5837104320526123, 'car'], [488, 403, 577, 513, 0.5792185664176941, 'car'], [11, 615, 228, 765, 0.5217928886413574, 'car'], [871, 373, 1114, 603, 0.49498873949050903, 'car'], [566, 372, 606, 408, 0.43649622797966003, 'car']]\n",
      "[[1, 644, 211, 764, 0.6808521747589111, 'car'], [486, 409, 575, 519, 0.6784390211105347, 'car'], [761, 395, 809, 434, 0.6025183200836182, 'car'], [562, 371, 606, 411, 0.5335010886192322, 'car'], [867, 371, 1103, 593, 0.5213663578033447, 'car'], [296, 575, 479, 765, 0.48628485202789307, 'car']]\n"
     ]
    },
    {
     "name": "stderr",
     "output_type": "stream",
     "text": [
      "0: 384x640 5 cars, 3 trucks, 87.8ms\n",
      "Speed: 2.0ms preprocess, 87.8ms inference, 1.0ms postprocess per image at shape (1, 3, 384, 640)\n",
      "\n",
      "0: 384x640 6 cars, 1 bus, 2 trucks, 58.8ms\n",
      "Speed: 2.0ms preprocess, 58.8ms inference, 1.0ms postprocess per image at shape (1, 3, 384, 640)\n",
      "\n"
     ]
    },
    {
     "name": "stdout",
     "output_type": "stream",
     "text": [
      "[[559, 374, 602, 417, 0.6651045083999634, 'car'], [473, 417, 568, 534, 0.6127811074256897, 'car'], [265, 616, 456, 765, 0.5993895530700684, 'car'], [759, 390, 805, 425, 0.5918480753898621, 'car'], [556, 339, 591, 365, 0.5464556813240051, 'car'], [0, 686, 161, 765, 0.5206922888755798, 'car'], [860, 366, 1082, 577, 0.4852903187274933, 'car']]\n",
      "[[556, 376, 600, 419, 0.6608813405036926, 'car'], [467, 420, 565, 543, 0.643647313117981, 'car'], [759, 388, 808, 423, 0.6151654720306396, 'car'], [556, 341, 590, 366, 0.5595871806144714, 'car'], [252, 639, 445, 765, 0.38347381353378296, 'car'], [858, 364, 1073, 571, 0.37069466710090637, 'car']]\n"
     ]
    },
    {
     "name": "stderr",
     "output_type": "stream",
     "text": [
      "0: 384x640 4 cars, 64.9ms\n",
      "Speed: 2.0ms preprocess, 64.9ms inference, 1.0ms postprocess per image at shape (1, 3, 384, 640)\n",
      "\n",
      "0: 384x640 5 cars, 60.8ms\n",
      "Speed: 2.0ms preprocess, 60.8ms inference, 1.0ms postprocess per image at shape (1, 3, 384, 640)\n",
      "\n",
      "0: 384x640 5 cars, 62.8ms\n"
     ]
    },
    {
     "name": "stdout",
     "output_type": "stream",
     "text": [
      "[[758, 385, 812, 422, 0.7520697116851807, 'car'], [553, 380, 599, 422, 0.7204902172088623, 'car'], [460, 424, 562, 553, 0.7109633088111877, 'car'], [555, 342, 589, 367, 0.5698757767677307, 'car']]\n",
      "[[758, 384, 805, 419, 0.7195135354995728, 'car'], [552, 382, 599, 424, 0.710232138633728, 'car'], [453, 429, 559, 562, 0.5970281958580017, 'car'], [554, 343, 588, 369, 0.5750908851623535, 'car']]\n"
     ]
    },
    {
     "name": "stderr",
     "output_type": "stream",
     "text": [
      "Speed: 2.0ms preprocess, 62.8ms inference, 1.0ms postprocess per image at shape (1, 3, 384, 640)\n",
      "\n",
      "0: 384x640 5 cars, 1 truck, 68.8ms\n",
      "Speed: 2.0ms preprocess, 68.8ms inference, 1.0ms postprocess per image at shape (1, 3, 384, 640)\n",
      "\n"
     ]
    },
    {
     "name": "stdout",
     "output_type": "stream",
     "text": [
      "[[757, 384, 804, 417, 0.755962073802948, 'car'], [549, 383, 597, 428, 0.6974165439605713, 'car'], [446, 434, 554, 571, 0.6336683034896851, 'car'], [554, 342, 588, 371, 0.5488214492797852, 'car']]\n",
      "[[544, 387, 594, 432, 0.7772623896598816, 'car'], [756, 381, 797, 413, 0.7378135919570923, 'car'], [437, 438, 552, 583, 0.7031725645065308, 'car'], [550, 342, 587, 372, 0.5305063724517822, 'car']]\n"
     ]
    },
    {
     "name": "stderr",
     "output_type": "stream",
     "text": [
      "0: 384x640 5 cars, 1 truck, 69.8ms\n",
      "Speed: 2.0ms preprocess, 69.8ms inference, 1.0ms postprocess per image at shape (1, 3, 384, 640)\n",
      "\n",
      "0: 384x640 6 cars, 1 truck, 69.8ms\n",
      "Speed: 2.0ms preprocess, 69.8ms inference, 1.0ms postprocess per image at shape (1, 3, 384, 640)\n",
      "\n"
     ]
    },
    {
     "name": "stdout",
     "output_type": "stream",
     "text": [
      "[[539, 392, 592, 439, 0.8244860768318176, 'car'], [422, 450, 544, 603, 0.6149525046348572, 'car'], [756, 377, 796, 408, 0.6147555112838745, 'car'], [546, 342, 580, 372, 0.5203738808631897, 'car']]\n",
      "[[536, 395, 589, 441, 0.8071497678756714, 'car'], [755, 375, 796, 406, 0.6770657300949097, 'car'], [546, 342, 580, 373, 0.6410208940505981, 'car'], [413, 457, 541, 611, 0.5840626358985901, 'car'], [843, 355, 1019, 528, 0.5346408486366272, 'car']]\n"
     ]
    },
    {
     "name": "stderr",
     "output_type": "stream",
     "text": [
      "0: 384x640 4 cars, 2 trucks, 68.8ms\n",
      "Speed: 2.0ms preprocess, 68.8ms inference, 1.0ms postprocess per image at shape (1, 3, 384, 640)\n",
      "\n",
      "0: 384x640 4 cars, 1 truck, 85.8ms\n",
      "Speed: 2.0ms preprocess, 85.8ms inference, 1.0ms postprocess per image at shape (1, 3, 384, 640)\n",
      "\n"
     ]
    },
    {
     "name": "stdout",
     "output_type": "stream",
     "text": [
      "[[534, 396, 587, 443, 0.7753685116767883, 'car'], [755, 373, 798, 404, 0.6508427262306213, 'car'], [399, 463, 535, 621, 0.5666930675506592, 'car'], [543, 343, 578, 375, 0.4854279160499573, 'car'], [841, 353, 1014, 521, 0.3418770134449005, 'car']]\n",
      "[[531, 397, 584, 450, 0.8028141856193542, 'car'], [754, 372, 794, 401, 0.6714604496955872, 'car'], [542, 343, 578, 377, 0.5142095685005188, 'car'], [390, 471, 530, 645, 0.5029768943786621, 'car']]\n"
     ]
    },
    {
     "name": "stderr",
     "output_type": "stream",
     "text": [
      "0: 384x640 5 cars, 1 truck, 65.8ms\n",
      "Speed: 2.0ms preprocess, 65.8ms inference, 1.0ms postprocess per image at shape (1, 3, 384, 640)\n",
      "\n",
      "0: 384x640 5 cars, 64.8ms\n",
      "Speed: 2.0ms preprocess, 64.8ms inference, 1.0ms postprocess per image at shape (1, 3, 384, 640)\n",
      "\n"
     ]
    },
    {
     "name": "stdout",
     "output_type": "stream",
     "text": [
      "[[528, 401, 582, 453, 0.8078183531761169, 'car'], [753, 371, 791, 400, 0.6067979335784912, 'car'], [379, 477, 524, 661, 0.5010287165641785, 'car'], [540, 344, 576, 378, 0.49405741691589355, 'car'], [639, 307, 666, 332, 0.34934717416763306, 'car']]\n",
      "[[521, 407, 577, 460, 0.789474606513977, 'car'], [352, 491, 514, 696, 0.656315267086029, 'car'], [751, 366, 790, 396, 0.6099746227264404, 'car'], [536, 349, 571, 382, 0.5562487244606018, 'car'], [637, 307, 664, 334, 0.3459942936897278, 'car']]\n"
     ]
    },
    {
     "name": "stderr",
     "output_type": "stream",
     "text": [
      "0: 384x640 5 cars, 2 trucks, 60.8ms\n",
      "Speed: 1.0ms preprocess, 60.8ms inference, 1.0ms postprocess per image at shape (1, 3, 384, 640)\n",
      "\n",
      "0: 384x640 5 cars, 1 truck, 67.8ms\n",
      "Speed: 2.0ms preprocess, 67.8ms inference, 1.0ms postprocess per image at shape (1, 3, 384, 640)\n",
      "\n"
     ]
    },
    {
     "name": "stdout",
     "output_type": "stream",
     "text": [
      "[[518, 411, 574, 463, 0.72518390417099, 'car'], [751, 364, 788, 393, 0.7163975238800049, 'car'], [337, 505, 508, 725, 0.5994479060173035, 'car'], [535, 350, 571, 383, 0.5386435985565186, 'car'], [636, 308, 663, 335, 0.3941349685192108, 'car']]\n",
      "[[514, 414, 572, 469, 0.7644623517990112, 'car'], [751, 364, 788, 390, 0.6884051561355591, 'car'], [532, 350, 571, 385, 0.5946581959724426, 'car'], [320, 514, 500, 745, 0.44616514444351196, 'car'], [636, 307, 661, 336, 0.32110995054244995, 'car']]\n"
     ]
    },
    {
     "name": "stderr",
     "output_type": "stream",
     "text": [
      "0: 384x640 5 cars, 1 truck, 61.8ms\n",
      "Speed: 2.0ms preprocess, 61.8ms inference, 1.0ms postprocess per image at shape (1, 3, 384, 640)\n",
      "\n",
      "0: 384x640 5 cars, 1 truck, 69.8ms\n",
      "Speed: 2.0ms preprocess, 69.8ms inference, 1.0ms postprocess per image at shape (1, 3, 384, 640)\n",
      "\n"
     ]
    },
    {
     "name": "stdout",
     "output_type": "stream",
     "text": [
      "[[750, 362, 789, 390, 0.7624422311782837, 'car'], [511, 417, 570, 473, 0.748382568359375, 'car'], [531, 350, 570, 386, 0.631196141242981, 'car'], [302, 525, 493, 762, 0.4424431025981903, 'car'], [636, 307, 661, 338, 0.3320513665676117, 'car']]\n",
      "[[749, 357, 789, 388, 0.7367326021194458, 'car'], [507, 419, 568, 478, 0.6833657026290894, 'car'], [531, 352, 567, 387, 0.6182762980461121, 'car'], [282, 538, 484, 764, 0.56556236743927, 'car'], [636, 308, 660, 339, 0.3191722631454468, 'car']]\n"
     ]
    },
    {
     "name": "stderr",
     "output_type": "stream",
     "text": [
      "0: 384x640 6 cars, 2 trucks, 69.8ms\n",
      "Speed: 3.0ms preprocess, 69.8ms inference, 1.0ms postprocess per image at shape (1, 3, 384, 640)\n",
      "\n",
      "0: 384x640 4 cars, 1 truck, 64.8ms\n",
      "Speed: 2.0ms preprocess, 64.8ms inference, 1.0ms postprocess per image at shape (1, 3, 384, 640)\n",
      "\n"
     ]
    },
    {
     "name": "stdout",
     "output_type": "stream",
     "text": [
      "[[748, 355, 787, 385, 0.6317752599716187, 'car'], [499, 429, 562, 490, 0.6190829873085022, 'car'], [241, 563, 466, 763, 0.5969297289848328, 'car'], [528, 354, 565, 389, 0.5702504515647888, 'car'], [634, 309, 661, 340, 0.3156282305717468, 'car']]\n",
      "[[492, 431, 559, 498, 0.6937917470932007, 'car'], [747, 355, 784, 384, 0.6582353711128235, 'car'], [222, 577, 455, 763, 0.5815882682800293, 'car'], [526, 354, 563, 390, 0.5713828206062317, 'car']]\n"
     ]
    },
    {
     "name": "stderr",
     "output_type": "stream",
     "text": [
      "0: 384x640 3 cars, 1 truck, 67.9ms\n",
      "Speed: 2.0ms preprocess, 67.9ms inference, 1.0ms postprocess per image at shape (1, 3, 384, 640)\n",
      "\n",
      "0: 384x640 3 cars, 1 bus, 1 train, 76.8ms\n",
      "Speed: 2.0ms preprocess, 76.8ms inference, 1.0ms postprocess per image at shape (1, 3, 384, 640)\n",
      "\n"
     ]
    },
    {
     "name": "stdout",
     "output_type": "stream",
     "text": [
      "[[488, 436, 556, 504, 0.7229703664779663, 'car'], [747, 354, 782, 382, 0.6984232664108276, 'car'], [525, 354, 563, 392, 0.6800503730773926, 'car'], [207, 585, 444, 763, 0.3601255714893341, 'car']]\n",
      "[[483, 440, 553, 510, 0.7364846467971802, 'car'], [521, 356, 562, 395, 0.6947314143180847, 'car'], [747, 353, 783, 379, 0.463919073343277, 'car'], [819, 334, 947, 469, 0.40581968426704407, 'car']]\n"
     ]
    },
    {
     "name": "stderr",
     "output_type": "stream",
     "text": [
      "0: 384x640 3 cars, 70.9ms\n",
      "Speed: 2.0ms preprocess, 70.9ms inference, 1.0ms postprocess per image at shape (1, 3, 384, 640)\n",
      "\n",
      "0: 384x640 4 cars, 1 train, 1 truck, 67.8ms\n",
      "Speed: 2.0ms preprocess, 67.8ms inference, 1.0ms postprocess per image at shape (1, 3, 384, 640)\n",
      "\n"
     ]
    },
    {
     "name": "stdout",
     "output_type": "stream",
     "text": [
      "[[520, 359, 559, 397, 0.6991360187530518, 'car'], [478, 447, 549, 516, 0.6126047968864441, 'car'], [747, 352, 784, 378, 0.6016016602516174, 'car']]\n",
      "[[514, 362, 554, 401, 0.8000720143318176, 'car'], [465, 455, 543, 534, 0.6929326057434082, 'car'], [747, 351, 781, 374, 0.4549839496612549, 'car'], [816, 331, 935, 463, 0.38919687271118164, 'car']]\n"
     ]
    },
    {
     "name": "stderr",
     "output_type": "stream",
     "text": [
      "0: 384x640 4 cars, 1 bus, 1 truck, 70.8ms\n",
      "Speed: 2.0ms preprocess, 70.8ms inference, 1.0ms postprocess per image at shape (1, 3, 384, 640)\n",
      "\n",
      "0: 384x640 4 cars, 1 bus, 1 train, 2 trucks, 65.8ms\n",
      "Speed: 2.0ms preprocess, 65.8ms inference, 1.0ms postprocess per image at shape (1, 3, 384, 640)\n",
      "\n"
     ]
    },
    {
     "name": "stdout",
     "output_type": "stream",
     "text": [
      "[[511, 363, 553, 403, 0.8129839301109314, 'car'], [461, 461, 541, 540, 0.6120421290397644, 'car'], [813, 330, 932, 460, 0.43038246035575867, 'car'], [746, 349, 782, 372, 0.41223961114883423, 'car']]\n",
      "[[510, 365, 551, 405, 0.7299546003341675, 'car'], [454, 467, 538, 549, 0.6408162713050842, 'car'], [746, 347, 783, 371, 0.3774075210094452, 'car'], [813, 331, 927, 458, 0.34016066789627075, 'car']]\n"
     ]
    },
    {
     "name": "stderr",
     "output_type": "stream",
     "text": [
      "0: 384x640 5 cars, 1 bus, 1 truck, 61.8ms\n",
      "Speed: 9.0ms preprocess, 61.8ms inference, 1.0ms postprocess per image at shape (1, 3, 384, 640)\n",
      "\n",
      "0: 384x640 4 cars, 1 bus, 1 truck, 64.9ms\n",
      "Speed: 2.0ms preprocess, 64.9ms inference, 1.0ms postprocess per image at shape (1, 3, 384, 640)\n",
      "\n"
     ]
    },
    {
     "name": "stdout",
     "output_type": "stream",
     "text": [
      "[[507, 365, 553, 407, 0.7273198962211609, 'car'], [447, 471, 532, 558, 0.7147189974784851, 'car'], [745, 345, 779, 369, 0.4943443238735199, 'car'], [628, 315, 654, 347, 0.3283214271068573, 'car']]\n",
      "[[505, 365, 548, 409, 0.752672016620636, 'car'], [440, 478, 531, 567, 0.6191232800483704, 'car'], [745, 343, 778, 368, 0.5026091933250427, 'car'], [627, 314, 653, 349, 0.3653448224067688, 'car'], [811, 329, 921, 450, 0.33040958642959595, 'car']]\n"
     ]
    },
    {
     "name": "stderr",
     "output_type": "stream",
     "text": [
      "0: 384x640 4 cars, 1 truck, 68.8ms\n",
      "Speed: 3.0ms preprocess, 68.8ms inference, 1.0ms postprocess per image at shape (1, 3, 384, 640)\n",
      "\n",
      "0: 384x640 4 cars, 1 truck, 61.8ms\n",
      "Speed: 2.0ms preprocess, 61.8ms inference, 1.0ms postprocess per image at shape (1, 3, 384, 640)\n",
      "\n"
     ]
    },
    {
     "name": "stdout",
     "output_type": "stream",
     "text": [
      "[[502, 369, 543, 411, 0.7088082432746887, 'car'], [808, 328, 915, 446, 0.6357988715171814, 'car'], [626, 316, 653, 350, 0.5030902028083801, 'car'], [424, 489, 520, 588, 0.4960535168647766, 'car'], [744, 342, 774, 366, 0.48561418056488037, 'car']]\n",
      "[[499, 370, 541, 413, 0.6926947236061096, 'car'], [624, 323, 652, 350, 0.6188738346099854, 'car'], [807, 328, 913, 444, 0.5809797048568726, 'car'], [416, 478, 516, 599, 0.5209400653839111, 'car'], [744, 341, 774, 365, 0.48279812932014465, 'car']]\n"
     ]
    },
    {
     "name": "stderr",
     "output_type": "stream",
     "text": [
      "0: 384x640 4 cars, 1 truck, 68.8ms\n",
      "Speed: 2.0ms preprocess, 68.8ms inference, 1.0ms postprocess per image at shape (1, 3, 384, 640)\n",
      "\n",
      "0: 384x640 4 cars, 1 truck, 64.8ms\n",
      "Speed: 2.0ms preprocess, 64.8ms inference, 1.0ms postprocess per image at shape (1, 3, 384, 640)\n",
      "\n"
     ]
    },
    {
     "name": "stdout",
     "output_type": "stream",
     "text": [
      "[[496, 369, 540, 415, 0.7694993615150452, 'car'], [806, 326, 908, 439, 0.6127834320068359, 'car'], [407, 506, 511, 615, 0.4983610212802887, 'car'], [623, 323, 651, 353, 0.49703484773635864, 'car']]\n",
      "[[494, 372, 537, 419, 0.8751358985900879, 'car'], [395, 515, 506, 623, 0.6449042558670044, 'car'], [621, 322, 652, 355, 0.596507728099823, 'car'], [804, 325, 904, 436, 0.5001692175865173, 'car'], [743, 340, 774, 363, 0.4948102831840515, 'car']]\n"
     ]
    },
    {
     "name": "stderr",
     "output_type": "stream",
     "text": [
      "0: 384x640 4 cars, 1 truck, 60.8ms\n",
      "Speed: 2.0ms preprocess, 60.8ms inference, 1.0ms postprocess per image at shape (1, 3, 384, 640)\n",
      "\n",
      "0: 384x640 4 cars, 1 truck, 71.8ms\n",
      "Speed: 2.0ms preprocess, 71.8ms inference, 1.0ms postprocess per image at shape (1, 3, 384, 640)\n",
      "\n"
     ]
    },
    {
     "name": "stdout",
     "output_type": "stream",
     "text": [
      "[[491, 375, 535, 421, 0.8500360250473022, 'car'], [385, 523, 499, 639, 0.7513783574104309, 'car'], [621, 324, 651, 356, 0.5257596373558044, 'car'], [743, 339, 774, 362, 0.3848053812980652, 'car'], [802, 325, 902, 433, 0.360185831785202, 'car']]\n",
      "[[486, 376, 535, 426, 0.686238706111908, 'car'], [361, 544, 488, 674, 0.6595316529273987, 'car'], [800, 322, 896, 431, 0.43048954010009766, 'car'], [617, 330, 650, 358, 0.3679417073726654, 'car'], [742, 337, 775, 360, 0.31469327211380005, 'car']]\n"
     ]
    },
    {
     "name": "stderr",
     "output_type": "stream",
     "text": [
      "0: 384x640 4 cars, 1 truck, 67.8ms\n",
      "Speed: 2.0ms preprocess, 67.8ms inference, 1.0ms postprocess per image at shape (1, 3, 384, 640)\n",
      "\n",
      "0: 384x640 4 cars, 1 truck, 62.8ms\n",
      "Speed: 2.0ms preprocess, 62.8ms inference, 1.0ms postprocess per image at shape (1, 3, 384, 640)\n",
      "\n"
     ]
    },
    {
     "name": "stdout",
     "output_type": "stream",
     "text": [
      "[[347, 555, 478, 692, 0.731810986995697, 'car'], [484, 378, 537, 427, 0.5359688997268677, 'car'], [616, 334, 653, 360, 0.4878675937652588, 'car'], [800, 321, 894, 430, 0.4173664450645447, 'car']]\n",
      "[[332, 565, 471, 714, 0.7967507839202881, 'car'], [479, 379, 530, 431, 0.6116318702697754, 'car'], [614, 335, 650, 360, 0.6003895401954651, 'car'], [800, 320, 892, 428, 0.3956246078014374, 'car'], [742, 335, 773, 356, 0.3215474486351013, 'car']]\n"
     ]
    },
    {
     "name": "stderr",
     "output_type": "stream",
     "text": [
      "0: 384x640 5 cars, 1 train, 1 truck, 64.8ms\n",
      "Speed: 4.0ms preprocess, 64.8ms inference, 1.0ms postprocess per image at shape (1, 3, 384, 640)\n",
      "\n",
      "0: 384x640 3 cars, 1 train, 1 truck, 66.8ms\n",
      "Speed: 2.0ms preprocess, 66.8ms inference, 1.0ms postprocess per image at shape (1, 3, 384, 640)\n",
      "\n"
     ]
    },
    {
     "name": "stdout",
     "output_type": "stream",
     "text": [
      "[[316, 574, 463, 742, 0.7474830150604248, 'car'], [613, 335, 648, 362, 0.6302191615104675, 'car'], [476, 386, 526, 434, 0.6250150203704834, 'car'], [798, 320, 890, 426, 0.36042147874832153, 'car']]\n",
      "[[297, 572, 454, 760, 0.7112154960632324, 'car'], [613, 337, 647, 365, 0.6696606278419495, 'car'], [473, 387, 522, 436, 0.6012771129608154, 'car'], [797, 319, 888, 424, 0.45680224895477295, 'car']]\n"
     ]
    },
    {
     "name": "stderr",
     "output_type": "stream",
     "text": [
      "0: 384x640 3 cars, 1 truck, 70.8ms\n",
      "Speed: 2.0ms preprocess, 70.8ms inference, 1.0ms postprocess per image at shape (1, 3, 384, 640)\n",
      "\n",
      "0: 384x640 3 cars, 1 truck, 63.8ms\n",
      "Speed: 2.0ms preprocess, 63.8ms inference, 1.0ms postprocess per image at shape (1, 3, 384, 640)\n",
      "\n"
     ]
    },
    {
     "name": "stdout",
     "output_type": "stream",
     "text": [
      "[[468, 390, 519, 441, 0.5841689705848694, 'car'], [612, 337, 643, 366, 0.5568318367004395, 'car'], [796, 319, 885, 418, 0.5488002896308899, 'car'], [261, 575, 433, 765, 0.32806500792503357, 'car']]\n",
      "[[463, 391, 518, 444, 0.7091344594955444, 'car'], [611, 339, 641, 367, 0.5387132167816162, 'car'], [248, 645, 421, 765, 0.5173065662384033, 'car'], [795, 319, 883, 417, 0.4933246076107025, 'car']]\n"
     ]
    },
    {
     "name": "stderr",
     "output_type": "stream",
     "text": [
      "0: 384x640 3 cars, 1 truck, 59.9ms\n",
      "Speed: 2.0ms preprocess, 59.9ms inference, 1.0ms postprocess per image at shape (1, 3, 384, 640)\n",
      "\n",
      "0: 384x640 3 cars, 1 truck, 55.9ms\n",
      "Speed: 2.0ms preprocess, 55.9ms inference, 1.0ms postprocess per image at shape (1, 3, 384, 640)\n",
      "\n"
     ]
    },
    {
     "name": "stdout",
     "output_type": "stream",
     "text": [
      "[[458, 395, 514, 447, 0.8264924883842468, 'car'], [231, 665, 408, 766, 0.5119758248329163, 'car'], [609, 340, 641, 370, 0.469737708568573, 'car'], [794, 318, 880, 416, 0.4534358084201813, 'car']]\n",
      "[[456, 397, 510, 451, 0.8106654286384583, 'car'], [607, 342, 641, 372, 0.5953725576400757, 'car'], [794, 318, 879, 416, 0.47086337208747864, 'car'], [227, 687, 393, 766, 0.4073512554168701, 'car']]\n"
     ]
    },
    {
     "name": "stderr",
     "output_type": "stream",
     "text": [
      "0: 384x640 3 cars, 1 train, 1 truck, 59.8ms\n",
      "Speed: 3.0ms preprocess, 59.8ms inference, 1.0ms postprocess per image at shape (1, 3, 384, 640)\n",
      "\n",
      "0: 384x640 2 cars, 1 train, 67.9ms\n",
      "Speed: 2.0ms preprocess, 67.9ms inference, 1.0ms postprocess per image at shape (1, 3, 384, 640)\n",
      "\n"
     ]
    },
    {
     "name": "stdout",
     "output_type": "stream",
     "text": [
      "[[453, 397, 509, 455, 0.7627023458480835, 'car'], [605, 343, 639, 372, 0.6194364428520203, 'car'], [793, 316, 876, 416, 0.3834450840950012, 'car'], [221, 713, 370, 765, 0.3602966368198395, 'car']]\n",
      "[[442, 398, 507, 463, 0.6994102001190186, 'car'], [605, 344, 638, 375, 0.6612218618392944, 'car'], [793, 314, 870, 410, 0.3553439676761627, 'car']]\n"
     ]
    },
    {
     "name": "stderr",
     "output_type": "stream",
     "text": [
      "0: 384x640 2 cars, 1 train, 67.9ms\n",
      "Speed: 2.0ms preprocess, 67.9ms inference, 1.0ms postprocess per image at shape (1, 3, 384, 640)\n",
      "\n",
      "0: 384x640 2 cars, 1 train, 64.8ms\n",
      "Speed: 3.0ms preprocess, 64.8ms inference, 1.0ms postprocess per image at shape (1, 3, 384, 640)\n",
      "\n"
     ]
    },
    {
     "name": "stdout",
     "output_type": "stream",
     "text": [
      "[[439, 408, 500, 464, 0.699963390827179, 'car'], [604, 344, 638, 376, 0.6406769156455994, 'car'], [791, 313, 869, 409, 0.3176600933074951, 'car']]\n",
      "[[602, 346, 638, 380, 0.6000739932060242, 'car'], [435, 406, 499, 468, 0.4541955292224884, 'car'], [790, 313, 868, 407, 0.39614138007164, 'car']]\n"
     ]
    },
    {
     "name": "stderr",
     "output_type": "stream",
     "text": [
      "0: 384x640 2 cars, 1 train, 74.8ms\n",
      "Speed: 2.0ms preprocess, 74.8ms inference, 2.0ms postprocess per image at shape (1, 3, 384, 640)\n",
      "\n",
      "0: 384x640 2 cars, 1 train, 79.8ms\n",
      "Speed: 2.0ms preprocess, 79.8ms inference, 1.0ms postprocess per image at shape (1, 3, 384, 640)\n",
      "\n"
     ]
    },
    {
     "name": "stdout",
     "output_type": "stream",
     "text": [
      "[[600, 348, 635, 380, 0.5624822974205017, 'car'], [432, 410, 494, 471, 0.5094535946846008, 'car'], [788, 312, 865, 405, 0.5010470747947693, 'car']]\n",
      "[[426, 411, 491, 476, 0.6453350186347961, 'car'], [598, 349, 634, 382, 0.49937838315963745, 'car'], [787, 312, 864, 401, 0.47284042835235596, 'car']]\n"
     ]
    },
    {
     "name": "stderr",
     "output_type": "stream",
     "text": [
      "0: 384x640 3 cars, 1 train, 63.8ms\n",
      "Speed: 2.0ms preprocess, 63.8ms inference, 1.0ms postprocess per image at shape (1, 3, 384, 640)\n",
      "\n",
      "0: 384x640 2 cars, 1 train, 90.8ms\n",
      "Speed: 2.0ms preprocess, 90.8ms inference, 1.0ms postprocess per image at shape (1, 3, 384, 640)\n",
      "\n"
     ]
    },
    {
     "name": "stdout",
     "output_type": "stream",
     "text": [
      "[[417, 417, 485, 487, 0.7312629818916321, 'car'], [595, 354, 635, 389, 0.6230154633522034, 'car'], [786, 312, 862, 399, 0.48668867349624634, 'car']]\n",
      "[[409, 424, 480, 491, 0.5842660665512085, 'car'], [785, 311, 860, 397, 0.5606604814529419, 'car'], [594, 354, 635, 391, 0.44536498188972473, 'car']]\n"
     ]
    },
    {
     "name": "stderr",
     "output_type": "stream",
     "text": [
      "0: 384x640 2 cars, 1 train, 68.8ms\n",
      "Speed: 2.0ms preprocess, 68.8ms inference, 1.0ms postprocess per image at shape (1, 3, 384, 640)\n",
      "\n",
      "0: 384x640 2 cars, 1 train, 65.8ms\n",
      "Speed: 2.0ms preprocess, 65.8ms inference, 2.0ms postprocess per image at shape (1, 3, 384, 640)\n",
      "\n"
     ]
    },
    {
     "name": "stdout",
     "output_type": "stream",
     "text": [
      "[[402, 424, 476, 497, 0.7679670453071594, 'car'], [784, 311, 858, 396, 0.507445752620697, 'car']]\n",
      "[[400, 426, 473, 501, 0.6945912837982178, 'car'], [591, 357, 630, 394, 0.5836145877838135, 'car'], [784, 310, 857, 395, 0.5357893705368042, 'car']]\n"
     ]
    },
    {
     "name": "stderr",
     "output_type": "stream",
     "text": [
      "0: 384x640 2 cars, 1 train, 77.8ms\n",
      "Speed: 2.0ms preprocess, 77.8ms inference, 1.0ms postprocess per image at shape (1, 3, 384, 640)\n",
      "\n",
      "0: 384x640 2 cars, 1 train, 72.8ms\n",
      "Speed: 4.0ms preprocess, 72.8ms inference, 1.0ms postprocess per image at shape (1, 3, 384, 640)\n",
      "\n"
     ]
    },
    {
     "name": "stdout",
     "output_type": "stream",
     "text": [
      "[[391, 429, 469, 506, 0.7352264523506165, 'car'], [590, 359, 625, 396, 0.5743066668510437, 'car'], [783, 310, 855, 393, 0.5287418365478516, 'car']]\n",
      "[[374, 434, 461, 519, 0.7622189521789551, 'car'], [588, 363, 622, 398, 0.5211793780326843, 'car'], [782, 309, 853, 390, 0.44982025027275085, 'car']]\n"
     ]
    },
    {
     "name": "stderr",
     "output_type": "stream",
     "text": [
      "0: 384x640 2 cars, 1 train, 76.3ms\n",
      "Speed: 2.0ms preprocess, 76.3ms inference, 1.0ms postprocess per image at shape (1, 3, 384, 640)\n",
      "\n",
      "0: 384x640 2 cars, 1 train, 68.3ms\n",
      "Speed: 2.0ms preprocess, 68.3ms inference, 1.0ms postprocess per image at shape (1, 3, 384, 640)\n",
      "\n",
      "0: 384x640 2 cars, 1 train, 63.2ms\n"
     ]
    },
    {
     "name": "stdout",
     "output_type": "stream",
     "text": [
      "[[369, 438, 456, 524, 0.7302196621894836, 'car'], [585, 365, 622, 402, 0.5279848575592041, 'car'], [781, 308, 851, 390, 0.4539636969566345, 'car']]\n",
      "[[364, 443, 451, 531, 0.6680874228477478, 'car'], [580, 368, 622, 406, 0.5774032473564148, 'car'], [780, 308, 850, 389, 0.4697883725166321, 'car']]\n"
     ]
    },
    {
     "name": "stderr",
     "output_type": "stream",
     "text": [
      "Speed: 2.0ms preprocess, 63.2ms inference, 1.0ms postprocess per image at shape (1, 3, 384, 640)\n",
      "\n",
      "0: 384x640 3 cars, 1 train, 70.8ms\n",
      "Speed: 2.0ms preprocess, 70.8ms inference, 1.0ms postprocess per image at shape (1, 3, 384, 640)\n",
      "\n"
     ]
    },
    {
     "name": "stdout",
     "output_type": "stream",
     "text": [
      "[[356, 447, 446, 538, 0.7529943585395813, 'car'], [780, 308, 848, 386, 0.5199140310287476, 'car'], [579, 371, 622, 407, 0.5157437920570374, 'car']]\n",
      "[[348, 449, 440, 545, 0.7486112713813782, 'car'], [779, 308, 847, 386, 0.49315133690834045, 'car'], [575, 373, 621, 411, 0.45499399304389954, 'car'], [596, 315, 627, 339, 0.3327082693576813, 'car']]\n"
     ]
    },
    {
     "name": "stderr",
     "output_type": "stream",
     "text": [
      "0: 384x640 4 cars, 1 train, 65.8ms\n",
      "Speed: 3.0ms preprocess, 65.8ms inference, 1.0ms postprocess per image at shape (1, 3, 384, 640)\n",
      "\n",
      "0: 384x640 3 cars, 1 train, 1 truck, 71.8ms\n",
      "Speed: 3.0ms preprocess, 71.8ms inference, 1.0ms postprocess per image at shape (1, 3, 384, 640)\n",
      "\n"
     ]
    },
    {
     "name": "stdout",
     "output_type": "stream",
     "text": [
      "[[570, 377, 616, 419, 0.7261752486228943, 'car'], [330, 458, 430, 558, 0.6360126733779907, 'car'], [778, 307, 845, 383, 0.38658884167671204, 'car'], [596, 317, 625, 339, 0.36127403378486633, 'car']]\n",
      "[[569, 378, 617, 422, 0.7048215270042419, 'car'], [322, 462, 425, 569, 0.6337152719497681, 'car'], [596, 317, 625, 340, 0.3983745574951172, 'car'], [779, 306, 844, 381, 0.38725221157073975, 'car']]\n"
     ]
    },
    {
     "name": "stderr",
     "output_type": "stream",
     "text": [
      "0: 384x640 3 cars, 1 train, 62.8ms\n",
      "Speed: 2.0ms preprocess, 62.8ms inference, 1.0ms postprocess per image at shape (1, 3, 384, 640)\n",
      "\n",
      "0: 384x640 3 cars, 1 train, 68.8ms\n",
      "Speed: 2.0ms preprocess, 68.8ms inference, 2.0ms postprocess per image at shape (1, 3, 384, 640)\n",
      "\n"
     ]
    },
    {
     "name": "stdout",
     "output_type": "stream",
     "text": [
      "[[312, 469, 419, 577, 0.6677771806716919, 'car'], [568, 380, 614, 424, 0.637810230255127, 'car'], [780, 306, 842, 382, 0.39761629700660706, 'car'], [594, 318, 623, 341, 0.38896992802619934, 'car']]\n",
      "[[301, 472, 412, 586, 0.6881858706474304, 'car'], [565, 382, 611, 427, 0.5734797120094299, 'car'], [779, 306, 840, 379, 0.3391109108924866, 'car'], [738, 305, 761, 331, 0.3180382549762726, 'car']]\n"
     ]
    },
    {
     "name": "stderr",
     "output_type": "stream",
     "text": [
      "0: 384x640 3 cars, 1 train, 1 truck, 57.8ms\n",
      "Speed: 2.0ms preprocess, 57.8ms inference, 1.0ms postprocess per image at shape (1, 3, 384, 640)\n",
      "\n",
      "0: 384x640 4 cars, 1 train, 1 truck, 56.8ms\n",
      "Speed: 1.0ms preprocess, 56.8ms inference, 1.0ms postprocess per image at shape (1, 3, 384, 640)\n",
      "\n"
     ]
    },
    {
     "name": "stdout",
     "output_type": "stream",
     "text": [
      "[[291, 479, 405, 592, 0.6867318153381348, 'car'], [562, 384, 613, 431, 0.4881727993488312, 'car'], [738, 303, 763, 330, 0.35185903310775757, 'car'], [779, 306, 839, 374, 0.309066504240036, 'car']]\n",
      "[[267, 492, 389, 615, 0.7964480519294739, 'car'], [558, 390, 610, 440, 0.43994927406311035, 'car'], [778, 305, 837, 374, 0.39549562335014343, 'car'], [1248, 678, 1363, 764, 0.32309889793395996, 'car'], [591, 317, 622, 341, 0.3098234534263611, 'car']]\n"
     ]
    },
    {
     "name": "stderr",
     "output_type": "stream",
     "text": [
      "0: 384x640 1 car, 1 train, 1 truck, 59.8ms\n",
      "Speed: 2.0ms preprocess, 59.8ms inference, 1.0ms postprocess per image at shape (1, 3, 384, 640)\n",
      "\n",
      "0: 384x640 2 cars, 1 train, 1 truck, 90.8ms\n",
      "Speed: 2.0ms preprocess, 90.8ms inference, 1.0ms postprocess per image at shape (1, 3, 384, 640)\n",
      "\n"
     ]
    },
    {
     "name": "stdout",
     "output_type": "stream",
     "text": [
      "[[255, 501, 380, 624, 0.7309657335281372, 'car'], [777, 305, 836, 375, 0.3542366325855255, 'car']]\n",
      "[[241, 508, 372, 637, 0.7746707201004028, 'car'], [778, 305, 837, 373, 0.4309270977973938, 'car'], [552, 397, 602, 444, 0.38580721616744995, 'car']]\n"
     ]
    },
    {
     "name": "stderr",
     "output_type": "stream",
     "text": [
      "0: 384x640 4 cars, 1 train, 2 trucks, 65.8ms\n",
      "Speed: 3.0ms preprocess, 65.8ms inference, 1.0ms postprocess per image at shape (1, 3, 384, 640)\n",
      "\n",
      "0: 384x640 4 cars, 1 train, 2 trucks, 65.8ms\n",
      "Speed: 1.0ms preprocess, 65.8ms inference, 2.0ms postprocess per image at shape (1, 3, 384, 640)\n",
      "\n"
     ]
    },
    {
     "name": "stdout",
     "output_type": "stream",
     "text": [
      "[[227, 516, 365, 650, 0.8035248517990112, 'car'], [891, 735, 1042, 764, 0.4721623361110687, 'car'], [548, 398, 599, 451, 0.4561282992362976, 'car'], [779, 305, 835, 374, 0.39348140358924866, 'car'], [587, 320, 619, 343, 0.31281548738479614, 'car']]\n",
      "[[211, 522, 355, 662, 0.7939360737800598, 'car'], [1146, 594, 1362, 760, 0.6420797109603882, 'car'], [879, 707, 1028, 766, 0.6274967789649963, 'car'], [541, 399, 599, 456, 0.583596408367157, 'car'], [588, 320, 619, 344, 0.40182751417160034, 'car'], [779, 305, 833, 369, 0.38290172815322876, 'car']]\n"
     ]
    },
    {
     "name": "stderr",
     "output_type": "stream",
     "text": [
      "0: 384x640 4 cars, 1 train, 1 truck, 66.9ms\n",
      "Speed: 2.0ms preprocess, 66.9ms inference, 1.0ms postprocess per image at shape (1, 3, 384, 640)\n",
      "\n",
      "0: 384x640 4 cars, 1 train, 1 truck, 68.9ms\n",
      "Speed: 2.0ms preprocess, 68.9ms inference, 1.0ms postprocess per image at shape (1, 3, 384, 640)\n",
      "\n"
     ]
    },
    {
     "name": "stdout",
     "output_type": "stream",
     "text": [
      "[[177, 543, 334, 691, 0.8505085110664368, 'car'], [537, 406, 596, 467, 0.7021521329879761, 'car'], [859, 657, 1002, 765, 0.6323570013046265, 'car'], [586, 325, 616, 345, 0.5795807838439941, 'car'], [1112, 556, 1363, 763, 0.3621426820755005, 'car']]\n",
      "[[156, 549, 321, 709, 0.7934392690658569, 'car'], [851, 631, 985, 751, 0.6349025368690491, 'car'], [534, 412, 592, 473, 0.6214792132377625, 'car'], [586, 326, 616, 346, 0.5637118816375732, 'car'], [1091, 549, 1363, 762, 0.371038019657135, 'car']]\n"
     ]
    },
    {
     "name": "stderr",
     "output_type": "stream",
     "text": [
      "0: 384x640 4 cars, 1 truck, 65.8ms\n",
      "Speed: 2.0ms preprocess, 65.8ms inference, 2.0ms postprocess per image at shape (1, 3, 384, 640)\n",
      "\n",
      "0: 384x640 4 cars, 1 truck, 67.8ms\n",
      "Speed: 2.0ms preprocess, 67.8ms inference, 1.0ms postprocess per image at shape (1, 3, 384, 640)\n",
      "\n"
     ]
    },
    {
     "name": "stdout",
     "output_type": "stream",
     "text": [
      "[[136, 559, 308, 728, 0.8524371385574341, 'car'], [530, 414, 590, 477, 0.715542733669281, 'car'], [842, 615, 971, 723, 0.6218152046203613, 'car'], [585, 328, 613, 348, 0.6112147569656372, 'car'], [1078, 538, 1363, 762, 0.46183183789253235, 'car']]\n",
      "[[110, 570, 296, 746, 0.8988157510757446, 'car'], [1064, 530, 1362, 760, 0.6679671406745911, 'car'], [584, 329, 615, 348, 0.6540580987930298, 'car'], [527, 416, 584, 480, 0.5642551779747009, 'car'], [836, 598, 966, 701, 0.5267168283462524, 'car']]\n"
     ]
    },
    {
     "name": "stderr",
     "output_type": "stream",
     "text": [
      "0: 384x640 4 cars, 1 truck, 51.9ms\n",
      "Speed: 2.0ms preprocess, 51.9ms inference, 1.0ms postprocess per image at shape (1, 3, 384, 640)\n",
      "\n",
      "0: 384x640 4 cars, 1 truck, 64.8ms\n",
      "Speed: 3.0ms preprocess, 64.8ms inference, 1.0ms postprocess per image at shape (1, 3, 384, 640)\n",
      "\n"
     ]
    },
    {
     "name": "stdout",
     "output_type": "stream",
     "text": [
      "[[88, 583, 281, 764, 0.8216810822486877, 'car'], [584, 329, 618, 349, 0.6480714678764343, 'car'], [832, 584, 943, 682, 0.5378828644752502, 'car'], [523, 420, 582, 488, 0.4936428964138031, 'car'], [1053, 519, 1363, 758, 0.4891655445098877, 'car']]\n",
      "[[6, 609, 249, 764, 0.7977058291435242, 'car'], [820, 556, 916, 642, 0.6937837600708008, 'car'], [514, 428, 575, 505, 0.613336980342865, 'car'], [583, 330, 613, 350, 0.5839110016822815, 'car'], [1024, 508, 1364, 761, 0.4523579776287079, 'car']]\n"
     ]
    },
    {
     "name": "stderr",
     "output_type": "stream",
     "text": [
      "0: 384x640 4 cars, 68.8ms\n",
      "Speed: 2.0ms preprocess, 68.8ms inference, 1.0ms postprocess per image at shape (1, 3, 384, 640)\n",
      "\n",
      "0: 384x640 4 cars, 1 train, 62.9ms\n",
      "Speed: 2.0ms preprocess, 62.9ms inference, 1.0ms postprocess per image at shape (1, 3, 384, 640)\n",
      "\n"
     ]
    },
    {
     "name": "stdout",
     "output_type": "stream",
     "text": [
      "[[6, 610, 234, 762, 0.7693224549293518, 'car'], [507, 433, 573, 511, 0.5785194039344788, 'car'], [814, 545, 904, 625, 0.5653499960899353, 'car'], [582, 331, 612, 352, 0.41233599185943604, 'car']]\n",
      "[[805, 530, 899, 613, 0.6332703232765198, 'car'], [1, 634, 215, 765, 0.5647616982460022, 'car'], [1005, 489, 1363, 761, 0.5276440978050232, 'car'], [582, 333, 613, 353, 0.49065276980400085, 'car'], [503, 440, 570, 515, 0.4202325940132141, 'car']]\n"
     ]
    },
    {
     "name": "stderr",
     "output_type": "stream",
     "text": [
      "0: 384x640 4 cars, 1 train, 73.8ms\n",
      "Speed: 2.0ms preprocess, 73.8ms inference, 1.0ms postprocess per image at shape (1, 3, 384, 640)\n",
      "\n",
      "0: 384x640 4 cars, 1 train, 68.8ms\n",
      "Speed: 2.0ms preprocess, 68.8ms inference, 1.0ms postprocess per image at shape (1, 3, 384, 640)\n",
      "\n"
     ]
    },
    {
     "name": "stdout",
     "output_type": "stream",
     "text": [
      "[[802, 523, 887, 596, 0.6213382482528687, 'car'], [495, 444, 569, 520, 0.600963830947876, 'car'], [581, 334, 612, 353, 0.4915524423122406, 'car'], [0, 658, 193, 765, 0.44261282682418823, 'car'], [1001, 479, 1362, 761, 0.3147922456264496, 'car']]\n",
      "[[489, 451, 567, 535, 0.6391856074333191, 'car'], [800, 509, 882, 584, 0.5782716870307922, 'car'], [578, 333, 609, 354, 0.5226550102233887, 'car'], [988, 476, 1362, 762, 0.46360668540000916, 'car'], [0, 679, 169, 763, 0.34271907806396484, 'car']]\n"
     ]
    },
    {
     "name": "stderr",
     "output_type": "stream",
     "text": [
      "0: 384x640 3 cars, 1 train, 60.8ms\n",
      "Speed: 2.0ms preprocess, 60.8ms inference, 1.0ms postprocess per image at shape (1, 3, 384, 640)\n",
      "\n",
      "0: 384x640 3 cars, 1 train, 64.8ms\n",
      "Speed: 2.0ms preprocess, 64.8ms inference, 1.0ms postprocess per image at shape (1, 3, 384, 640)\n",
      "\n"
     ]
    },
    {
     "name": "stdout",
     "output_type": "stream",
     "text": [
      "[[479, 463, 557, 553, 0.6085620522499084, 'car'], [574, 335, 611, 356, 0.5716813206672668, 'car'], [794, 494, 873, 561, 0.5076125860214233, 'car'], [976, 467, 1362, 761, 0.35702329874038696, 'car']]\n",
      "[[470, 470, 554, 566, 0.6330450773239136, 'car'], [572, 337, 611, 357, 0.5501769781112671, 'car'], [967, 456, 1363, 760, 0.5323755145072937, 'car'], [787, 487, 889, 554, 0.4549800455570221, 'car']]\n"
     ]
    },
    {
     "name": "stderr",
     "output_type": "stream",
     "text": [
      "0: 384x640 3 cars, 1 train, 68.8ms\n",
      "Speed: 2.0ms preprocess, 68.8ms inference, 1.0ms postprocess per image at shape (1, 3, 384, 640)\n",
      "\n",
      "0: 384x640 3 cars, 1 train, 63.8ms\n",
      "Speed: 3.0ms preprocess, 63.8ms inference, 1.0ms postprocess per image at shape (1, 3, 384, 640)\n",
      "\n"
     ]
    },
    {
     "name": "stdout",
     "output_type": "stream",
     "text": [
      "[[957, 451, 1363, 761, 0.7182953357696533, 'train'], [463, 478, 551, 574, 0.6383567452430725, 'train'], [567, 337, 609, 358, 0.5474533438682556, 'train'], [784, 480, 856, 543, 0.41155844926834106, 'train']]\n",
      "[[948, 449, 1363, 761, 0.7373185157775879, 'train'], [455, 481, 545, 588, 0.6719484329223633, 'train'], [566, 337, 606, 359, 0.5135977864265442, 'train'], [785, 473, 847, 530, 0.35827121138572693, 'train']]\n"
     ]
    },
    {
     "name": "stderr",
     "output_type": "stream",
     "text": [
      "0: 384x640 3 cars, 2 trains, 62.9ms\n",
      "Speed: 3.0ms preprocess, 62.9ms inference, 1.0ms postprocess per image at shape (1, 3, 384, 640)\n",
      "\n",
      "0: 384x640 3 cars, 2 trains, 72.8ms\n",
      "Speed: 2.0ms preprocess, 72.8ms inference, 1.0ms postprocess per image at shape (1, 3, 384, 640)\n",
      "\n"
     ]
    },
    {
     "name": "stdout",
     "output_type": "stream",
     "text": [
      "[[942, 445, 1362, 761, 0.7638390064239502, 'train'], [448, 485, 540, 602, 0.5456923246383667, 'train'], [563, 340, 608, 360, 0.5254483222961426, 'train'], [781, 467, 847, 524, 0.3762037456035614, 'train'], [752, 272, 1358, 759, 0.3524681627750397, 'train']]\n",
      "[[935, 437, 1305, 761, 0.726678729057312, 'train'], [428, 508, 532, 632, 0.589552104473114, 'train'], [561, 342, 606, 361, 0.5411324501037598, 'train'], [757, 274, 1315, 758, 0.46629729866981506, 'train']]\n"
     ]
    },
    {
     "name": "stderr",
     "output_type": "stream",
     "text": [
      "0: 384x640 3 cars, 2 trains, 64.8ms\n",
      "Speed: 2.2ms preprocess, 64.8ms inference, 1.0ms postprocess per image at shape (1, 3, 384, 640)\n",
      "\n",
      "0: 384x640 3 cars, 1 train, 65.8ms\n",
      "Speed: 2.0ms preprocess, 65.8ms inference, 1.0ms postprocess per image at shape (1, 3, 384, 640)\n",
      "\n"
     ]
    },
    {
     "name": "stdout",
     "output_type": "stream",
     "text": [
      "[[929, 433, 1279, 760, 0.7751166224479675, 'train'], [415, 521, 527, 650, 0.6624372005462646, 'train'], [771, 444, 833, 502, 0.5113773345947266, 'train'], [559, 341, 601, 362, 0.5043932199478149, 'train']]\n",
      "[[392, 530, 522, 665, 0.7009067535400391, 'car'], [769, 441, 830, 493, 0.6448436379432678, 'car'], [932, 431, 1262, 751, 0.6126087307929993, 'car'], [560, 341, 606, 364, 0.5832273960113525, 'car']]\n"
     ]
    },
    {
     "name": "stderr",
     "output_type": "stream",
     "text": [
      "0: 384x640 4 cars, 1 train, 66.8ms\n",
      "Speed: 3.0ms preprocess, 66.8ms inference, 1.0ms postprocess per image at shape (1, 3, 384, 640)\n",
      "\n",
      "0: 384x640 3 cars, 1 train, 71.8ms\n",
      "Speed: 2.0ms preprocess, 71.8ms inference, 1.0ms postprocess per image at shape (1, 3, 384, 640)\n",
      "\n"
     ]
    },
    {
     "name": "stdout",
     "output_type": "stream",
     "text": [
      "[[388, 545, 515, 688, 0.8111521601676941, 'car'], [923, 427, 1249, 756, 0.684597909450531, 'car'], [560, 344, 595, 366, 0.5292404294013977, 'car'], [769, 437, 827, 488, 0.5206744074821472, 'car']]\n",
      "[[375, 555, 508, 707, 0.6688923239707947, 'car'], [915, 421, 1224, 741, 0.6290895342826843, 'car'], [766, 434, 824, 479, 0.5536931753158569, 'car'], [560, 343, 594, 365, 0.5226224660873413, 'car']]\n"
     ]
    },
    {
     "name": "stderr",
     "output_type": "stream",
     "text": [
      "0: 384x640 4 cars, 1 train, 62.8ms\n",
      "Speed: 27.9ms preprocess, 62.8ms inference, 1.0ms postprocess per image at shape (1, 3, 384, 640)\n",
      "\n",
      "0: 384x640 3 cars, 1 train, 77.8ms\n",
      "Speed: 2.0ms preprocess, 77.8ms inference, 1.0ms postprocess per image at shape (1, 3, 384, 640)\n",
      "\n"
     ]
    },
    {
     "name": "stdout",
     "output_type": "stream",
     "text": [
      "[[340, 573, 492, 762, 0.8220887184143066, 'car'], [558, 343, 594, 368, 0.5958712100982666, 'car'], [909, 412, 1196, 717, 0.577238917350769, 'car'], [763, 426, 812, 469, 0.505646824836731, 'car']]\n",
      "[[322, 572, 481, 761, 0.7286956906318665, 'car'], [556, 343, 592, 370, 0.6624314188957214, 'car'], [903, 407, 1180, 697, 0.6497923731803894, 'car'], [761, 421, 817, 464, 0.41097426414489746, 'car']]\n"
     ]
    },
    {
     "name": "stderr",
     "output_type": "stream",
     "text": [
      "0: 384x640 3 cars, 2 trains, 63.8ms\n",
      "Speed: 2.0ms preprocess, 63.8ms inference, 1.0ms postprocess per image at shape (1, 3, 384, 640)\n",
      "\n",
      "0: 384x640 3 cars, 1 train, 59.8ms\n",
      "Speed: 2.0ms preprocess, 59.8ms inference, 1.0ms postprocess per image at shape (1, 3, 384, 640)\n",
      "\n",
      "0: 384x640 3 cars, 2 trains, 64.8ms\n"
     ]
    },
    {
     "name": "stdout",
     "output_type": "stream",
     "text": [
      "[[555, 344, 590, 372, 0.7076504826545715, 'car'], [906, 407, 1159, 678, 0.4245457053184509, 'car'], [303, 604, 471, 764, 0.34167733788490295, 'car']]\n",
      "[[554, 345, 589, 372, 0.6994264721870422, 'car'], [897, 403, 1147, 666, 0.5337005257606506, 'car'], [759, 412, 806, 454, 0.4018784761428833, 'car']]\n"
     ]
    },
    {
     "name": "stderr",
     "output_type": "stream",
     "text": [
      "Speed: 2.0ms preprocess, 64.8ms inference, 1.0ms postprocess per image at shape (1, 3, 384, 640)\n",
      "\n",
      "0: 384x640 2 cars, 2 trains, 62.8ms\n",
      "Speed: 8.0ms preprocess, 62.8ms inference, 1.0ms postprocess per image at shape (1, 3, 384, 640)\n",
      "\n"
     ]
    },
    {
     "name": "stdout",
     "output_type": "stream",
     "text": [
      "[[552, 345, 588, 372, 0.6478477120399475, 'car'], [894, 401, 1131, 661, 0.57733154296875, 'car'], [282, 665, 444, 766, 0.5356374979019165, 'car'], [757, 408, 803, 449, 0.32014548778533936, 'car']]\n",
      "[[548, 347, 585, 374, 0.6268171072006226, 'car'], [888, 394, 1102, 616, 0.37302523851394653, 'car'], [755, 402, 800, 440, 0.3649965822696686, 'car'], [757, 279, 1104, 619, 0.31212279200553894, 'car']]\n"
     ]
    },
    {
     "name": "stderr",
     "output_type": "stream",
     "text": [
      "0: 384x640 1 car, 2 trains, 64.4ms\n",
      "Speed: 2.0ms preprocess, 64.4ms inference, 1.0ms postprocess per image at shape (1, 3, 384, 640)\n",
      "\n",
      "0: 384x640 2 cars, 2 trains, 65.9ms\n",
      "Speed: 2.0ms preprocess, 65.9ms inference, 1.0ms postprocess per image at shape (1, 3, 384, 640)\n",
      "\n"
     ]
    },
    {
     "name": "stdout",
     "output_type": "stream",
     "text": [
      "[[546, 347, 584, 376, 0.656021773815155, 'car'], [753, 273, 1096, 623, 0.3850882649421692, 'car']]\n",
      "[[543, 346, 585, 377, 0.6360514760017395, 'car'], [753, 397, 799, 433, 0.5104061365127563, 'car'], [888, 388, 1086, 607, 0.43991145491600037, 'car'], [752, 269, 1086, 608, 0.3843335807323456, 'car']]\n"
     ]
    },
    {
     "name": "stderr",
     "output_type": "stream",
     "text": [
      "0: 384x640 1 car, 2 trains, 70.9ms\n",
      "Speed: 2.0ms preprocess, 70.9ms inference, 1.0ms postprocess per image at shape (1, 3, 384, 640)\n",
      "\n",
      "0: 384x640 1 car, 2 trains, 68.8ms\n",
      "Speed: 2.0ms preprocess, 68.8ms inference, 1.0ms postprocess per image at shape (1, 3, 384, 640)\n",
      "\n"
     ]
    },
    {
     "name": "stdout",
     "output_type": "stream",
     "text": [
      "[[542, 345, 585, 379, 0.5927300453186035, 'car'], [883, 385, 1078, 601, 0.5246104598045349, 'car'], [752, 270, 1076, 601, 0.36891400814056396, 'car']]\n",
      "[[540, 353, 580, 381, 0.6133793592453003, 'car'], [880, 383, 1066, 591, 0.5574631690979004, 'car']]\n"
     ]
    },
    {
     "name": "stderr",
     "output_type": "stream",
     "text": [
      "0: 384x640 3 cars, 1 train, 72.8ms\n",
      "Speed: 2.0ms preprocess, 72.8ms inference, 1.0ms postprocess per image at shape (1, 3, 384, 640)\n",
      "\n",
      "0: 384x640 2 cars, 1 train, 63.8ms\n",
      "Speed: 2.0ms preprocess, 63.8ms inference, 1.0ms postprocess per image at shape (1, 3, 384, 640)\n",
      "\n",
      "0: 384x640 3 cars, 1 train, 68.2ms\n"
     ]
    },
    {
     "name": "stdout",
     "output_type": "stream",
     "text": [
      "[[537, 356, 576, 384, 0.6758142709732056, 'car'], [875, 378, 1049, 573, 0.5259012579917908, 'car']]\n",
      "[[536, 359, 572, 385, 0.7373982071876526, 'car'], [869, 376, 1040, 573, 0.5334511995315552, 'car']]\n"
     ]
    },
    {
     "name": "stderr",
     "output_type": "stream",
     "text": [
      "Speed: 2.0ms preprocess, 68.2ms inference, 1.0ms postprocess per image at shape (1, 3, 384, 640)\n",
      "\n",
      "0: 384x640 3 cars, 2 trains, 92.8ms\n",
      "Speed: 2.0ms preprocess, 92.8ms inference, 1.5ms postprocess per image at shape (1, 3, 384, 640)\n",
      "\n"
     ]
    },
    {
     "name": "stdout",
     "output_type": "stream",
     "text": [
      "[[865, 375, 1029, 561, 0.7425612211227417, 'train'], [534, 360, 573, 388, 0.7184495329856873, 'train'], [643, 311, 669, 329, 0.3859403431415558, 'train']]\n",
      "[[862, 373, 1024, 559, 0.6800556778907776, 'train'], [532, 361, 572, 391, 0.6638830900192261, 'train'], [644, 312, 667, 329, 0.3029639720916748, 'train']]\n"
     ]
    },
    {
     "name": "stderr",
     "output_type": "stream",
     "text": [
      "0: 384x640 4 cars, 1 train, 62.8ms\n",
      "Speed: 1.0ms preprocess, 62.8ms inference, 1.0ms postprocess per image at shape (1, 3, 384, 640)\n",
      "\n",
      "0: 384x640 4 cars, 1 train, 68.8ms\n",
      "Speed: 2.0ms preprocess, 68.8ms inference, 1.0ms postprocess per image at shape (1, 3, 384, 640)\n",
      "\n"
     ]
    },
    {
     "name": "stdout",
     "output_type": "stream",
     "text": [
      "[[530, 363, 572, 392, 0.7664400339126587, 'car'], [856, 371, 1016, 549, 0.7357946634292603, 'car'], [746, 374, 797, 408, 0.42844077944755554, 'car'], [644, 313, 667, 330, 0.3633561432361603, 'car']]\n",
      "[[526, 365, 572, 395, 0.7917473912239075, 'car'], [855, 367, 1002, 542, 0.7728093266487122, 'car'], [887, 676, 1103, 764, 0.7157081365585327, 'car'], [642, 312, 667, 330, 0.42698410153388977, 'car'], [745, 371, 779, 400, 0.3945033848285675, 'car']]\n"
     ]
    },
    {
     "name": "stderr",
     "output_type": "stream",
     "text": [
      "0: 384x640 4 cars, 1 train, 61.8ms\n",
      "Speed: 2.0ms preprocess, 61.8ms inference, 1.0ms postprocess per image at shape (1, 3, 384, 640)\n",
      "\n",
      "0: 384x640 3 cars, 1 train, 1 truck, 62.8ms\n",
      "Speed: 2.0ms preprocess, 62.8ms inference, 1.0ms postprocess per image at shape (1, 3, 384, 640)\n",
      "\n"
     ]
    },
    {
     "name": "stdout",
     "output_type": "stream",
     "text": [
      "[[851, 365, 995, 533, 0.7506241798400879, 'train'], [523, 370, 572, 398, 0.7273474931716919, 'train'], [874, 648, 1084, 765, 0.4286688268184662, 'train'], [743, 369, 776, 398, 0.41619637608528137, 'train'], [641, 312, 665, 331, 0.3102237284183502, 'train']]\n",
      "[[846, 363, 991, 527, 0.7500445246696472, 'train'], [521, 370, 563, 399, 0.7291939854621887, 'train'], [862, 624, 1062, 766, 0.5087110996246338, 'train'], [742, 369, 777, 396, 0.3292839229106903, 'train'], [641, 312, 664, 331, 0.3151315152645111, 'train']]\n"
     ]
    },
    {
     "name": "stderr",
     "output_type": "stream",
     "text": [
      "0: 384x640 2 cars, 1 train, 1 truck, 68.8ms\n",
      "Speed: 2.0ms preprocess, 68.8ms inference, 1.0ms postprocess per image at shape (1, 3, 384, 640)\n",
      "\n",
      "0: 384x640 3 cars, 1 train, 1 truck, 62.8ms\n",
      "Speed: 3.0ms preprocess, 62.8ms inference, 1.0ms postprocess per image at shape (1, 3, 384, 640)\n",
      "\n"
     ]
    },
    {
     "name": "stdout",
     "output_type": "stream",
     "text": [
      "[[845, 362, 983, 524, 0.8011982440948486, 'train'], [519, 371, 558, 400, 0.7383550405502319, 'train'], [852, 610, 1035, 766, 0.5575318932533264, 'train'], [640, 312, 664, 331, 0.36361247301101685, 'train']]\n",
      "[[516, 374, 557, 403, 0.7379850149154663, 'car'], [841, 361, 980, 517, 0.7217263579368591, 'car'], [843, 594, 1016, 759, 0.5863319039344788, 'car'], [639, 311, 663, 332, 0.43301257491111755, 'car']]\n"
     ]
    },
    {
     "name": "stderr",
     "output_type": "stream",
     "text": [
      "0: 384x640 5 cars, 1 train, 1 truck, 65.8ms\n",
      "Speed: 2.0ms preprocess, 65.8ms inference, 1.0ms postprocess per image at shape (1, 3, 384, 640)\n",
      "\n",
      "0: 384x640 5 cars, 1 train, 64.3ms\n",
      "Speed: 5.0ms preprocess, 64.3ms inference, 1.0ms postprocess per image at shape (1, 3, 384, 640)\n",
      "\n"
     ]
    },
    {
     "name": "stdout",
     "output_type": "stream",
     "text": [
      "[[842, 358, 969, 507, 0.7109899520874023, 'train'], [511, 374, 555, 408, 0.6981567740440369, 'train'], [826, 563, 977, 709, 0.4051612615585327, 'train'], [741, 360, 777, 388, 0.3991003930568695, 'train'], [639, 310, 662, 334, 0.3315059542655945, 'train']]\n",
      "[[833, 357, 964, 504, 0.7587506175041199, 'train'], [509, 375, 552, 409, 0.7524745464324951, 'train'], [819, 551, 963, 688, 0.6012911200523376, 'train'], [741, 359, 775, 386, 0.4214612543582916, 'train'], [639, 311, 662, 334, 0.31542691588401794, 'train']]\n"
     ]
    },
    {
     "name": "stderr",
     "output_type": "stream",
     "text": [
      "0: 384x640 5 cars, 1 train, 66.8ms\n",
      "Speed: 2.0ms preprocess, 66.8ms inference, 2.0ms postprocess per image at shape (1, 3, 384, 640)\n",
      "\n",
      "0: 384x640 3 cars, 1 train, 1 truck, 67.8ms\n",
      "Speed: 2.0ms preprocess, 67.8ms inference, 1.0ms postprocess per image at shape (1, 3, 384, 640)\n",
      "\n"
     ]
    },
    {
     "name": "stdout",
     "output_type": "stream",
     "text": [
      "[[505, 374, 554, 411, 0.7533972263336182, 'car'], [831, 354, 958, 497, 0.683752179145813, 'car'], [637, 312, 662, 335, 0.45507949590682983, 'car'], [812, 539, 948, 664, 0.4453703761100769, 'car']]\n",
      "[[503, 376, 554, 415, 0.7854054570198059, 'car'], [830, 353, 954, 493, 0.5656137466430664, 'car'], [808, 527, 934, 647, 0.49052664637565613, 'car'], [637, 313, 661, 337, 0.3867717683315277, 'car'], [740, 357, 774, 383, 0.3682331144809723, 'car']]\n"
     ]
    },
    {
     "name": "stderr",
     "output_type": "stream",
     "text": [
      "0: 384x640 3 cars, 1 bus, 1 train, 1 truck, 61.8ms\n",
      "Speed: 2.0ms preprocess, 61.8ms inference, 1.0ms postprocess per image at shape (1, 3, 384, 640)\n",
      "\n",
      "0: 384x640 4 cars, 61.8ms\n",
      "Speed: 2.0ms preprocess, 61.8ms inference, 1.0ms postprocess per image at shape (1, 3, 384, 640)\n",
      "\n"
     ]
    },
    {
     "name": "stdout",
     "output_type": "stream",
     "text": [
      "[[500, 379, 545, 416, 0.7191002368927002, 'car'], [803, 517, 926, 635, 0.43783971667289734, 'car'], [637, 314, 661, 338, 0.3862003982067108, 'car']]\n",
      "[[495, 383, 539, 421, 0.7707234025001526, 'car'], [793, 499, 902, 604, 0.641629695892334, 'car'], [740, 352, 772, 376, 0.39487212896347046, 'car']]\n"
     ]
    },
    {
     "name": "stderr",
     "output_type": "stream",
     "text": [
      "0: 384x640 3 cars, 1 truck, 64.8ms\n",
      "Speed: 2.0ms preprocess, 64.8ms inference, 1.0ms postprocess per image at shape (1, 3, 384, 640)\n",
      "\n",
      "0: 384x640 2 cars, 1 train, 72.3ms\n",
      "Speed: 1.0ms preprocess, 72.3ms inference, 1.0ms postprocess per image at shape (1, 3, 384, 640)\n",
      "\n"
     ]
    },
    {
     "name": "stdout",
     "output_type": "stream",
     "text": [
      "[[492, 386, 538, 423, 0.7352691292762756, 'car'], [739, 349, 771, 374, 0.5891550183296204, 'car'], [789, 489, 894, 596, 0.524356484413147, 'car']]\n",
      "[[784, 483, 885, 582, 0.6889165043830872, 'car'], [487, 389, 551, 427, 0.61786949634552, 'car'], [824, 348, 932, 474, 0.4258002042770386, 'car']]\n"
     ]
    },
    {
     "name": "stderr",
     "output_type": "stream",
     "text": [
      "0: 384x640 2 cars, 1 train, 1 truck, 60.3ms\n",
      "Speed: 2.0ms preprocess, 60.3ms inference, 1.0ms postprocess per image at shape (1, 3, 384, 640)\n",
      "\n",
      "0: 384x640 3 cars, 1 train, 1 truck, 63.3ms\n",
      "Speed: 2.0ms preprocess, 63.3ms inference, 1.0ms postprocess per image at shape (1, 3, 384, 640)\n",
      "\n"
     ]
    },
    {
     "name": "stdout",
     "output_type": "stream",
     "text": [
      "[[485, 393, 552, 430, 0.7569593191146851, 'car'], [780, 476, 878, 571, 0.6851261854171753, 'car'], [823, 347, 931, 472, 0.49372562766075134, 'car']]\n",
      "[[483, 393, 551, 432, 0.7072041630744934, 'car'], [777, 468, 871, 560, 0.5654498338699341, 'car'], [822, 346, 925, 468, 0.5239537358283997, 'car'], [631, 322, 657, 344, 0.37579983472824097, 'car']]\n"
     ]
    },
    {
     "name": "stderr",
     "output_type": "stream",
     "text": [
      "0: 384x640 5 cars, 1 train, 1 truck, 79.8ms\n",
      "Speed: 2.0ms preprocess, 79.8ms inference, 1.0ms postprocess per image at shape (1, 3, 384, 640)\n",
      "\n",
      "0: 384x640 5 cars, 1 train, 65.8ms\n",
      "Speed: 2.0ms preprocess, 65.8ms inference, 1.0ms postprocess per image at shape (1, 3, 384, 640)\n",
      "\n"
     ]
    },
    {
     "name": "stdout",
     "output_type": "stream",
     "text": [
      "[[475, 398, 547, 439, 0.6147871017456055, 'car'], [629, 322, 657, 345, 0.43008488416671753, 'car'], [770, 455, 860, 542, 0.348455548286438, 'car'], [735, 343, 765, 367, 0.3437686860561371, 'car'], [820, 341, 920, 457, 0.3002900183200836, 'car']]\n",
      "[[471, 399, 524, 441, 0.7715376615524292, 'car'], [768, 451, 851, 535, 0.5722556710243225, 'car'], [629, 323, 658, 346, 0.46019241213798523, 'car'], [735, 342, 764, 365, 0.3336034417152405, 'car']]\n"
     ]
    },
    {
     "name": "stderr",
     "output_type": "stream",
     "text": [
      "0: 384x640 6 cars, 67.8ms\n",
      "Speed: 2.0ms preprocess, 67.8ms inference, 1.0ms postprocess per image at shape (1, 3, 384, 640)\n",
      "\n",
      "0: 384x640 6 cars, 67.8ms\n",
      "Speed: 2.0ms preprocess, 67.8ms inference, 1.0ms postprocess per image at shape (1, 3, 384, 640)\n",
      "\n"
     ]
    },
    {
     "name": "stdout",
     "output_type": "stream",
     "text": [
      "[[468, 400, 522, 444, 0.8620234727859497, 'car'], [767, 445, 846, 526, 0.5501717925071716, 'car'], [628, 326, 656, 347, 0.5491120219230652, 'car'], [578, 327, 608, 351, 0.33870577812194824, 'car'], [816, 341, 915, 452, 0.3142705261707306, 'car']]\n",
      "[[466, 402, 518, 447, 0.6762588620185852, 'car'], [763, 440, 837, 519, 0.5453022718429565, 'car'], [627, 326, 656, 348, 0.44211623072624207, 'car'], [816, 340, 910, 449, 0.40906375646591187, 'car']]\n"
     ]
    },
    {
     "name": "stderr",
     "output_type": "stream",
     "text": [
      "0: 384x640 5 cars, 63.8ms\n",
      "Speed: 2.0ms preprocess, 63.8ms inference, 1.0ms postprocess per image at shape (1, 3, 384, 640)\n",
      "\n",
      "0: 384x640 6 cars, 65.8ms\n",
      "Speed: 2.0ms preprocess, 65.8ms inference, 1.0ms postprocess per image at shape (1, 3, 384, 640)\n",
      "\n"
     ]
    },
    {
     "name": "stdout",
     "output_type": "stream",
     "text": [
      "[[460, 406, 512, 451, 0.7824852466583252, 'car'], [627, 327, 655, 349, 0.5302749276161194, 'car'], [762, 436, 834, 512, 0.4966239333152771, 'car'], [816, 340, 907, 447, 0.3276654779911041, 'car']]\n",
      "[[452, 413, 504, 459, 0.7139057517051697, 'car'], [757, 425, 827, 498, 0.6264442801475525, 'car'], [625, 329, 652, 352, 0.48099198937416077, 'car'], [571, 331, 602, 354, 0.3876424729824066, 'car']]\n"
     ]
    },
    {
     "name": "stderr",
     "output_type": "stream",
     "text": [
      "0: 384x640 4 cars, 1 train, 68.8ms\n",
      "Speed: 2.0ms preprocess, 68.8ms inference, 1.0ms postprocess per image at shape (1, 3, 384, 640)\n",
      "\n",
      "0: 384x640 4 cars, 1 train, 68.8ms\n",
      "Speed: 2.1ms preprocess, 68.8ms inference, 1.0ms postprocess per image at shape (1, 3, 384, 640)\n",
      "\n"
     ]
    },
    {
     "name": "stdout",
     "output_type": "stream",
     "text": [
      "[[449, 417, 503, 461, 0.5730015635490417, 'car'], [626, 331, 650, 353, 0.4578133821487427, 'car'], [569, 332, 603, 356, 0.42258089780807495, 'car'], [812, 336, 897, 440, 0.3374442160129547, 'car']]\n",
      "[[443, 418, 503, 466, 0.7338799238204956, 'car'], [567, 334, 605, 356, 0.5015456080436707, 'car'], [624, 332, 650, 354, 0.4541380703449249, 'car']]\n"
     ]
    },
    {
     "name": "stderr",
     "output_type": "stream",
     "text": [
      "0: 384x640 5 cars, 1 train, 61.8ms\n",
      "Speed: 2.0ms preprocess, 61.8ms inference, 1.0ms postprocess per image at shape (1, 3, 384, 640)\n",
      "\n",
      "0: 384x640 4 cars, 1 train, 68.9ms\n",
      "Speed: 1.0ms preprocess, 68.9ms inference, 1.0ms postprocess per image at shape (1, 3, 384, 640)\n",
      "\n"
     ]
    },
    {
     "name": "stdout",
     "output_type": "stream",
     "text": [
      "[[439, 420, 501, 469, 0.615891695022583, 'car'], [565, 333, 603, 358, 0.44749715924263, 'car'], [623, 333, 651, 356, 0.41969606280326843, 'car']]\n",
      "[[434, 424, 490, 474, 0.5282816886901855, 'car'], [622, 334, 650, 356, 0.4117581844329834, 'car'], [563, 334, 599, 359, 0.3985917568206787, 'car'], [810, 335, 891, 434, 0.3155122995376587, 'car']]\n"
     ]
    },
    {
     "name": "stderr",
     "output_type": "stream",
     "text": [
      "0: 384x640 2 cars, 1 train, 64.8ms\n",
      "Speed: 2.0ms preprocess, 64.8ms inference, 1.0ms postprocess per image at shape (1, 3, 384, 640)\n",
      "\n",
      "0: 384x640 2 cars, 64.8ms\n",
      "Speed: 3.0ms preprocess, 64.8ms inference, 1.0ms postprocess per image at shape (1, 3, 384, 640)\n",
      "\n",
      "0: 384x640 2 cars, 1 train, 63.8ms\n"
     ]
    },
    {
     "name": "stdout",
     "output_type": "stream",
     "text": [
      "[[423, 429, 486, 485, 0.7530097365379333, 'car'], [618, 335, 651, 362, 0.5489352345466614, 'car'], [808, 332, 884, 427, 0.34927088022232056, 'car']]\n",
      "[[417, 436, 486, 491, 0.7746227383613586, 'car'], [617, 335, 650, 363, 0.5296202898025513, 'car']]\n"
     ]
    },
    {
     "name": "stderr",
     "output_type": "stream",
     "text": [
      "Speed: 2.0ms preprocess, 63.8ms inference, 1.0ms postprocess per image at shape (1, 3, 384, 640)\n",
      "\n",
      "0: 384x640 2 cars, 1 train, 61.8ms\n",
      "Speed: 2.0ms preprocess, 61.8ms inference, 1.0ms postprocess per image at shape (1, 3, 384, 640)\n",
      "\n",
      "0: 384x640 2 cars, 1 bus, 1 train, 1 truck, 61.8ms\n"
     ]
    },
    {
     "name": "stdout",
     "output_type": "stream",
     "text": [
      "[[411, 437, 477, 495, 0.7179709076881409, 'car'], [616, 332, 648, 363, 0.4037363529205322, 'car']]\n",
      "[[402, 441, 473, 501, 0.7150079011917114, 'car'], [616, 336, 648, 364, 0.390027791261673, 'car']]\n"
     ]
    },
    {
     "name": "stderr",
     "output_type": "stream",
     "text": [
      "Speed: 2.0ms preprocess, 61.8ms inference, 1.0ms postprocess per image at shape (1, 3, 384, 640)\n",
      "\n",
      "0: 384x640 3 cars, 1 truck, 62.8ms\n",
      "Speed: 2.0ms preprocess, 62.8ms inference, 1.0ms postprocess per image at shape (1, 3, 384, 640)\n",
      "\n",
      "0: 384x640 2 cars, 64.8ms\n"
     ]
    },
    {
     "name": "stdout",
     "output_type": "stream",
     "text": [
      "[[398, 443, 470, 507, 0.5757257342338562, 'car'], [616, 338, 648, 366, 0.552872896194458, 'car']]\n",
      "[[382, 456, 460, 519, 0.5972385406494141, 'car'], [615, 341, 645, 367, 0.5463011860847473, 'car']]\n"
     ]
    },
    {
     "name": "stderr",
     "output_type": "stream",
     "text": [
      "Speed: 2.0ms preprocess, 64.8ms inference, 1.0ms postprocess per image at shape (1, 3, 384, 640)\n",
      "\n",
      "0: 384x640 3 cars, 71.3ms\n",
      "Speed: 2.0ms preprocess, 71.3ms inference, 1.0ms postprocess per image at shape (1, 3, 384, 640)\n",
      "\n"
     ]
    },
    {
     "name": "stdout",
     "output_type": "stream",
     "text": [
      "[[376, 459, 456, 525, 0.677815854549408, 'car'], [613, 343, 642, 368, 0.38166365027427673, 'car']]\n",
      "[[367, 464, 452, 533, 0.6734793186187744, 'car'], [611, 343, 640, 370, 0.45806047320365906, 'car'], [550, 342, 583, 368, 0.36041495203971863, 'car']]\n"
     ]
    },
    {
     "name": "stderr",
     "output_type": "stream",
     "text": [
      "0: 384x640 3 cars, 69.8ms\n",
      "Speed: 3.0ms preprocess, 69.8ms inference, 1.0ms postprocess per image at shape (1, 3, 384, 640)\n",
      "\n",
      "0: 384x640 3 cars, 63.8ms\n",
      "Speed: 2.0ms preprocess, 63.8ms inference, 1.0ms postprocess per image at shape (1, 3, 384, 640)\n",
      "\n",
      "0: 384x640 3 cars, 65.8ms\n"
     ]
    },
    {
     "name": "stdout",
     "output_type": "stream",
     "text": [
      "[[360, 471, 444, 540, 0.729127824306488, 'car'], [609, 344, 640, 372, 0.5601760745048523, 'car'], [548, 341, 582, 371, 0.33670875430107117, 'car']]\n",
      "[[607, 344, 640, 373, 0.6747894883155823, 'car'], [352, 473, 440, 550, 0.5116205215454102, 'car'], [546, 340, 584, 371, 0.3448426127433777, 'car']]\n"
     ]
    },
    {
     "name": "stderr",
     "output_type": "stream",
     "text": [
      "Speed: 3.0ms preprocess, 65.8ms inference, 1.0ms postprocess per image at shape (1, 3, 384, 640)\n",
      "\n",
      "0: 384x640 3 cars, 63.8ms\n",
      "Speed: 2.0ms preprocess, 63.8ms inference, 1.0ms postprocess per image at shape (1, 3, 384, 640)\n",
      "\n",
      "0: 384x640 3 cars, 59.8ms\n"
     ]
    },
    {
     "name": "stdout",
     "output_type": "stream",
     "text": [
      "[[333, 486, 427, 564, 0.7954609394073486, 'car'], [606, 348, 639, 374, 0.7312882542610168, 'car'], [542, 341, 581, 373, 0.5599677562713623, 'car']]\n",
      "[[323, 493, 422, 574, 0.7735937833786011, 'car'], [605, 348, 638, 376, 0.6823991537094116, 'car'], [541, 343, 578, 375, 0.577179491519928, 'car']]\n"
     ]
    },
    {
     "name": "stderr",
     "output_type": "stream",
     "text": [
      "Speed: 3.0ms preprocess, 59.8ms inference, 1.0ms postprocess per image at shape (1, 3, 384, 640)\n",
      "\n",
      "0: 384x640 3 cars, 63.9ms\n",
      "Speed: 2.0ms preprocess, 63.9ms inference, 1.0ms postprocess per image at shape (1, 3, 384, 640)\n",
      "\n"
     ]
    },
    {
     "name": "stdout",
     "output_type": "stream",
     "text": [
      "[[314, 496, 415, 584, 0.7387022376060486, 'car'], [603, 349, 638, 378, 0.6745615601539612, 'car'], [538, 344, 577, 376, 0.5734897255897522, 'car']]\n",
      "[[302, 503, 410, 592, 0.7576261758804321, 'car'], [600, 349, 636, 380, 0.661984384059906, 'car'], [536, 344, 574, 377, 0.49417832493782043, 'car']]\n"
     ]
    },
    {
     "name": "stderr",
     "output_type": "stream",
     "text": [
      "0: 384x640 3 cars, 67.8ms\n",
      "Speed: 2.0ms preprocess, 67.8ms inference, 1.0ms postprocess per image at shape (1, 3, 384, 640)\n",
      "\n",
      "0: 384x640 3 cars, 66.9ms\n",
      "Speed: 2.0ms preprocess, 66.9ms inference, 1.0ms postprocess per image at shape (1, 3, 384, 640)\n",
      "\n"
     ]
    },
    {
     "name": "stdout",
     "output_type": "stream",
     "text": [
      "[[291, 511, 401, 602, 0.8356397151947021, 'car'], [597, 351, 635, 381, 0.680620014667511, 'car'], [536, 343, 573, 379, 0.4221728444099426, 'car']]\n",
      "[[264, 527, 382, 624, 0.7701562643051147, 'car'], [597, 357, 636, 385, 0.4829046428203583, 'car'], [531, 347, 567, 381, 0.32312512397766113, 'car']]\n"
     ]
    },
    {
     "name": "stderr",
     "output_type": "stream",
     "text": [
      "0: 384x640 4 cars, 67.8ms\n",
      "Speed: 2.0ms preprocess, 67.8ms inference, 2.0ms postprocess per image at shape (1, 3, 384, 640)\n",
      "\n",
      "0: 384x640 5 cars, 61.9ms\n",
      "Speed: 2.0ms preprocess, 61.9ms inference, 1.0ms postprocess per image at shape (1, 3, 384, 640)\n",
      "\n"
     ]
    },
    {
     "name": "stdout",
     "output_type": "stream",
     "text": [
      "[[250, 536, 373, 638, 0.7678578495979309, 'car'], [596, 357, 636, 389, 0.6254611015319824, 'car'], [530, 343, 574, 383, 0.37088510394096375, 'car']]\n",
      "[[234, 545, 365, 653, 0.7663254737854004, 'car'], [595, 358, 635, 390, 0.6799665689468384, 'car'], [529, 344, 575, 385, 0.38154128193855286, 'car']]\n"
     ]
    },
    {
     "name": "stderr",
     "output_type": "stream",
     "text": [
      "0: 384x640 4 cars, 65.8ms\n",
      "Speed: 2.0ms preprocess, 65.8ms inference, 1.0ms postprocess per image at shape (1, 3, 384, 640)\n",
      "\n",
      "0: 384x640 3 cars, 64.8ms\n",
      "Speed: 2.0ms preprocess, 64.8ms inference, 1.0ms postprocess per image at shape (1, 3, 384, 640)\n",
      "\n"
     ]
    },
    {
     "name": "stdout",
     "output_type": "stream",
     "text": [
      "[[217, 555, 353, 669, 0.81349116563797, 'car'], [593, 357, 639, 392, 0.6528849601745605, 'car'], [528, 342, 579, 387, 0.3544492721557617, 'car']]\n",
      "[[590, 360, 638, 393, 0.7430239319801331, 'car'], [199, 566, 342, 684, 0.7246410250663757, 'car'], [525, 352, 564, 389, 0.36934638023376465, 'car']]\n"
     ]
    },
    {
     "name": "stderr",
     "output_type": "stream",
     "text": [
      "0: 384x640 5 cars, 65.8ms\n",
      "Speed: 8.0ms preprocess, 65.8ms inference, 1.0ms postprocess per image at shape (1, 3, 384, 640)\n",
      "\n",
      "0: 384x640 5 cars, 68.8ms\n",
      "Speed: 2.0ms preprocess, 68.8ms inference, 1.0ms postprocess per image at shape (1, 3, 384, 640)\n",
      "\n"
     ]
    },
    {
     "name": "stdout",
     "output_type": "stream",
     "text": [
      "[[160, 589, 320, 721, 0.8006682991981506, 'car'], [588, 366, 624, 398, 0.785610556602478, 'car'], [519, 355, 558, 391, 0.546491801738739, 'car']]\n",
      "[[587, 366, 622, 399, 0.8309797048568726, 'car'], [137, 602, 303, 742, 0.7633029818534851, 'car'], [516, 357, 557, 393, 0.5328612923622131, 'car']]\n"
     ]
    },
    {
     "name": "stderr",
     "output_type": "stream",
     "text": [
      "0: 384x640 6 cars, 62.8ms\n",
      "Speed: 2.0ms preprocess, 62.8ms inference, 1.0ms postprocess per image at shape (1, 3, 384, 640)\n",
      "\n",
      "0: 384x640 3 cars, 67.9ms\n",
      "Speed: 3.0ms preprocess, 67.9ms inference, 1.0ms postprocess per image at shape (1, 3, 384, 640)\n",
      "\n"
     ]
    },
    {
     "name": "stdout",
     "output_type": "stream",
     "text": [
      "[[109, 609, 289, 760, 0.8222487568855286, 'car'], [585, 367, 622, 401, 0.7053596377372742, 'car'], [512, 357, 556, 394, 0.48773518204689026, 'car'], [512, 343, 589, 395, 0.36061856150627136, 'car']]\n",
      "[[83, 611, 272, 765, 0.7474742531776428, 'car'], [583, 372, 625, 406, 0.623275637626648, 'car'], [510, 360, 554, 396, 0.4958692491054535, 'car']]\n"
     ]
    },
    {
     "name": "stderr",
     "output_type": "stream",
     "text": [
      "0: 384x640 4 cars, 1 truck, 69.8ms\n",
      "Speed: 2.0ms preprocess, 69.8ms inference, 1.0ms postprocess per image at shape (1, 3, 384, 640)\n",
      "\n",
      "0: 384x640 3 cars, 68.8ms\n",
      "Speed: 2.0ms preprocess, 68.8ms inference, 1.0ms postprocess per image at shape (1, 3, 384, 640)\n",
      "\n"
     ]
    },
    {
     "name": "stdout",
     "output_type": "stream",
     "text": [
      "[[581, 374, 622, 408, 0.6870763301849365, 'car'], [508, 360, 550, 398, 0.5379404425621033, 'car'], [60, 642, 257, 765, 0.47830647230148315, 'car']]\n",
      "[[503, 364, 545, 403, 0.7424890398979187, 'car'], [577, 374, 620, 411, 0.6550353765487671, 'car']]\n"
     ]
    },
    {
     "name": "stderr",
     "output_type": "stream",
     "text": [
      "0: 384x640 3 cars, 66.3ms\n",
      "Speed: 2.0ms preprocess, 66.3ms inference, 0.5ms postprocess per image at shape (1, 3, 384, 640)\n",
      "\n",
      "0: 384x640 2 cars, 67.8ms\n",
      "Speed: 2.0ms preprocess, 67.8ms inference, 1.0ms postprocess per image at shape (1, 3, 384, 640)\n",
      "\n",
      "0: 384x640 2 cars, 62.9ms\n"
     ]
    },
    {
     "name": "stdout",
     "output_type": "stream",
     "text": [
      "[[501, 364, 544, 406, 0.814206063747406, 'car'], [575, 376, 615, 415, 0.7828841209411621, 'car']]\n",
      "[[570, 380, 614, 417, 0.8304029107093811, 'car'], [498, 365, 544, 408, 0.7745893001556396, 'car']]\n"
     ]
    },
    {
     "name": "stderr",
     "output_type": "stream",
     "text": [
      "Speed: 2.0ms preprocess, 62.9ms inference, 1.0ms postprocess per image at shape (1, 3, 384, 640)\n",
      "\n",
      "0: 384x640 2 cars, 69.8ms\n",
      "Speed: 2.0ms preprocess, 69.8ms inference, 1.0ms postprocess per image at shape (1, 3, 384, 640)\n",
      "\n",
      "0: 384x640 3 cars, 66.8ms\n"
     ]
    },
    {
     "name": "stdout",
     "output_type": "stream",
     "text": [
      "[[569, 383, 613, 421, 0.8331851959228516, 'car'], [495, 366, 542, 409, 0.720633864402771, 'car']]\n",
      "[[567, 384, 613, 423, 0.8347749710083008, 'car'], [493, 369, 541, 410, 0.729917585849762, 'car']]\n"
     ]
    },
    {
     "name": "stderr",
     "output_type": "stream",
     "text": [
      "Speed: 2.0ms preprocess, 66.8ms inference, 1.0ms postprocess per image at shape (1, 3, 384, 640)\n",
      "\n",
      "0: 384x640 2 cars, 65.8ms\n",
      "Speed: 2.0ms preprocess, 65.8ms inference, 1.0ms postprocess per image at shape (1, 3, 384, 640)\n",
      "\n",
      "0: 384x640 2 cars, 66.8ms\n"
     ]
    },
    {
     "name": "stdout",
     "output_type": "stream",
     "text": [
      "[[487, 371, 536, 413, 0.8103520274162292, 'car'], [564, 389, 606, 428, 0.793707549571991, 'car']]\n",
      "[[484, 372, 533, 416, 0.8063960075378418, 'car'], [562, 392, 604, 432, 0.7604028582572937, 'car']]\n"
     ]
    },
    {
     "name": "stderr",
     "output_type": "stream",
     "text": [
      "Speed: 2.0ms preprocess, 66.8ms inference, 0.0ms postprocess per image at shape (1, 3, 384, 640)\n",
      "\n",
      "0: 384x640 4 cars, 68.8ms\n",
      "Speed: 2.0ms preprocess, 68.8ms inference, 1.0ms postprocess per image at shape (1, 3, 384, 640)\n",
      "\n"
     ]
    },
    {
     "name": "stdout",
     "output_type": "stream",
     "text": [
      "[[479, 372, 530, 418, 0.735293984413147, 'car'], [560, 393, 600, 436, 0.6844542026519775, 'car']]\n",
      "[[556, 396, 600, 440, 0.6696004867553711, 'car'], [477, 374, 527, 423, 0.6575443744659424, 'car']]\n"
     ]
    },
    {
     "name": "stderr",
     "output_type": "stream",
     "text": [
      "0: 384x640 2 cars, 67.8ms\n",
      "Speed: 2.0ms preprocess, 67.8ms inference, 1.0ms postprocess per image at shape (1, 3, 384, 640)\n",
      "\n",
      "0: 384x640 2 cars, 68.9ms\n",
      "Speed: 8.0ms preprocess, 68.9ms inference, 1.0ms postprocess per image at shape (1, 3, 384, 640)\n",
      "\n"
     ]
    },
    {
     "name": "stdout",
     "output_type": "stream",
     "text": [
      "[[553, 398, 598, 443, 0.737281858921051, 'car'], [473, 375, 524, 425, 0.5986994504928589, 'car']]\n",
      "[[543, 404, 595, 450, 0.8404691815376282, 'car'], [465, 379, 521, 430, 0.6371702551841736, 'car']]\n"
     ]
    },
    {
     "name": "stderr",
     "output_type": "stream",
     "text": [
      "0: 384x640 2 cars, 72.8ms\n",
      "Speed: 3.0ms preprocess, 72.8ms inference, 2.0ms postprocess per image at shape (1, 3, 384, 640)\n",
      "\n",
      "0: 384x640 2 cars, 71.8ms\n",
      "Speed: 2.0ms preprocess, 71.8ms inference, 1.0ms postprocess per image at shape (1, 3, 384, 640)\n",
      "\n",
      "0: 384x640 2 cars, 68.8ms\n"
     ]
    },
    {
     "name": "stdout",
     "output_type": "stream",
     "text": [
      "[[543, 408, 592, 455, 0.7976940274238586, 'car'], [461, 385, 515, 432, 0.71419358253479, 'car']]\n",
      "[[539, 411, 591, 458, 0.823329508304596, 'car'], [459, 386, 510, 435, 0.690608024597168, 'car']]\n"
     ]
    },
    {
     "name": "stderr",
     "output_type": "stream",
     "text": [
      "Speed: 2.0ms preprocess, 68.8ms inference, 1.0ms postprocess per image at shape (1, 3, 384, 640)\n",
      "\n",
      "0: 384x640 2 cars, 75.8ms\n",
      "Speed: 2.0ms preprocess, 75.8ms inference, 1.0ms postprocess per image at shape (1, 3, 384, 640)\n",
      "\n"
     ]
    },
    {
     "name": "stdout",
     "output_type": "stream",
     "text": [
      "[[536, 416, 591, 463, 0.8352445960044861, 'car'], [453, 389, 508, 439, 0.7603347897529602, 'car']]\n",
      "[[535, 420, 587, 469, 0.7978196740150452, 'car'], [449, 391, 507, 443, 0.7638399600982666, 'car']]\n"
     ]
    },
    {
     "name": "stderr",
     "output_type": "stream",
     "text": [
      "0: 384x640 3 cars, 97.7ms\n",
      "Speed: 5.0ms preprocess, 97.7ms inference, 1.0ms postprocess per image at shape (1, 3, 384, 640)\n",
      "\n",
      "0: 384x640 3 cars, 66.8ms\n",
      "Speed: 2.0ms preprocess, 66.8ms inference, 1.0ms postprocess per image at shape (1, 3, 384, 640)\n",
      "\n",
      "0: 384x640 3 cars, 64.8ms\n"
     ]
    },
    {
     "name": "stdout",
     "output_type": "stream",
     "text": [
      "[[441, 395, 500, 447, 0.8492377400398254, 'car'], [527, 426, 586, 478, 0.802824854850769, 'car'], [631, 327, 657, 345, 0.3547060489654541, 'car']]\n",
      "[[525, 428, 580, 484, 0.916130542755127, 'car'], [437, 395, 498, 450, 0.861908495426178, 'car'], [632, 327, 660, 346, 0.3188686966896057, 'car']]\n"
     ]
    },
    {
     "name": "stderr",
     "output_type": "stream",
     "text": [
      "Speed: 2.0ms preprocess, 64.8ms inference, 1.0ms postprocess per image at shape (1, 3, 384, 640)\n",
      "\n",
      "0: 384x640 3 cars, 72.8ms\n",
      "Speed: 3.0ms preprocess, 72.8ms inference, 1.0ms postprocess per image at shape (1, 3, 384, 640)\n",
      "\n"
     ]
    },
    {
     "name": "stdout",
     "output_type": "stream",
     "text": [
      "[[520, 432, 577, 490, 0.89801424741745, 'car'], [430, 399, 494, 453, 0.8009988069534302, 'car'], [630, 328, 658, 346, 0.45114582777023315, 'car']]\n",
      "[[426, 401, 490, 458, 0.8569092750549316, 'car'], [517, 436, 573, 495, 0.7605577111244202, 'car'], [630, 328, 657, 346, 0.4344944953918457, 'car']]\n"
     ]
    },
    {
     "name": "stderr",
     "output_type": "stream",
     "text": [
      "0: 384x640 3 cars, 68.8ms\n",
      "Speed: 2.0ms preprocess, 68.8ms inference, 1.0ms postprocess per image at shape (1, 3, 384, 640)\n",
      "\n",
      "0: 384x640 3 cars, 68.8ms\n",
      "Speed: 2.0ms preprocess, 68.8ms inference, 1.0ms postprocess per image at shape (1, 3, 384, 640)\n",
      "\n",
      "0: 384x640 3 cars, 68.8ms\n"
     ]
    },
    {
     "name": "stdout",
     "output_type": "stream",
     "text": [
      "[[423, 403, 490, 462, 0.8475679755210876, 'car'], [511, 444, 572, 503, 0.6730172634124756, 'car']]\n",
      "[[417, 407, 484, 468, 0.7359527945518494, 'car'], [505, 447, 569, 508, 0.7252046465873718, 'car']]\n"
     ]
    },
    {
     "name": "stderr",
     "output_type": "stream",
     "text": [
      "Speed: 2.0ms preprocess, 68.8ms inference, 1.0ms postprocess per image at shape (1, 3, 384, 640)\n",
      "\n",
      "0: 384x640 3 cars, 75.8ms\n",
      "Speed: 3.0ms preprocess, 75.8ms inference, 1.0ms postprocess per image at shape (1, 3, 384, 640)\n",
      "\n"
     ]
    },
    {
     "name": "stdout",
     "output_type": "stream",
     "text": [
      "[[406, 413, 475, 473, 0.7706780433654785, 'car'], [495, 458, 564, 522, 0.7234957218170166, 'car'], [627, 335, 655, 352, 0.3442387580871582, 'car']]\n",
      "[[489, 463, 560, 531, 0.7973828315734863, 'car'], [401, 417, 471, 478, 0.7315196394920349, 'car'], [626, 334, 656, 353, 0.4920992851257324, 'car']]\n"
     ]
    },
    {
     "name": "stderr",
     "output_type": "stream",
     "text": [
      "0: 384x640 3 cars, 73.8ms\n",
      "Speed: 2.0ms preprocess, 73.8ms inference, 1.0ms postprocess per image at shape (1, 3, 384, 640)\n",
      "\n",
      "0: 384x640 3 cars, 69.8ms\n",
      "Speed: 2.0ms preprocess, 69.8ms inference, 1.0ms postprocess per image at shape (1, 3, 384, 640)\n",
      "\n"
     ]
    },
    {
     "name": "stdout",
     "output_type": "stream",
     "text": [
      "[[486, 469, 555, 539, 0.8101503849029541, 'car'], [394, 419, 469, 485, 0.7555649280548096, 'car'], [624, 335, 656, 356, 0.5412167906761169, 'car']]\n",
      "[[478, 475, 554, 548, 0.8061856031417847, 'car'], [388, 422, 463, 488, 0.7932406067848206, 'car'], [623, 335, 656, 358, 0.6150197982788086, 'car']]\n"
     ]
    },
    {
     "name": "stderr",
     "output_type": "stream",
     "text": [
      "0: 384x640 3 cars, 78.8ms\n",
      "Speed: 2.0ms preprocess, 78.8ms inference, 1.0ms postprocess per image at shape (1, 3, 384, 640)\n",
      "\n",
      "0: 384x640 3 cars, 70.8ms\n",
      "Speed: 2.0ms preprocess, 70.8ms inference, 1.0ms postprocess per image at shape (1, 3, 384, 640)\n",
      "\n"
     ]
    },
    {
     "name": "stdout",
     "output_type": "stream",
     "text": [
      "[[471, 481, 550, 556, 0.8008407950401306, 'car'], [379, 424, 458, 495, 0.7695484757423401, 'car'], [623, 335, 656, 359, 0.5791913866996765, 'car']]\n",
      "[[366, 432, 447, 505, 0.758565366268158, 'car'], [457, 496, 542, 579, 0.6716619729995728, 'car'], [621, 337, 658, 361, 0.5446247458457947, 'car']]\n"
     ]
    },
    {
     "name": "stderr",
     "output_type": "stream",
     "text": [
      "0: 384x640 4 cars, 69.8ms\n",
      "Speed: 2.0ms preprocess, 69.8ms inference, 1.0ms postprocess per image at shape (1, 3, 384, 640)\n",
      "\n",
      "0: 384x640 4 cars, 76.8ms\n",
      "Speed: 2.0ms preprocess, 76.8ms inference, 1.0ms postprocess per image at shape (1, 3, 384, 640)\n",
      "\n"
     ]
    },
    {
     "name": "stdout",
     "output_type": "stream",
     "text": [
      "[[451, 504, 538, 587, 0.7297148704528809, 'car'], [360, 434, 442, 511, 0.660359799861908, 'car'], [621, 339, 656, 362, 0.5418727397918701, 'car']]\n",
      "[[441, 511, 533, 599, 0.7549007534980774, 'car'], [619, 339, 655, 364, 0.6594082713127136, 'car'], [351, 439, 439, 518, 0.6011616587638855, 'car']]\n"
     ]
    },
    {
     "name": "stderr",
     "output_type": "stream",
     "text": [
      "0: 384x640 5 cars, 102.7ms\n",
      "Speed: 2.0ms preprocess, 102.7ms inference, 1.0ms postprocess per image at shape (1, 3, 384, 640)\n",
      "\n",
      "0: 384x640 3 cars, 75.8ms\n",
      "Speed: 3.0ms preprocess, 75.8ms inference, 1.0ms postprocess per image at shape (1, 3, 384, 640)\n",
      "\n"
     ]
    },
    {
     "name": "stdout",
     "output_type": "stream",
     "text": [
      "[[434, 521, 527, 614, 0.7560533881187439, 'car'], [617, 341, 656, 365, 0.724513590335846, 'car'], [343, 443, 433, 524, 0.616574227809906, 'car'], [773, 306, 810, 346, 0.3232263922691345, 'car']]\n",
      "[[615, 341, 655, 367, 0.7590509057044983, 'car'], [423, 529, 522, 625, 0.6141435503959656, 'car'], [334, 449, 427, 532, 0.6066487431526184, 'car']]\n"
     ]
    },
    {
     "name": "stderr",
     "output_type": "stream",
     "text": [
      "0: 384x640 3 cars, 64.8ms\n",
      "Speed: 3.0ms preprocess, 64.8ms inference, 1.0ms postprocess per image at shape (1, 3, 384, 640)\n",
      "\n",
      "0: 384x640 3 cars, 1 truck, 67.8ms\n",
      "Speed: 2.0ms preprocess, 67.8ms inference, 1.0ms postprocess per image at shape (1, 3, 384, 640)\n",
      "\n"
     ]
    },
    {
     "name": "stdout",
     "output_type": "stream",
     "text": [
      "[[401, 550, 510, 658, 0.6561055779457092, 'car'], [317, 456, 414, 547, 0.5951204895973206, 'car'], [615, 342, 651, 370, 0.5706241130828857, 'car']]\n",
      "[[386, 561, 503, 677, 0.7042452096939087, 'car'], [309, 462, 408, 553, 0.5659430027008057, 'car'], [615, 343, 649, 371, 0.5277679562568665, 'car']]\n"
     ]
    },
    {
     "name": "stderr",
     "output_type": "stream",
     "text": [
      "0: 384x640 3 cars, 70.8ms\n",
      "Speed: 2.0ms preprocess, 70.8ms inference, 1.0ms postprocess per image at shape (1, 3, 384, 640)\n",
      "\n",
      "0: 384x640 3 cars, 69.8ms\n",
      "Speed: 2.0ms preprocess, 69.8ms inference, 1.0ms postprocess per image at shape (1, 3, 384, 640)\n",
      "\n"
     ]
    },
    {
     "name": "stdout",
     "output_type": "stream",
     "text": [
      "[[375, 574, 497, 695, 0.7434766292572021, 'car'], [615, 342, 649, 373, 0.600719690322876, 'car'], [297, 466, 401, 561, 0.5584973692893982, 'car']]\n",
      "[[360, 586, 490, 719, 0.7225100994110107, 'car'], [287, 472, 395, 570, 0.6399429440498352, 'car'], [614, 346, 648, 374, 0.5377610921859741, 'car']]\n"
     ]
    },
    {
     "name": "stderr",
     "output_type": "stream",
     "text": [
      "0: 384x640 3 cars, 70.8ms\n",
      "Speed: 2.0ms preprocess, 70.8ms inference, 1.0ms postprocess per image at shape (1, 3, 384, 640)\n",
      "\n",
      "0: 384x640 4 cars, 1 truck, 73.8ms\n",
      "Speed: 2.0ms preprocess, 73.8ms inference, 2.0ms postprocess per image at shape (1, 3, 384, 640)\n",
      "\n"
     ]
    },
    {
     "name": "stdout",
     "output_type": "stream",
     "text": [
      "[[343, 603, 481, 745, 0.811367928981781, 'car'], [275, 479, 387, 580, 0.6471119523048401, 'car'], [611, 349, 649, 375, 0.5139882564544678, 'car']]\n",
      "[[306, 639, 461, 766, 0.8000659346580505, 'car'], [608, 349, 645, 378, 0.7342446446418762, 'car'], [250, 491, 370, 600, 0.5833631157875061, 'car'], [570, 334, 601, 355, 0.3994837999343872, 'car']]\n"
     ]
    },
    {
     "name": "stderr",
     "output_type": "stream",
     "text": [
      "0: 384x640 4 cars, 69.8ms\n",
      "Speed: 2.0ms preprocess, 69.8ms inference, 1.0ms postprocess per image at shape (1, 3, 384, 640)\n",
      "\n",
      "0: 384x640 4 cars, 69.8ms\n",
      "Speed: 2.0ms preprocess, 69.8ms inference, 1.0ms postprocess per image at shape (1, 3, 384, 640)\n",
      "\n"
     ]
    },
    {
     "name": "stdout",
     "output_type": "stream",
     "text": [
      "[[607, 351, 644, 381, 0.7488587498664856, 'car'], [238, 496, 362, 608, 0.7277665138244629, 'car'], [292, 658, 449, 766, 0.6771524548530579, 'car']]\n",
      "[[605, 354, 644, 383, 0.7569028735160828, 'car'], [224, 503, 352, 620, 0.6266973614692688, 'car'], [275, 682, 435, 766, 0.6248913407325745, 'car'], [568, 337, 603, 358, 0.3694208860397339, 'car']]\n"
     ]
    },
    {
     "name": "stderr",
     "output_type": "stream",
     "text": [
      "0: 384x640 4 cars, 65.8ms\n",
      "Speed: 2.0ms preprocess, 65.8ms inference, 1.0ms postprocess per image at shape (1, 3, 384, 640)\n",
      "\n",
      "0: 384x640 3 cars, 66.8ms\n",
      "Speed: 3.0ms preprocess, 66.8ms inference, 1.0ms postprocess per image at shape (1, 3, 384, 640)\n",
      "\n"
     ]
    },
    {
     "name": "stdout",
     "output_type": "stream",
     "text": [
      "[[208, 511, 340, 634, 0.7550797462463379, 'car'], [605, 355, 641, 383, 0.7289279103279114, 'car'], [274, 708, 414, 764, 0.5816166996955872, 'car'], [567, 337, 601, 358, 0.3528876304626465, 'car']]\n",
      "[[191, 519, 332, 649, 0.8214329481124878, 'car'], [604, 356, 640, 387, 0.7612013220787048, 'car'], [565, 339, 603, 360, 0.36612212657928467, 'car']]\n"
     ]
    },
    {
     "name": "stderr",
     "output_type": "stream",
     "text": [
      "0: 384x640 3 cars, 66.8ms\n",
      "Speed: 2.0ms preprocess, 66.8ms inference, 1.0ms postprocess per image at shape (1, 3, 384, 640)\n",
      "\n",
      "0: 384x640 3 cars, 60.8ms\n",
      "Speed: 3.0ms preprocess, 60.8ms inference, 1.0ms postprocess per image at shape (1, 3, 384, 640)\n",
      "\n",
      "0: 384x640 3 cars, 55.9ms\n"
     ]
    },
    {
     "name": "stdout",
     "output_type": "stream",
     "text": [
      "[[153, 537, 306, 681, 0.8808820247650146, 'car'], [601, 359, 641, 391, 0.7202761173248291, 'car'], [564, 339, 599, 361, 0.576439619064331, 'car']]\n",
      "[[134, 547, 294, 690, 0.8732638955116272, 'car'], [599, 359, 641, 392, 0.7857764959335327, 'car'], [564, 340, 600, 362, 0.5153355002403259, 'car']]\n"
     ]
    },
    {
     "name": "stderr",
     "output_type": "stream",
     "text": [
      "Speed: 2.0ms preprocess, 55.9ms inference, 1.0ms postprocess per image at shape (1, 3, 384, 640)\n",
      "\n",
      "0: 384x640 3 cars, 95.7ms\n",
      "Speed: 2.0ms preprocess, 95.7ms inference, 1.0ms postprocess per image at shape (1, 3, 384, 640)\n",
      "\n"
     ]
    },
    {
     "name": "stdout",
     "output_type": "stream",
     "text": [
      "[[110, 558, 280, 716, 0.8481633067131042, 'car'], [598, 358, 641, 393, 0.8225092887878418, 'car'], [560, 340, 598, 363, 0.45520514249801636, 'car']]\n",
      "[[87, 569, 267, 735, 0.8683809638023376, 'car'], [597, 361, 639, 395, 0.8140276670455933, 'car'], [560, 340, 595, 365, 0.4403030574321747, 'car']]\n"
     ]
    },
    {
     "name": "stderr",
     "output_type": "stream",
     "text": [
      "0: 384x640 3 cars, 69.8ms\n",
      "Speed: 2.0ms preprocess, 69.8ms inference, 1.0ms postprocess per image at shape (1, 3, 384, 640)\n",
      "\n",
      "0: 384x640 3 cars, 69.8ms\n",
      "Speed: 2.0ms preprocess, 69.8ms inference, 1.0ms postprocess per image at shape (1, 3, 384, 640)\n",
      "\n"
     ]
    },
    {
     "name": "stdout",
     "output_type": "stream",
     "text": [
      "[[59, 578, 252, 753, 0.8766760230064392, 'car'], [595, 365, 638, 398, 0.7090612053871155, 'car'], [561, 340, 596, 366, 0.4667648375034332, 'car']]\n",
      "[[5, 608, 219, 763, 0.7511431574821472, 'car'], [592, 368, 642, 403, 0.7347140908241272, 'car'], [558, 341, 589, 366, 0.49307453632354736, 'car']]\n"
     ]
    },
    {
     "name": "stderr",
     "output_type": "stream",
     "text": [
      "0: 384x640 3 cars, 62.8ms\n",
      "Speed: 3.0ms preprocess, 62.8ms inference, 1.0ms postprocess per image at shape (1, 3, 384, 640)\n",
      "\n",
      "0: 384x640 3 cars, 71.8ms\n",
      "Speed: 2.0ms preprocess, 71.8ms inference, 1.0ms postprocess per image at shape (1, 3, 384, 640)\n",
      "\n"
     ]
    },
    {
     "name": "stdout",
     "output_type": "stream",
     "text": [
      "[[589, 368, 638, 406, 0.6897662878036499, 'car'], [0, 615, 209, 765, 0.5933176279067993, 'car'], [557, 342, 590, 367, 0.5139120221138, 'car']]\n",
      "[[588, 368, 635, 408, 0.5756151676177979, 'car'], [556, 341, 589, 368, 0.5567049980163574, 'car'], [0, 639, 231, 764, 0.40794265270233154, 'car']]\n"
     ]
    },
    {
     "name": "stderr",
     "output_type": "stream",
     "text": [
      "0: 384x640 1 person, 3 cars, 65.9ms\n",
      "Speed: 2.0ms preprocess, 65.9ms inference, 1.0ms postprocess per image at shape (1, 3, 384, 640)\n",
      "\n",
      "0: 384x640 3 cars, 63.8ms\n",
      "Speed: 2.0ms preprocess, 63.8ms inference, 1.0ms postprocess per image at shape (1, 3, 384, 640)\n",
      "\n",
      "0: 384x640 3 cars, 66.8ms\n"
     ]
    },
    {
     "name": "stdout",
     "output_type": "stream",
     "text": [
      "[[588, 372, 634, 411, 0.7263185381889343, 'car'], [554, 342, 587, 370, 0.6368942856788635, 'car'], [0, 658, 151, 764, 0.3083069920539856, 'car']]\n",
      "[[587, 374, 631, 414, 0.7180482149124146, 'car'], [552, 342, 586, 373, 0.5491628646850586, 'car']]\n"
     ]
    },
    {
     "name": "stderr",
     "output_type": "stream",
     "text": [
      "Speed: 2.0ms preprocess, 66.8ms inference, 1.0ms postprocess per image at shape (1, 3, 384, 640)\n",
      "\n",
      "0: 384x640 3 cars, 62.8ms\n",
      "Speed: 5.0ms preprocess, 62.8ms inference, 1.0ms postprocess per image at shape (1, 3, 384, 640)\n",
      "\n",
      "0: 384x640 3 cars, 67.8ms\n"
     ]
    },
    {
     "name": "stdout",
     "output_type": "stream",
     "text": [
      "[[582, 379, 627, 420, 0.7399833798408508, 'car'], [548, 344, 584, 373, 0.6268628239631653, 'car']]\n",
      "[[580, 380, 626, 422, 0.7886745929718018, 'car'], [547, 344, 584, 374, 0.6560423970222473, 'car'], [764, 297, 796, 328, 0.30341970920562744, 'car']]\n"
     ]
    },
    {
     "name": "stderr",
     "output_type": "stream",
     "text": [
      "Speed: 2.0ms preprocess, 67.8ms inference, 1.0ms postprocess per image at shape (1, 3, 384, 640)\n",
      "\n",
      "0: 384x640 3 cars, 72.8ms\n",
      "Speed: 3.0ms preprocess, 72.8ms inference, 0.0ms postprocess per image at shape (1, 3, 384, 640)\n",
      "\n",
      "0: 384x640 2 cars, 63.8ms\n"
     ]
    },
    {
     "name": "stdout",
     "output_type": "stream",
     "text": [
      "[[576, 382, 625, 426, 0.7560957074165344, 'car'], [545, 344, 584, 375, 0.6846219897270203, 'car'], [764, 297, 797, 328, 0.32352903485298157, 'car']]\n",
      "[[572, 387, 623, 429, 0.7884454727172852, 'car'], [544, 345, 585, 376, 0.7048447728157043, 'car']]\n"
     ]
    },
    {
     "name": "stderr",
     "output_type": "stream",
     "text": [
      "Speed: 2.0ms preprocess, 63.8ms inference, 1.0ms postprocess per image at shape (1, 3, 384, 640)\n",
      "\n",
      "0: 384x640 3 cars, 68.8ms\n",
      "Speed: 2.0ms preprocess, 68.8ms inference, 2.0ms postprocess per image at shape (1, 3, 384, 640)\n",
      "\n",
      "0: 384x640 3 cars, 82.8ms\n"
     ]
    },
    {
     "name": "stdout",
     "output_type": "stream",
     "text": [
      "[[571, 389, 621, 433, 0.82374507188797, 'car'], [542, 348, 582, 378, 0.7267044186592102, 'car']]\n",
      "[[568, 392, 619, 441, 0.8112829327583313, 'car'], [537, 350, 578, 382, 0.7510897517204285, 'car']]\n"
     ]
    },
    {
     "name": "stderr",
     "output_type": "stream",
     "text": [
      "Speed: 3.0ms preprocess, 82.8ms inference, 1.0ms postprocess per image at shape (1, 3, 384, 640)\n",
      "\n",
      "0: 384x640 3 cars, 55.9ms\n",
      "Speed: 2.0ms preprocess, 55.9ms inference, 1.0ms postprocess per image at shape (1, 3, 384, 640)\n",
      "\n",
      "0: 384x640 4 cars, 75.8ms\n"
     ]
    },
    {
     "name": "stdout",
     "output_type": "stream",
     "text": [
      "[[565, 395, 621, 444, 0.7961827516555786, 'car'], [537, 350, 578, 383, 0.7505509257316589, 'car']]\n",
      "[[562, 398, 614, 448, 0.8213042616844177, 'car'], [536, 351, 575, 384, 0.7334560751914978, 'car']]\n"
     ]
    },
    {
     "name": "stderr",
     "output_type": "stream",
     "text": [
      "Speed: 1.0ms preprocess, 75.8ms inference, 1.0ms postprocess per image at shape (1, 3, 384, 640)\n",
      "\n",
      "0: 384x640 3 cars, 62.9ms\n",
      "Speed: 1.0ms preprocess, 62.9ms inference, 1.0ms postprocess per image at shape (1, 3, 384, 640)\n",
      "\n"
     ]
    },
    {
     "name": "stdout",
     "output_type": "stream",
     "text": [
      "[[560, 401, 614, 455, 0.861629068851471, 'car'], [534, 355, 571, 387, 0.6813503503799438, 'car'], [605, 312, 629, 331, 0.34651967883110046, 'car']]\n",
      "[[556, 404, 610, 459, 0.882920503616333, 'car'], [533, 359, 570, 389, 0.656784176826477, 'car'], [604, 312, 629, 332, 0.3068774342536926, 'car']]\n"
     ]
    },
    {
     "name": "stderr",
     "output_type": "stream",
     "text": [
      "0: 384x640 2 cars, 64.8ms\n",
      "Speed: 2.0ms preprocess, 64.8ms inference, 1.0ms postprocess per image at shape (1, 3, 384, 640)\n",
      "\n",
      "0: 384x640 2 cars, 60.8ms\n",
      "Speed: 2.0ms preprocess, 60.8ms inference, 2.0ms postprocess per image at shape (1, 3, 384, 640)\n",
      "\n",
      "0: 384x640 2 cars, 71.8ms\n"
     ]
    },
    {
     "name": "stdout",
     "output_type": "stream",
     "text": [
      "[[551, 412, 607, 467, 0.7559959292411804, 'car'], [529, 360, 571, 392, 0.6273887157440186, 'car']]\n",
      "[[547, 416, 605, 473, 0.8453102707862854, 'car'], [527, 360, 572, 392, 0.6066462993621826, 'car']]\n"
     ]
    },
    {
     "name": "stderr",
     "output_type": "stream",
     "text": [
      "Speed: 2.0ms preprocess, 71.8ms inference, 1.0ms postprocess per image at shape (1, 3, 384, 640)\n",
      "\n",
      "0: 384x640 3 cars, 67.8ms\n",
      "Speed: 2.0ms preprocess, 67.8ms inference, 1.0ms postprocess per image at shape (1, 3, 384, 640)\n",
      "\n",
      "0: 384x640 3 cars, 61.8ms\n"
     ]
    },
    {
     "name": "stdout",
     "output_type": "stream",
     "text": [
      "[[541, 419, 604, 477, 0.8398109674453735, 'car'], [524, 364, 570, 393, 0.5537213683128357, 'car']]\n",
      "[[537, 424, 601, 484, 0.8410231471061707, 'car'], [522, 366, 571, 395, 0.6713810563087463, 'car']]\n"
     ]
    },
    {
     "name": "stderr",
     "output_type": "stream",
     "text": [
      "Speed: 2.0ms preprocess, 61.8ms inference, 1.0ms postprocess per image at shape (1, 3, 384, 640)\n",
      "\n",
      "0: 384x640 3 cars, 66.8ms\n",
      "Speed: 2.0ms preprocess, 66.8ms inference, 1.0ms postprocess per image at shape (1, 3, 384, 640)\n",
      "\n"
     ]
    },
    {
     "name": "stdout",
     "output_type": "stream",
     "text": [
      "[[536, 427, 601, 490, 0.8473392128944397, 'car'], [521, 367, 558, 397, 0.7304433584213257, 'car']]\n",
      "[[528, 436, 594, 503, 0.8380031585693359, 'car'], [516, 371, 554, 400, 0.7136788368225098, 'car'], [761, 295, 788, 321, 0.32669979333877563, 'car']]\n"
     ]
    },
    {
     "name": "stderr",
     "output_type": "stream",
     "text": [
      "0: 384x640 3 cars, 72.8ms\n",
      "Speed: 3.0ms preprocess, 72.8ms inference, 1.0ms postprocess per image at shape (1, 3, 384, 640)\n",
      "\n",
      "0: 384x640 4 cars, 66.8ms\n",
      "Speed: 2.0ms preprocess, 66.8ms inference, 1.0ms postprocess per image at shape (1, 3, 384, 640)\n",
      "\n"
     ]
    },
    {
     "name": "stdout",
     "output_type": "stream",
     "text": [
      "[[524, 443, 593, 511, 0.8035933375358582, 'car'], [513, 373, 553, 402, 0.7047672271728516, 'car'], [760, 294, 788, 320, 0.34224820137023926, 'car']]\n",
      "[[520, 447, 589, 517, 0.8712638020515442, 'car'], [511, 373, 550, 405, 0.7087165117263794, 'car'], [760, 294, 787, 320, 0.38922053575515747, 'car']]\n"
     ]
    },
    {
     "name": "stderr",
     "output_type": "stream",
     "text": [
      "0: 384x640 4 cars, 65.9ms\n",
      "Speed: 2.0ms preprocess, 65.9ms inference, 2.0ms postprocess per image at shape (1, 3, 384, 640)\n",
      "\n",
      "0: 384x640 3 cars, 67.8ms\n",
      "Speed: 2.0ms preprocess, 67.8ms inference, 1.0ms postprocess per image at shape (1, 3, 384, 640)\n",
      "\n",
      "0: 384x640 4 cars, 63.8ms\n"
     ]
    },
    {
     "name": "stdout",
     "output_type": "stream",
     "text": [
      "[[516, 453, 586, 524, 0.8140313029289246, 'car'], [508, 373, 549, 407, 0.7035980224609375, 'car'], [760, 294, 788, 320, 0.3684752881526947, 'car']]\n",
      "[[508, 457, 587, 534, 0.8744081854820251, 'car'], [505, 374, 547, 409, 0.6809722781181335, 'car'], [760, 293, 787, 319, 0.3705839514732361, 'car']]\n"
     ]
    },
    {
     "name": "stderr",
     "output_type": "stream",
     "text": [
      "Speed: 3.0ms preprocess, 63.8ms inference, 1.0ms postprocess per image at shape (1, 3, 384, 640)\n",
      "\n",
      "0: 384x640 4 cars, 62.8ms\n",
      "Speed: 2.0ms preprocess, 62.8ms inference, 1.0ms postprocess per image at shape (1, 3, 384, 640)\n",
      "\n"
     ]
    },
    {
     "name": "stdout",
     "output_type": "stream",
     "text": [
      "[[497, 471, 578, 550, 0.83387690782547, 'car'], [503, 376, 543, 411, 0.6739345192909241, 'car'], [759, 293, 787, 319, 0.330612450838089, 'car']]\n",
      "[[490, 478, 573, 559, 0.8165649175643921, 'car'], [499, 377, 541, 413, 0.7160297632217407, 'car'], [759, 293, 787, 319, 0.3018565773963928, 'car']]\n"
     ]
    },
    {
     "name": "stderr",
     "output_type": "stream",
     "text": [
      "0: 384x640 3 cars, 70.8ms\n",
      "Speed: 3.0ms preprocess, 70.8ms inference, 1.0ms postprocess per image at shape (1, 3, 384, 640)\n",
      "\n",
      "0: 384x640 3 cars, 62.9ms\n",
      "Speed: 2.0ms preprocess, 62.9ms inference, 1.0ms postprocess per image at shape (1, 3, 384, 640)\n",
      "\n",
      "0: 384x640 4 cars, 66.9ms\n"
     ]
    },
    {
     "name": "stdout",
     "output_type": "stream",
     "text": [
      "[[496, 379, 538, 417, 0.7440680265426636, 'car'], [485, 484, 573, 571, 0.6425025463104248, 'car']]\n",
      "[[495, 380, 536, 418, 0.7935439348220825, 'car'], [476, 491, 569, 582, 0.7005307078361511, 'car']]\n"
     ]
    },
    {
     "name": "stderr",
     "output_type": "stream",
     "text": [
      "Speed: 2.0ms preprocess, 66.9ms inference, 1.0ms postprocess per image at shape (1, 3, 384, 640)\n",
      "\n",
      "0: 384x640 4 cars, 62.8ms\n",
      "Speed: 2.0ms preprocess, 62.8ms inference, 1.0ms postprocess per image at shape (1, 3, 384, 640)\n",
      "\n",
      "0: 384x640 4 cars, 84.8ms\n"
     ]
    },
    {
     "name": "stdout",
     "output_type": "stream",
     "text": [
      "[[492, 383, 535, 420, 0.683364748954773, 'car'], [469, 499, 566, 594, 0.6718754172325134, 'car'], [586, 321, 615, 343, 0.3576764166355133, 'car']]\n",
      "[[453, 517, 556, 619, 0.6625882387161255, 'car'], [484, 393, 550, 428, 0.6053475737571716, 'car'], [586, 325, 610, 348, 0.32442060112953186, 'car']]\n"
     ]
    },
    {
     "name": "stderr",
     "output_type": "stream",
     "text": [
      "Speed: 2.0ms preprocess, 84.8ms inference, 1.0ms postprocess per image at shape (1, 3, 384, 640)\n",
      "\n",
      "0: 384x640 5 cars, 67.8ms\n",
      "Speed: 2.0ms preprocess, 67.8ms inference, 1.0ms postprocess per image at shape (1, 3, 384, 640)\n",
      "\n"
     ]
    },
    {
     "name": "stdout",
     "output_type": "stream",
     "text": [
      "[[442, 528, 552, 638, 0.6567699313163757, 'car'], [482, 393, 531, 429, 0.6224269270896912, 'car'], [584, 327, 610, 349, 0.40311017632484436, 'car']]\n",
      "[[433, 536, 547, 653, 0.7690575122833252, 'car'], [478, 393, 546, 433, 0.6912564039230347, 'car'], [583, 327, 609, 349, 0.44878268241882324, 'car'], [757, 287, 785, 316, 0.31394198536872864, 'car']]\n"
     ]
    },
    {
     "name": "stderr",
     "output_type": "stream",
     "text": [
      "0: 384x640 5 cars, 75.8ms\n",
      "Speed: 2.0ms preprocess, 75.8ms inference, 1.0ms postprocess per image at shape (1, 3, 384, 640)\n",
      "\n",
      "0: 384x640 4 cars, 68.8ms\n",
      "Speed: 3.0ms preprocess, 68.8ms inference, 1.0ms postprocess per image at shape (1, 3, 384, 640)\n",
      "\n"
     ]
    },
    {
     "name": "stdout",
     "output_type": "stream",
     "text": [
      "[[420, 547, 540, 671, 0.7324374914169312, 'car'], [475, 394, 523, 434, 0.7160214781761169, 'car'], [583, 327, 610, 350, 0.515640914440155, 'car'], [757, 288, 784, 316, 0.3339124321937561, 'car']]\n",
      "[[406, 561, 536, 692, 0.7338829636573792, 'car'], [470, 398, 522, 437, 0.7310927510261536, 'car'], [582, 328, 609, 351, 0.44435611367225647, 'car']]\n"
     ]
    },
    {
     "name": "stderr",
     "output_type": "stream",
     "text": [
      "0: 384x640 4 cars, 70.8ms\n",
      "Speed: 3.0ms preprocess, 70.8ms inference, 1.0ms postprocess per image at shape (1, 3, 384, 640)\n",
      "\n",
      "0: 384x640 3 cars, 70.8ms\n",
      "Speed: 3.0ms preprocess, 70.8ms inference, 1.0ms postprocess per image at shape (1, 3, 384, 640)\n",
      "\n"
     ]
    },
    {
     "name": "stdout",
     "output_type": "stream",
     "text": [
      "[[464, 400, 521, 444, 0.7523576617240906, 'car'], [379, 588, 522, 742, 0.7083920836448669, 'car'], [581, 329, 609, 353, 0.44064196944236755, 'car']]\n",
      "[[360, 603, 513, 764, 0.8176188468933105, 'car'], [459, 402, 511, 448, 0.5569913387298584, 'car'], [579, 329, 607, 351, 0.4152703881263733, 'car']]\n"
     ]
    },
    {
     "name": "stderr",
     "output_type": "stream",
     "text": [
      "0: 384x640 3 cars, 74.8ms\n",
      "Speed: 2.0ms preprocess, 74.8ms inference, 1.0ms postprocess per image at shape (1, 3, 384, 640)\n",
      "\n",
      "0: 384x640 3 cars, 75.8ms\n",
      "Speed: 2.0ms preprocess, 75.8ms inference, 1.0ms postprocess per image at shape (1, 3, 384, 640)\n",
      "\n"
     ]
    },
    {
     "name": "stdout",
     "output_type": "stream",
     "text": [
      "[[343, 624, 506, 765, 0.7344010472297668, 'car'], [456, 406, 507, 450, 0.49870577454566956, 'car'], [577, 330, 607, 353, 0.48406291007995605, 'car']]\n",
      "[[329, 641, 498, 764, 0.7196665406227112, 'car'], [453, 408, 504, 453, 0.6349416971206665, 'car'], [574, 332, 609, 355, 0.5390661954879761, 'car']]\n"
     ]
    },
    {
     "name": "stderr",
     "output_type": "stream",
     "text": [
      "0: 384x640 3 cars, 71.8ms\n",
      "Speed: 2.0ms preprocess, 71.8ms inference, 1.0ms postprocess per image at shape (1, 3, 384, 640)\n",
      "\n",
      "0: 384x640 2 cars, 73.8ms\n",
      "Speed: 2.0ms preprocess, 73.8ms inference, 1.0ms postprocess per image at shape (1, 3, 384, 640)\n",
      "\n",
      "0: 384x640 2 cars, 64.9ms\n"
     ]
    },
    {
     "name": "stdout",
     "output_type": "stream",
     "text": [
      "[[449, 412, 503, 457, 0.6891904473304749, 'car'], [570, 332, 610, 356, 0.6135851144790649, 'car'], [323, 661, 485, 765, 0.4510573744773865, 'car']]\n",
      "[[565, 335, 609, 358, 0.6125752329826355, 'car'], [440, 417, 494, 465, 0.5575379729270935, 'car']]\n"
     ]
    },
    {
     "name": "stderr",
     "output_type": "stream",
     "text": [
      "Speed: 2.0ms preprocess, 64.9ms inference, 1.0ms postprocess per image at shape (1, 3, 384, 640)\n",
      "\n",
      "0: 384x640 2 cars, 64.8ms\n",
      "Speed: 2.0ms preprocess, 64.8ms inference, 1.0ms postprocess per image at shape (1, 3, 384, 640)\n",
      "\n",
      "0: 384x640 2 cars, 73.8ms\n"
     ]
    },
    {
     "name": "stdout",
     "output_type": "stream",
     "text": [
      "[[564, 334, 607, 358, 0.5771312117576599, 'car'], [435, 418, 492, 470, 0.49275511503219604, 'car']]\n",
      "[[430, 422, 487, 473, 0.6717892289161682, 'car'], [562, 336, 607, 359, 0.4784567356109619, 'car']]\n"
     ]
    },
    {
     "name": "stderr",
     "output_type": "stream",
     "text": [
      "Speed: 3.0ms preprocess, 73.8ms inference, 1.0ms postprocess per image at shape (1, 3, 384, 640)\n",
      "\n",
      "0: 384x640 2 cars, 66.8ms\n",
      "Speed: 4.0ms preprocess, 66.8ms inference, 1.0ms postprocess per image at shape (1, 3, 384, 640)\n",
      "\n",
      "0: 384x640 3 cars, 71.8ms\n"
     ]
    },
    {
     "name": "stdout",
     "output_type": "stream",
     "text": [
      "[[426, 425, 484, 476, 0.5801345109939575, 'car'], [562, 338, 610, 360, 0.4463667571544647, 'car']]\n",
      "[[420, 429, 480, 481, 0.5664567947387695, 'car'], [560, 338, 609, 360, 0.45385757088661194, 'car']]\n"
     ]
    },
    {
     "name": "stderr",
     "output_type": "stream",
     "text": [
      "Speed: 3.0ms preprocess, 71.8ms inference, 1.0ms postprocess per image at shape (1, 3, 384, 640)\n",
      "\n",
      "0: 384x640 3 cars, 74.8ms\n",
      "Speed: 2.0ms preprocess, 74.8ms inference, 1.0ms postprocess per image at shape (1, 3, 384, 640)\n",
      "\n",
      "0: 384x640 2 cars, 66.9ms\n"
     ]
    },
    {
     "name": "stdout",
     "output_type": "stream",
     "text": [
      "[[409, 434, 474, 490, 0.7022168040275574, 'car'], [560, 340, 596, 364, 0.5279741883277893, 'car']]\n",
      "[[560, 341, 594, 364, 0.5546779036521912, 'car'], [402, 437, 471, 496, 0.47885555028915405, 'car']]\n"
     ]
    },
    {
     "name": "stderr",
     "output_type": "stream",
     "text": [
      "Speed: 2.0ms preprocess, 66.9ms inference, 1.0ms postprocess per image at shape (1, 3, 384, 640)\n",
      "\n",
      "0: 384x640 2 cars, 64.8ms\n",
      "Speed: 2.0ms preprocess, 64.8ms inference, 1.0ms postprocess per image at shape (1, 3, 384, 640)\n",
      "\n",
      "0: 384x640 2 cars, 66.8ms\n"
     ]
    },
    {
     "name": "stdout",
     "output_type": "stream",
     "text": [
      "[[559, 341, 593, 365, 0.6282241344451904, 'car'], [398, 441, 469, 500, 0.34026652574539185, 'car']]\n",
      "[[556, 343, 590, 366, 0.6207495927810669, 'car'], [389, 446, 462, 506, 0.5576608180999756, 'car']]\n"
     ]
    },
    {
     "name": "stderr",
     "output_type": "stream",
     "text": [
      "Speed: 3.0ms preprocess, 66.8ms inference, 1.0ms postprocess per image at shape (1, 3, 384, 640)\n",
      "\n",
      "0: 384x640 2 cars, 57.8ms\n",
      "Speed: 2.0ms preprocess, 57.8ms inference, 1.0ms postprocess per image at shape (1, 3, 384, 640)\n",
      "\n",
      "0: 384x640 2 cars, 65.9ms\n"
     ]
    },
    {
     "name": "stdout",
     "output_type": "stream",
     "text": [
      "[[556, 342, 590, 368, 0.6790407299995422, 'car'], [381, 448, 456, 510, 0.6559111475944519, 'car']]\n",
      "[[552, 343, 587, 372, 0.6734187602996826, 'car'], [369, 457, 448, 524, 0.6470794081687927, 'car']]\n"
     ]
    },
    {
     "name": "stderr",
     "output_type": "stream",
     "text": [
      "Speed: 6.0ms preprocess, 65.9ms inference, 1.0ms postprocess per image at shape (1, 3, 384, 640)\n",
      "\n",
      "0: 384x640 2 cars, 64.9ms\n",
      "Speed: 2.0ms preprocess, 64.9ms inference, 1.0ms postprocess per image at shape (1, 3, 384, 640)\n",
      "\n",
      "0: 384x640 2 cars, 1 truck, 60.8ms\n"
     ]
    },
    {
     "name": "stdout",
     "output_type": "stream",
     "text": [
      "[[362, 459, 442, 530, 0.7594295740127563, 'car'], [550, 343, 585, 373, 0.6411455273628235, 'car']]\n",
      "[[549, 343, 585, 373, 0.6372369527816772, 'car'], [355, 468, 436, 532, 0.6212356090545654, 'car']]\n"
     ]
    },
    {
     "name": "stderr",
     "output_type": "stream",
     "text": [
      "Speed: 2.0ms preprocess, 60.8ms inference, 1.0ms postprocess per image at shape (1, 3, 384, 640)\n",
      "\n",
      "0: 384x640 2 cars, 73.8ms\n",
      "Speed: 2.0ms preprocess, 73.8ms inference, 1.0ms postprocess per image at shape (1, 3, 384, 640)\n",
      "\n",
      "0: 384x640 2 cars, 64.9ms\n"
     ]
    },
    {
     "name": "stdout",
     "output_type": "stream",
     "text": [
      "[[546, 344, 583, 375, 0.6704748868942261, 'car'], [348, 471, 430, 542, 0.5734732747077942, 'car']]\n",
      "[[545, 344, 583, 376, 0.6676365733146667, 'car'], [338, 475, 426, 550, 0.5759186148643494, 'car']]\n"
     ]
    },
    {
     "name": "stderr",
     "output_type": "stream",
     "text": [
      "Speed: 7.9ms preprocess, 64.9ms inference, 1.0ms postprocess per image at shape (1, 3, 384, 640)\n",
      "\n",
      "0: 384x640 2 cars, 58.8ms\n",
      "Speed: 2.0ms preprocess, 58.8ms inference, 1.0ms postprocess per image at shape (1, 3, 384, 640)\n",
      "\n",
      "0: 384x640 4 cars, 64.8ms\n"
     ]
    },
    {
     "name": "stdout",
     "output_type": "stream",
     "text": [
      "[[320, 491, 413, 570, 0.6730182766914368, 'car'], [541, 348, 580, 379, 0.6180775761604309, 'car']]\n",
      "[[310, 495, 407, 582, 0.7394479513168335, 'car'], [539, 349, 577, 381, 0.6001736521720886, 'car']]\n"
     ]
    },
    {
     "name": "stderr",
     "output_type": "stream",
     "text": [
      "Speed: 4.0ms preprocess, 64.8ms inference, 1.0ms postprocess per image at shape (1, 3, 384, 640)\n",
      "\n",
      "0: 384x640 4 cars, 63.8ms\n",
      "Speed: 2.0ms preprocess, 63.8ms inference, 2.0ms postprocess per image at shape (1, 3, 384, 640)\n",
      "\n"
     ]
    },
    {
     "name": "stdout",
     "output_type": "stream",
     "text": [
      "[[298, 502, 399, 588, 0.668301522731781, 'car'], [537, 350, 575, 382, 0.5584525465965271, 'car'], [1102, 716, 1284, 764, 0.4332369267940521, 'car']]\n",
      "[[1081, 693, 1269, 764, 0.7885644435882568, 'car'], [288, 511, 392, 597, 0.6994909644126892, 'car'], [536, 353, 573, 384, 0.6292903423309326, 'car']]\n"
     ]
    },
    {
     "name": "stderr",
     "output_type": "stream",
     "text": [
      "0: 384x640 4 cars, 67.8ms\n",
      "Speed: 1.0ms preprocess, 67.8ms inference, 1.0ms postprocess per image at shape (1, 3, 384, 640)\n",
      "\n",
      "0: 384x640 4 cars, 66.8ms\n",
      "Speed: 3.0ms preprocess, 66.8ms inference, 1.0ms postprocess per image at shape (1, 3, 384, 640)\n",
      "\n",
      "0: 384x640 4 cars, 64.8ms\n"
     ]
    },
    {
     "name": "stdout",
     "output_type": "stream",
     "text": [
      "[[1061, 670, 1272, 764, 0.7618597745895386, 'car'], [276, 518, 382, 605, 0.6005246043205261, 'car'], [534, 356, 571, 386, 0.5571127533912659, 'car']]\n",
      "[[1028, 630, 1193, 745, 0.8499172925949097, 'car'], [250, 531, 366, 629, 0.7042160034179688, 'car'], [530, 359, 569, 389, 0.6605085730552673, 'car']]\n"
     ]
    },
    {
     "name": "stderr",
     "output_type": "stream",
     "text": [
      "Speed: 3.0ms preprocess, 64.8ms inference, 1.0ms postprocess per image at shape (1, 3, 384, 640)\n",
      "\n",
      "0: 384x640 3 cars, 70.8ms\n",
      "Speed: 1.0ms preprocess, 70.8ms inference, 1.0ms postprocess per image at shape (1, 3, 384, 640)\n",
      "\n"
     ]
    },
    {
     "name": "stdout",
     "output_type": "stream",
     "text": [
      "[[1012, 613, 1167, 718, 0.821583092212677, 'car'], [234, 541, 357, 648, 0.7366548180580139, 'car'], [529, 360, 570, 392, 0.6170623898506165, 'car']]\n",
      "[[997, 595, 1145, 700, 0.7947533130645752, 'car'], [219, 552, 347, 658, 0.6550540924072266, 'car'], [527, 359, 573, 394, 0.47391700744628906, 'car']]\n"
     ]
    },
    {
     "name": "stderr",
     "output_type": "stream",
     "text": [
      "0: 384x640 3 cars, 69.8ms\n",
      "Speed: 2.0ms preprocess, 69.8ms inference, 1.0ms postprocess per image at shape (1, 3, 384, 640)\n",
      "\n",
      "0: 384x640 4 cars, 63.8ms\n",
      "Speed: 2.0ms preprocess, 63.8ms inference, 1.0ms postprocess per image at shape (1, 3, 384, 640)\n",
      "\n",
      "0: 384x640 3 cars, 65.9ms\n"
     ]
    },
    {
     "name": "stdout",
     "output_type": "stream",
     "text": [
      "[[984, 582, 1124, 677, 0.8045212626457214, 'car'], [202, 561, 337, 673, 0.7431492805480957, 'car'], [524, 366, 570, 395, 0.46632829308509827, 'car']]\n",
      "[[974, 569, 1105, 654, 0.7402011156082153, 'car'], [185, 573, 325, 689, 0.7244270443916321, 'car'], [522, 367, 561, 397, 0.4186689257621765, 'car']]\n"
     ]
    },
    {
     "name": "stderr",
     "output_type": "stream",
     "text": [
      "Speed: 2.0ms preprocess, 65.9ms inference, 0.0ms postprocess per image at shape (1, 3, 384, 640)\n",
      "\n",
      "0: 384x640 3 cars, 66.8ms\n",
      "Speed: 2.0ms preprocess, 66.8ms inference, 1.0ms postprocess per image at shape (1, 3, 384, 640)\n",
      "\n"
     ]
    },
    {
     "name": "stdout",
     "output_type": "stream",
     "text": [
      "[[144, 595, 300, 728, 0.8131871223449707, 'car'], [954, 546, 1070, 625, 0.6948789358139038, 'car'], [515, 370, 554, 400, 0.5722222328186035, 'car']]\n",
      "[[121, 610, 286, 755, 0.7992879748344421, 'car'], [944, 536, 1060, 617, 0.715674102306366, 'car'], [512, 372, 553, 403, 0.48772484064102173, 'car']]\n"
     ]
    },
    {
     "name": "stderr",
     "output_type": "stream",
     "text": [
      "0: 384x640 4 cars, 70.8ms\n",
      "Speed: 2.0ms preprocess, 70.8ms inference, 1.0ms postprocess per image at shape (1, 3, 384, 640)\n",
      "\n",
      "0: 384x640 3 cars, 54.9ms\n",
      "Speed: 2.0ms preprocess, 54.9ms inference, 1.0ms postprocess per image at shape (1, 3, 384, 640)\n",
      "\n",
      "0: 384x640 3 cars, 67.8ms\n"
     ]
    },
    {
     "name": "stdout",
     "output_type": "stream",
     "text": [
      "[[95, 617, 273, 763, 0.6816049218177795, 'car'], [937, 525, 1042, 597, 0.6259248852729797, 'car'], [511, 372, 551, 406, 0.6114662885665894, 'car']]\n",
      "[[509, 373, 548, 406, 0.5594875812530518, 'car'], [933, 519, 1030, 581, 0.5208438634872437, 'car'], [69, 638, 261, 763, 0.5040827989578247, 'car']]\n"
     ]
    },
    {
     "name": "stderr",
     "output_type": "stream",
     "text": [
      "Speed: 3.0ms preprocess, 67.8ms inference, 1.0ms postprocess per image at shape (1, 3, 384, 640)\n",
      "\n",
      "0: 384x640 3 cars, 52.9ms\n",
      "Speed: 3.0ms preprocess, 52.9ms inference, 1.0ms postprocess per image at shape (1, 3, 384, 640)\n",
      "\n"
     ]
    },
    {
     "name": "stdout",
     "output_type": "stream",
     "text": [
      "[[919, 507, 1020, 578, 0.6439325213432312, 'car'], [506, 374, 546, 409, 0.5547104477882385, 'car'], [12, 656, 294, 763, 0.4973011910915375, 'car']]\n",
      "[[905, 491, 989, 551, 0.6530751585960388, 'car'], [502, 377, 542, 413, 0.6094969511032104, 'car'], [5, 693, 197, 764, 0.49754589796066284, 'car']]\n"
     ]
    },
    {
     "name": "stderr",
     "output_type": "stream",
     "text": [
      "0: 384x640 3 cars, 72.8ms\n",
      "Speed: 3.0ms preprocess, 72.8ms inference, 1.0ms postprocess per image at shape (1, 3, 384, 640)\n",
      "\n",
      "0: 384x640 2 cars, 50.9ms\n",
      "Speed: 2.0ms preprocess, 50.9ms inference, 1.0ms postprocess per image at shape (1, 3, 384, 640)\n",
      "\n",
      "0: 384x640 2 cars, 65.9ms\n",
      "Speed: 2.0ms preprocess, 65.9ms inference, 1.0ms postprocess per image at shape (1, 3, 384, 640)\n",
      "\n"
     ]
    },
    {
     "name": "stdout",
     "output_type": "stream",
     "text": [
      "[[497, 378, 538, 416, 0.751173198223114, 'car'], [898, 486, 987, 545, 0.6618884801864624, 'car']]\n",
      "[[495, 377, 537, 419, 0.7576393485069275, 'car'], [896, 480, 983, 540, 0.6519457101821899, 'car']]\n",
      "[[493, 380, 537, 422, 0.7743417024612427, 'car'], [886, 472, 970, 530, 0.7483516931533813, 'car']]\n"
     ]
    },
    {
     "name": "stderr",
     "output_type": "stream",
     "text": [
      "0: 384x640 3 cars, 65.8ms\n",
      "Speed: 2.0ms preprocess, 65.8ms inference, 2.0ms postprocess per image at shape (1, 3, 384, 640)\n",
      "\n",
      "0: 384x640 4 cars, 63.8ms\n",
      "Speed: 2.0ms preprocess, 63.8ms inference, 1.0ms postprocess per image at shape (1, 3, 384, 640)\n",
      "\n",
      "0: 384x640 3 cars, 65.8ms\n"
     ]
    },
    {
     "name": "stdout",
     "output_type": "stream",
     "text": [
      "[[882, 466, 959, 515, 0.6611281633377075, 'car'], [489, 382, 536, 424, 0.6556347608566284, 'car']]\n",
      "[[873, 457, 952, 509, 0.6798518896102905, 'car'], [482, 391, 544, 430, 0.5270293951034546, 'car']]\n"
     ]
    },
    {
     "name": "stderr",
     "output_type": "stream",
     "text": [
      "Speed: 2.0ms preprocess, 65.8ms inference, 1.0ms postprocess per image at shape (1, 3, 384, 640)\n",
      "\n",
      "0: 384x640 3 cars, 64.8ms\n",
      "Speed: 2.0ms preprocess, 64.8ms inference, 1.0ms postprocess per image at shape (1, 3, 384, 640)\n",
      "\n",
      "0: 384x640 4 cars, 63.8ms\n"
     ]
    },
    {
     "name": "stdout",
     "output_type": "stream",
     "text": [
      "[[477, 393, 526, 433, 0.5803840160369873, 'car'], [870, 452, 945, 503, 0.43067702651023865, 'car']]\n",
      "[[476, 394, 521, 435, 0.6155052781105042, 'car'], [865, 446, 934, 494, 0.6088826656341553, 'car']]\n"
     ]
    },
    {
     "name": "stderr",
     "output_type": "stream",
     "text": [
      "Speed: 2.0ms preprocess, 63.8ms inference, 1.0ms postprocess per image at shape (1, 3, 384, 640)\n",
      "\n",
      "0: 384x640 5 cars, 65.8ms\n",
      "Speed: 2.0ms preprocess, 65.8ms inference, 1.0ms postprocess per image at shape (1, 3, 384, 640)\n",
      "\n"
     ]
    },
    {
     "name": "stdout",
     "output_type": "stream",
     "text": [
      "[[471, 396, 523, 438, 0.5455841422080994, 'car'], [861, 440, 934, 491, 0.5406026244163513, 'car'], [623, 298, 648, 327, 0.30411651730537415, 'car']]\n",
      "[[469, 398, 523, 443, 0.7209331393241882, 'car'], [859, 435, 919, 480, 0.4453325569629669, 'car'], [622, 299, 649, 327, 0.3164594769477844, 'car']]\n"
     ]
    },
    {
     "name": "stderr",
     "output_type": "stream",
     "text": [
      "0: 384x640 4 cars, 69.8ms\n",
      "Speed: 2.0ms preprocess, 69.8ms inference, 1.0ms postprocess per image at shape (1, 3, 384, 640)\n",
      "\n",
      "0: 384x640 4 cars, 64.9ms\n",
      "Speed: 2.0ms preprocess, 64.9ms inference, 1.0ms postprocess per image at shape (1, 3, 384, 640)\n",
      "\n"
     ]
    },
    {
     "name": "stdout",
     "output_type": "stream",
     "text": [
      "[[853, 429, 914, 471, 0.6542566418647766, 'car'], [459, 401, 511, 449, 0.5921095013618469, 'car'], [621, 300, 649, 328, 0.362438827753067, 'car']]\n",
      "[[847, 425, 907, 467, 0.6956310868263245, 'car'], [455, 406, 505, 454, 0.4848167598247528, 'car'], [620, 299, 647, 328, 0.3663206398487091, 'car']]\n"
     ]
    },
    {
     "name": "stderr",
     "output_type": "stream",
     "text": [
      "0: 384x640 3 cars, 66.9ms\n",
      "Speed: 2.0ms preprocess, 66.9ms inference, 1.0ms postprocess per image at shape (1, 3, 384, 640)\n",
      "\n",
      "0: 384x640 3 cars, 64.8ms\n",
      "Speed: 2.0ms preprocess, 64.8ms inference, 1.0ms postprocess per image at shape (1, 3, 384, 640)\n",
      "\n"
     ]
    },
    {
     "name": "stdout",
     "output_type": "stream",
     "text": [
      "[[451, 408, 505, 457, 0.6800023913383484, 'car'], [845, 420, 910, 463, 0.6048377752304077, 'car'], [619, 300, 647, 329, 0.40217795968055725, 'car']]\n",
      "[[444, 412, 503, 461, 0.555657148361206, 'car'], [842, 418, 920, 462, 0.4554428160190582, 'car'], [618, 300, 647, 329, 0.42322733998298645, 'car']]\n"
     ]
    },
    {
     "name": "stderr",
     "output_type": "stream",
     "text": [
      "0: 384x640 3 cars, 92.8ms\n",
      "Speed: 2.0ms preprocess, 92.8ms inference, 1.0ms postprocess per image at shape (1, 3, 384, 640)\n",
      "\n",
      "0: 384x640 3 cars, 68.8ms\n",
      "Speed: 2.0ms preprocess, 68.8ms inference, 1.0ms postprocess per image at shape (1, 3, 384, 640)\n",
      "\n"
     ]
    },
    {
     "name": "stdout",
     "output_type": "stream",
     "text": [
      "[[440, 417, 497, 464, 0.5608792901039124, 'car'], [838, 416, 913, 458, 0.5576223731040955, 'car'], [616, 301, 647, 330, 0.4691488742828369, 'car']]\n",
      "[[431, 421, 487, 473, 0.6909214854240417, 'car'], [615, 303, 643, 330, 0.5786227583885193, 'car'], [831, 407, 906, 450, 0.48973017930984497, 'car']]\n"
     ]
    },
    {
     "name": "stderr",
     "output_type": "stream",
     "text": [
      "0: 384x640 2 cars, 64.9ms\n",
      "Speed: 2.0ms preprocess, 64.9ms inference, 1.0ms postprocess per image at shape (1, 3, 384, 640)\n",
      "\n",
      "0: 384x640 3 cars, 61.8ms\n",
      "Speed: 2.0ms preprocess, 61.8ms inference, 0.0ms postprocess per image at shape (1, 3, 384, 640)\n",
      "\n",
      "0: 384x640 4 cars, 65.8ms\n"
     ]
    },
    {
     "name": "stdout",
     "output_type": "stream",
     "text": [
      "[[615, 304, 643, 330, 0.5755375027656555, 'car'], [426, 422, 488, 477, 0.532334566116333, 'car']]\n",
      "[[420, 427, 482, 482, 0.6718786358833313, 'car'], [614, 305, 642, 331, 0.5343656539916992, 'car'], [828, 400, 902, 443, 0.44218915700912476, 'car']]\n"
     ]
    },
    {
     "name": "stderr",
     "output_type": "stream",
     "text": [
      "Speed: 2.0ms preprocess, 65.8ms inference, 1.0ms postprocess per image at shape (1, 3, 384, 640)\n",
      "\n",
      "0: 384x640 4 cars, 63.8ms\n",
      "Speed: 2.0ms preprocess, 63.8ms inference, 1.0ms postprocess per image at shape (1, 3, 384, 640)\n",
      "\n"
     ]
    },
    {
     "name": "stdout",
     "output_type": "stream",
     "text": [
      "[[828, 399, 883, 435, 0.6363714933395386, 'car'], [413, 432, 479, 489, 0.5920582413673401, 'car'], [614, 305, 641, 332, 0.5612366199493408, 'car']]\n",
      "[[824, 397, 874, 431, 0.6152334809303284, 'car'], [407, 435, 474, 492, 0.5989449620246887, 'car'], [613, 306, 641, 333, 0.5844674110412598, 'car']]\n"
     ]
    },
    {
     "name": "stderr",
     "output_type": "stream",
     "text": [
      "0: 384x640 3 cars, 67.9ms\n",
      "Speed: 2.0ms preprocess, 67.9ms inference, 1.0ms postprocess per image at shape (1, 3, 384, 640)\n",
      "\n",
      "0: 384x640 3 cars, 66.9ms\n",
      "Speed: 2.0ms preprocess, 66.9ms inference, 1.0ms postprocess per image at shape (1, 3, 384, 640)\n",
      "\n"
     ]
    },
    {
     "name": "stdout",
     "output_type": "stream",
     "text": [
      "[[611, 307, 639, 334, 0.49857357144355774, 'car'], [394, 442, 464, 504, 0.48899537324905396, 'car'], [821, 392, 875, 425, 0.4498736560344696, 'car']]\n",
      "[[386, 446, 461, 509, 0.5903669595718384, 'car'], [609, 307, 639, 334, 0.5427329540252686, 'car'], [820, 388, 873, 423, 0.4229959547519684, 'car']]\n"
     ]
    },
    {
     "name": "stderr",
     "output_type": "stream",
     "text": [
      "0: 384x640 3 cars, 68.8ms\n",
      "Speed: 2.0ms preprocess, 68.8ms inference, 1.0ms postprocess per image at shape (1, 3, 384, 640)\n",
      "\n",
      "0: 384x640 3 cars, 70.8ms\n",
      "Speed: 2.0ms preprocess, 70.8ms inference, 1.0ms postprocess per image at shape (1, 3, 384, 640)\n",
      "\n"
     ]
    },
    {
     "name": "stdout",
     "output_type": "stream",
     "text": [
      "[[377, 450, 455, 517, 0.6359512805938721, 'car'], [607, 308, 639, 336, 0.554777979850769, 'car'], [815, 385, 877, 421, 0.4289812445640564, 'car']]\n",
      "[[373, 456, 447, 523, 0.6195489168167114, 'car'], [607, 310, 637, 337, 0.5217142701148987, 'car'], [813, 384, 869, 418, 0.4541403353214264, 'car']]\n"
     ]
    },
    {
     "name": "stderr",
     "output_type": "stream",
     "text": [
      "0: 384x640 3 cars, 66.8ms\n",
      "Speed: 2.0ms preprocess, 66.8ms inference, 1.0ms postprocess per image at shape (1, 3, 384, 640)\n",
      "\n",
      "0: 384x640 3 cars, 64.8ms\n",
      "Speed: 2.0ms preprocess, 64.8ms inference, 1.0ms postprocess per image at shape (1, 3, 384, 640)\n",
      "\n",
      "0: 384x640 3 cars, 57.8ms\n"
     ]
    },
    {
     "name": "stdout",
     "output_type": "stream",
     "text": [
      "[[364, 459, 445, 531, 0.790751039981842, 'car'], [810, 383, 867, 415, 0.5592071413993835, 'car'], [606, 312, 635, 337, 0.5308520793914795, 'car']]\n",
      "[[347, 470, 434, 547, 0.6996724009513855, 'car'], [808, 373, 860, 408, 0.6137057542800903, 'car'], [606, 309, 635, 336, 0.4519001543521881, 'car']]\n"
     ]
    },
    {
     "name": "stderr",
     "output_type": "stream",
     "text": [
      "Speed: 3.0ms preprocess, 57.8ms inference, 1.0ms postprocess per image at shape (1, 3, 384, 640)\n",
      "\n",
      "0: 384x640 4 cars, 68.8ms\n",
      "Speed: 2.0ms preprocess, 68.8ms inference, 1.0ms postprocess per image at shape (1, 3, 384, 640)\n",
      "\n"
     ]
    },
    {
     "name": "stdout",
     "output_type": "stream",
     "text": [
      "[[337, 475, 427, 555, 0.7107099294662476, 'car'], [806, 372, 859, 406, 0.6410098671913147, 'car'], [603, 311, 634, 337, 0.4754737317562103, 'car']]\n",
      "[[326, 484, 420, 567, 0.7734349370002747, 'car'], [804, 370, 860, 405, 0.5833806991577148, 'car'], [601, 312, 634, 338, 0.47222277522087097, 'car']]\n"
     ]
    },
    {
     "name": "stderr",
     "output_type": "stream",
     "text": [
      "0: 384x640 5 cars, 65.8ms\n",
      "Speed: 3.0ms preprocess, 65.8ms inference, 1.0ms postprocess per image at shape (1, 3, 384, 640)\n",
      "\n",
      "0: 384x640 4 cars, 63.8ms\n",
      "Speed: 4.0ms preprocess, 63.8ms inference, 1.0ms postprocess per image at shape (1, 3, 384, 640)\n",
      "\n"
     ]
    },
    {
     "name": "stdout",
     "output_type": "stream",
     "text": [
      "[[316, 488, 413, 576, 0.7996408343315125, 'car'], [804, 367, 850, 399, 0.6485742926597595, 'car'], [602, 312, 634, 337, 0.3697347939014435, 'car']]\n",
      "[[305, 492, 407, 587, 0.8049623966217041, 'car'], [803, 366, 846, 398, 0.6943813562393188, 'car'], [594, 322, 631, 344, 0.52736896276474, 'car']]\n"
     ]
    },
    {
     "name": "stderr",
     "output_type": "stream",
     "text": [
      "0: 384x640 5 cars, 70.8ms\n",
      "Speed: 3.0ms preprocess, 70.8ms inference, 1.0ms postprocess per image at shape (1, 3, 384, 640)\n",
      "\n",
      "0: 384x640 6 cars, 64.8ms\n",
      "Speed: 2.0ms preprocess, 64.8ms inference, 1.0ms postprocess per image at shape (1, 3, 384, 640)\n",
      "\n",
      "0: 384x640 5 cars, 65.9ms\n"
     ]
    },
    {
     "name": "stdout",
     "output_type": "stream",
     "text": [
      "[[282, 510, 391, 608, 0.7276049852371216, 'car'], [800, 366, 842, 394, 0.6611848473548889, 'car'], [592, 329, 627, 347, 0.506350576877594, 'car']]\n",
      "[[267, 517, 381, 618, 0.7243810296058655, 'car'], [591, 328, 628, 349, 0.5948120951652527, 'car'], [799, 365, 840, 392, 0.5015138983726501, 'car'], [603, 311, 632, 338, 0.32153698801994324, 'car']]\n"
     ]
    },
    {
     "name": "stderr",
     "output_type": "stream",
     "text": [
      "Speed: 4.0ms preprocess, 65.9ms inference, 1.0ms postprocess per image at shape (1, 3, 384, 640)\n",
      "\n",
      "0: 384x640 4 cars, 75.8ms\n",
      "Speed: 2.0ms preprocess, 75.8ms inference, 1.0ms postprocess per image at shape (1, 3, 384, 640)\n",
      "\n"
     ]
    },
    {
     "name": "stdout",
     "output_type": "stream",
     "text": [
      "[[254, 524, 371, 633, 0.7492566108703613, 'car'], [796, 363, 837, 389, 0.6627040505409241, 'car'], [590, 329, 627, 349, 0.6005695462226868, 'car'], [605, 310, 632, 333, 0.33377304673194885, 'car']]\n",
      "[[238, 533, 362, 648, 0.7877517342567444, 'car'], [794, 361, 835, 389, 0.7052042484283447, 'car'], [588, 330, 623, 350, 0.6199017763137817, 'car']]\n"
     ]
    },
    {
     "name": "stderr",
     "output_type": "stream",
     "text": [
      "0: 384x640 3 cars, 66.9ms\n",
      "Speed: 2.0ms preprocess, 66.9ms inference, 1.0ms postprocess per image at shape (1, 3, 384, 640)\n",
      "\n",
      "0: 384x640 4 cars, 66.9ms\n",
      "Speed: 2.0ms preprocess, 66.9ms inference, 1.0ms postprocess per image at shape (1, 3, 384, 640)\n",
      "\n",
      "0: 384x640 4 cars, 67.8ms\n"
     ]
    },
    {
     "name": "stdout",
     "output_type": "stream",
     "text": [
      "[[220, 543, 351, 659, 0.8334457278251648, 'car'], [792, 359, 834, 387, 0.725119411945343, 'car'], [588, 329, 623, 351, 0.5826643109321594, 'car']]\n",
      "[[183, 562, 327, 691, 0.7896578311920166, 'car'], [791, 358, 832, 383, 0.6218637824058533, 'car'], [586, 333, 622, 352, 0.469789057970047, 'car'], [606, 310, 630, 330, 0.33835193514823914, 'car']]\n"
     ]
    },
    {
     "name": "stderr",
     "output_type": "stream",
     "text": [
      "Speed: 2.0ms preprocess, 67.8ms inference, 1.0ms postprocess per image at shape (1, 3, 384, 640)\n",
      "\n",
      "0: 384x640 4 cars, 64.8ms\n",
      "Speed: 2.0ms preprocess, 64.8ms inference, 1.0ms postprocess per image at shape (1, 3, 384, 640)\n",
      "\n",
      "0: 384x640 4 cars, 59.8ms\n"
     ]
    },
    {
     "name": "stdout",
     "output_type": "stream",
     "text": [
      "[[161, 577, 316, 716, 0.7784163355827332, 'car'], [791, 356, 830, 382, 0.6412218809127808, 'car'], [585, 334, 621, 354, 0.4771136939525604, 'car'], [606, 311, 631, 330, 0.32679834961891174, 'car']]\n",
      "[[139, 589, 301, 734, 0.8241452574729919, 'car'], [790, 355, 830, 381, 0.6060501337051392, 'car'], [584, 336, 620, 354, 0.50979083776474, 'car']]\n"
     ]
    },
    {
     "name": "stderr",
     "output_type": "stream",
     "text": [
      "Speed: 2.0ms preprocess, 59.8ms inference, 1.0ms postprocess per image at shape (1, 3, 384, 640)\n",
      "\n",
      "0: 384x640 4 cars, 60.8ms\n",
      "Speed: 2.0ms preprocess, 60.8ms inference, 1.0ms postprocess per image at shape (1, 3, 384, 640)\n",
      "\n"
     ]
    },
    {
     "name": "stdout",
     "output_type": "stream",
     "text": [
      "[[112, 602, 284, 762, 0.8090493679046631, 'car'], [583, 336, 619, 357, 0.5675356984138489, 'car'], [788, 352, 824, 379, 0.5608289837837219, 'car']]\n",
      "[[86, 611, 267, 765, 0.8292126059532166, 'car'], [582, 337, 619, 358, 0.6242160201072693, 'car'], [787, 351, 824, 376, 0.6072174906730652, 'car'], [600, 309, 628, 332, 0.36748629808425903, 'car']]\n"
     ]
    },
    {
     "name": "stderr",
     "output_type": "stream",
     "text": [
      "0: 384x640 4 cars, 58.8ms\n",
      "Speed: 2.0ms preprocess, 58.8ms inference, 1.0ms postprocess per image at shape (1, 3, 384, 640)\n",
      "\n",
      "0: 384x640 4 cars, 64.8ms\n",
      "Speed: 2.0ms preprocess, 64.8ms inference, 1.0ms postprocess per image at shape (1, 3, 384, 640)\n",
      "\n"
     ]
    },
    {
     "name": "stdout",
     "output_type": "stream",
     "text": [
      "[[784, 349, 820, 372, 0.5675302743911743, 'car'], [578, 337, 618, 359, 0.5378220677375793, 'car'], [4, 655, 234, 764, 0.4093535542488098, 'car'], [600, 309, 627, 332, 0.32678738236427307, 'car']]\n",
      "[[784, 347, 817, 372, 0.567010223865509, 'car'], [575, 335, 619, 360, 0.4066256880760193, 'car'], [5, 673, 207, 764, 0.3851079046726227, 'car']]\n"
     ]
    },
    {
     "name": "stderr",
     "output_type": "stream",
     "text": [
      "0: 384x640 3 cars, 72.8ms\n",
      "Speed: 3.0ms preprocess, 72.8ms inference, 1.0ms postprocess per image at shape (1, 3, 384, 640)\n",
      "\n",
      "0: 384x640 2 cars, 60.8ms\n",
      "Speed: 3.0ms preprocess, 60.8ms inference, 0.0ms postprocess per image at shape (1, 3, 384, 640)\n",
      "\n",
      "0: 384x640 2 cars, 63.9ms\n"
     ]
    },
    {
     "name": "stdout",
     "output_type": "stream",
     "text": [
      "[[784, 346, 814, 371, 0.5628485679626465, 'car'], [1, 691, 183, 765, 0.33384132385253906, 'car'], [573, 332, 611, 359, 0.30448800325393677, 'car']]\n",
      "[[569, 337, 613, 360, 0.4354572296142578, 'car'], [783, 345, 814, 369, 0.39952144026756287, 'car']]\n"
     ]
    },
    {
     "name": "stderr",
     "output_type": "stream",
     "text": [
      "Speed: 2.0ms preprocess, 63.9ms inference, 1.0ms postprocess per image at shape (1, 3, 384, 640)\n",
      "\n",
      "0: 384x640 3 cars, 67.8ms\n",
      "Speed: 2.0ms preprocess, 67.8ms inference, 1.0ms postprocess per image at shape (1, 3, 384, 640)\n",
      "\n",
      "0: 384x640 3 cars, 65.8ms\n"
     ]
    },
    {
     "name": "stdout",
     "output_type": "stream",
     "text": [
      "[[569, 339, 609, 362, 0.48924633860588074, 'car'], [783, 343, 812, 366, 0.39306560158729553, 'car']]\n",
      "[[563, 342, 608, 366, 0.5751162767410278, 'car'], [781, 341, 811, 363, 0.5562765598297119, 'car'], [1108, 713, 1296, 764, 0.38717779517173767, 'car']]\n"
     ]
    },
    {
     "name": "stderr",
     "output_type": "stream",
     "text": [
      "Speed: 2.0ms preprocess, 65.8ms inference, 1.0ms postprocess per image at shape (1, 3, 384, 640)\n",
      "\n",
      "0: 384x640 3 cars, 63.8ms\n",
      "Speed: 2.0ms preprocess, 63.8ms inference, 1.0ms postprocess per image at shape (1, 3, 384, 640)\n",
      "\n"
     ]
    },
    {
     "name": "stdout",
     "output_type": "stream",
     "text": [
      "[[1087, 690, 1287, 764, 0.7031787037849426, 'car'], [562, 342, 604, 368, 0.5479399561882019, 'car'], [778, 341, 810, 362, 0.5054863691329956, 'car']]\n",
      "[[1069, 668, 1274, 764, 0.6798428297042847, 'car'], [562, 343, 600, 370, 0.6020511984825134, 'car'], [777, 340, 810, 360, 0.44228145480155945, 'car']]\n"
     ]
    },
    {
     "name": "stderr",
     "output_type": "stream",
     "text": [
      "0: 384x640 4 cars, 65.8ms\n",
      "Speed: 2.0ms preprocess, 65.8ms inference, 1.0ms postprocess per image at shape (1, 3, 384, 640)\n",
      "\n",
      "0: 384x640 2 cars, 69.8ms\n",
      "Speed: 2.0ms preprocess, 69.8ms inference, 1.0ms postprocess per image at shape (1, 3, 384, 640)\n",
      "\n"
     ]
    },
    {
     "name": "stdout",
     "output_type": "stream",
     "text": [
      "[[1051, 648, 1257, 764, 0.7048888802528381, 'car'], [562, 343, 598, 371, 0.5891901254653931, 'car'], [774, 340, 809, 360, 0.33583715558052063, 'car']]\n",
      "[[1036, 629, 1214, 754, 0.7570970058441162, 'car'], [560, 344, 596, 371, 0.619604766368866, 'car']]\n"
     ]
    },
    {
     "name": "stderr",
     "output_type": "stream",
     "text": [
      "0: 384x640 4 cars, 74.8ms\n",
      "Speed: 2.0ms preprocess, 74.8ms inference, 1.0ms postprocess per image at shape (1, 3, 384, 640)\n",
      "\n",
      "0: 384x640 4 cars, 68.8ms\n",
      "Speed: 2.0ms preprocess, 68.8ms inference, 1.0ms postprocess per image at shape (1, 3, 384, 640)\n",
      "\n"
     ]
    },
    {
     "name": "stdout",
     "output_type": "stream",
     "text": [
      "[[1008, 597, 1163, 710, 0.7737458944320679, 'car'], [557, 345, 593, 372, 0.699808657169342, 'car'], [774, 336, 808, 356, 0.3614368438720703, 'car'], [588, 313, 615, 341, 0.33657094836235046, 'car']]\n",
      "[[997, 585, 1144, 687, 0.8240566849708557, 'car'], [555, 346, 592, 372, 0.7232790589332581, 'car'], [773, 335, 808, 356, 0.38828152418136597, 'car']]\n"
     ]
    },
    {
     "name": "stderr",
     "output_type": "stream",
     "text": [
      "0: 384x640 3 cars, 65.8ms\n",
      "Speed: 2.0ms preprocess, 65.8ms inference, 1.0ms postprocess per image at shape (1, 3, 384, 640)\n",
      "\n",
      "0: 384x640 3 cars, 67.9ms\n",
      "Speed: 2.0ms preprocess, 67.9ms inference, 1.0ms postprocess per image at shape (1, 3, 384, 640)\n",
      "\n",
      "0: 384x640 3 cars, 64.8ms\n"
     ]
    },
    {
     "name": "stdout",
     "output_type": "stream",
     "text": [
      "[[981, 570, 1122, 668, 0.7509035468101501, 'car'], [554, 347, 593, 374, 0.6796307563781738, 'car'], [773, 333, 808, 355, 0.5012325048446655, 'car']]\n",
      "[[972, 559, 1106, 649, 0.7750888466835022, 'car'], [550, 348, 589, 377, 0.5084094405174255, 'car'], [773, 333, 805, 354, 0.4370461106300354, 'car']]\n"
     ]
    },
    {
     "name": "stderr",
     "output_type": "stream",
     "text": [
      "Speed: 3.0ms preprocess, 64.8ms inference, 1.0ms postprocess per image at shape (1, 3, 384, 640)\n",
      "\n",
      "0: 384x640 3 cars, 64.8ms\n",
      "Speed: 2.0ms preprocess, 64.8ms inference, 1.0ms postprocess per image at shape (1, 3, 384, 640)\n",
      "\n",
      "0: 384x640 4 cars, 63.8ms\n"
     ]
    },
    {
     "name": "stdout",
     "output_type": "stream",
     "text": [
      "[[964, 547, 1091, 638, 0.7520632147789001, 'car'], [547, 352, 586, 379, 0.5092042088508606, 'car'], [772, 332, 804, 353, 0.31908780336380005, 'car']]\n",
      "[[944, 519, 1059, 614, 0.6854720711708069, 'car'], [545, 354, 582, 382, 0.6687246561050415, 'car'], [579, 320, 611, 347, 0.4737246334552765, 'car']]\n"
     ]
    },
    {
     "name": "stderr",
     "output_type": "stream",
     "text": [
      "Speed: 2.0ms preprocess, 63.8ms inference, 1.0ms postprocess per image at shape (1, 3, 384, 640)\n",
      "\n",
      "0: 384x640 3 cars, 63.9ms\n",
      "Speed: 4.0ms preprocess, 63.9ms inference, 1.0ms postprocess per image at shape (1, 3, 384, 640)\n",
      "\n",
      "0: 384x640 3 cars, 60.8ms\n"
     ]
    },
    {
     "name": "stdout",
     "output_type": "stream",
     "text": [
      "[[542, 355, 581, 383, 0.7086071968078613, 'car'], [959, 530, 1050, 600, 0.44030749797821045, 'car'], [580, 320, 610, 349, 0.44001010060310364, 'car']]\n",
      "[[538, 358, 580, 387, 0.6982361674308777, 'car'], [930, 509, 1037, 581, 0.4568844139575958, 'car'], [579, 321, 610, 349, 0.45261117815971375, 'car']]\n"
     ]
    },
    {
     "name": "stderr",
     "output_type": "stream",
     "text": [
      "Speed: 2.0ms preprocess, 60.8ms inference, 1.0ms postprocess per image at shape (1, 3, 384, 640)\n",
      "\n",
      "0: 384x640 3 cars, 67.9ms\n",
      "Speed: 2.0ms preprocess, 67.9ms inference, 0.0ms postprocess per image at shape (1, 3, 384, 640)\n",
      "\n"
     ]
    },
    {
     "name": "stdout",
     "output_type": "stream",
     "text": [
      "[[537, 360, 576, 390, 0.7270857691764832, 'car'], [921, 504, 1024, 577, 0.5887942910194397, 'car'], [578, 325, 608, 347, 0.40910428762435913, 'car']]\n",
      "[[535, 360, 573, 391, 0.7469241619110107, 'car'], [916, 494, 1013, 565, 0.6638745069503784, 'car'], [577, 324, 607, 348, 0.4174935519695282, 'car']]\n"
     ]
    },
    {
     "name": "stderr",
     "output_type": "stream",
     "text": [
      "0: 384x640 4 cars, 64.8ms\n",
      "Speed: 2.0ms preprocess, 64.8ms inference, 0.0ms postprocess per image at shape (1, 3, 384, 640)\n",
      "\n",
      "0: 384x640 3 cars, 73.8ms\n",
      "Speed: 2.0ms preprocess, 73.8ms inference, 1.0ms postprocess per image at shape (1, 3, 384, 640)\n",
      "\n"
     ]
    },
    {
     "name": "stdout",
     "output_type": "stream",
     "text": [
      "[[530, 364, 573, 393, 0.7361488938331604, 'car'], [903, 483, 993, 548, 0.6419793367385864, 'car'], [572, 327, 609, 351, 0.4542189836502075, 'car']]\n",
      "[[898, 477, 986, 540, 0.7914647459983826, 'car'], [528, 366, 571, 395, 0.791391909122467, 'car'], [571, 326, 607, 352, 0.5629844665527344, 'car']]\n"
     ]
    },
    {
     "name": "stderr",
     "output_type": "stream",
     "text": [
      "0: 384x640 4 cars, 65.8ms\n",
      "Speed: 2.0ms preprocess, 65.8ms inference, 0.0ms postprocess per image at shape (1, 3, 384, 640)\n",
      "\n",
      "0: 384x640 4 cars, 60.9ms\n",
      "Speed: 2.0ms preprocess, 60.9ms inference, 1.0ms postprocess per image at shape (1, 3, 384, 640)\n",
      "\n"
     ]
    },
    {
     "name": "stdout",
     "output_type": "stream",
     "text": [
      "[[525, 367, 566, 397, 0.7554291486740112, 'car'], [892, 470, 978, 531, 0.7322407364845276, 'car'], [570, 326, 605, 353, 0.6377475261688232, 'car']]\n",
      "[[523, 367, 565, 398, 0.7830134630203247, 'car'], [886, 464, 970, 523, 0.7285887002944946, 'car'], [569, 326, 605, 354, 0.6688681840896606, 'car']]\n"
     ]
    },
    {
     "name": "stderr",
     "output_type": "stream",
     "text": [
      "0: 384x640 4 cars, 70.8ms\n",
      "Speed: 2.0ms preprocess, 70.8ms inference, 0.0ms postprocess per image at shape (1, 3, 384, 640)\n",
      "\n",
      "0: 384x640 3 cars, 66.8ms\n",
      "Speed: 2.0ms preprocess, 66.8ms inference, 1.0ms postprocess per image at shape (1, 3, 384, 640)\n",
      "\n"
     ]
    },
    {
     "name": "stdout",
     "output_type": "stream",
     "text": [
      "[[520, 371, 565, 401, 0.8006535172462463, 'car'], [567, 327, 601, 356, 0.7226735353469849, 'car'], [883, 461, 963, 516, 0.607216477394104, 'car']]\n",
      "[[513, 374, 563, 409, 0.7754100561141968, 'car'], [874, 449, 950, 503, 0.7440680861473083, 'car'], [564, 328, 616, 358, 0.5984883904457092, 'car']]\n"
     ]
    },
    {
     "name": "stderr",
     "output_type": "stream",
     "text": [
      "0: 384x640 3 cars, 63.9ms\n",
      "Speed: 2.0ms preprocess, 63.9ms inference, 2.1ms postprocess per image at shape (1, 3, 384, 640)\n",
      "\n",
      "0: 384x640 4 cars, 65.8ms\n",
      "Speed: 2.0ms preprocess, 65.8ms inference, 1.0ms postprocess per image at shape (1, 3, 384, 640)\n",
      "\n",
      "0: 384x640 5 cars, 67.8ms\n"
     ]
    },
    {
     "name": "stdout",
     "output_type": "stream",
     "text": [
      "[[511, 375, 563, 409, 0.7670360207557678, 'car'], [868, 447, 944, 498, 0.6647405028343201, 'car'], [563, 330, 607, 359, 0.5499677658081055, 'car']]\n",
      "[[508, 375, 553, 410, 0.7256831526756287, 'car'], [561, 330, 604, 360, 0.5726425647735596, 'car'], [865, 438, 939, 492, 0.5650302767753601, 'car']]\n"
     ]
    },
    {
     "name": "stderr",
     "output_type": "stream",
     "text": [
      "Speed: 2.0ms preprocess, 67.8ms inference, 1.0ms postprocess per image at shape (1, 3, 384, 640)\n",
      "\n",
      "0: 384x640 4 cars, 63.9ms\n",
      "Speed: 2.0ms preprocess, 63.9ms inference, 1.0ms postprocess per image at shape (1, 3, 384, 640)\n",
      "\n"
     ]
    },
    {
     "name": "stdout",
     "output_type": "stream",
     "text": [
      "[[504, 377, 551, 413, 0.6732446551322937, 'car'], [862, 435, 934, 488, 0.6594076156616211, 'car'], [560, 330, 600, 360, 0.49022358655929565, 'car']]\n",
      "[[858, 432, 924, 479, 0.6792719960212708, 'car'], [503, 379, 547, 415, 0.6737534403800964, 'car'], [559, 331, 598, 361, 0.5524328947067261, 'car']]\n"
     ]
    },
    {
     "name": "stderr",
     "output_type": "stream",
     "text": [
      "0: 384x640 5 cars, 73.8ms\n",
      "Speed: 3.0ms preprocess, 73.8ms inference, 1.0ms postprocess per image at shape (1, 3, 384, 640)\n",
      "\n",
      "0: 384x640 5 cars, 65.8ms\n",
      "Speed: 2.0ms preprocess, 65.8ms inference, 1.0ms postprocess per image at shape (1, 3, 384, 640)\n",
      "\n"
     ]
    },
    {
     "name": "stdout",
     "output_type": "stream",
     "text": [
      "[[498, 381, 548, 417, 0.7002278566360474, 'car'], [857, 432, 917, 470, 0.5864946246147156, 'car'], [558, 332, 595, 361, 0.574777364730835, 'car']]\n",
      "[[491, 386, 539, 423, 0.7458773851394653, 'car'], [555, 334, 591, 364, 0.6866598725318909, 'car'], [850, 422, 915, 464, 0.6301705837249756, 'car'], [646, 308, 669, 330, 0.3044675290584564, 'car']]\n"
     ]
    },
    {
     "name": "stderr",
     "output_type": "stream",
     "text": [
      "0: 384x640 6 cars, 76.8ms\n",
      "Speed: 3.0ms preprocess, 76.8ms inference, 1.0ms postprocess per image at shape (1, 3, 384, 640)\n",
      "\n",
      "0: 384x640 5 cars, 69.8ms\n",
      "Speed: 1.9ms preprocess, 69.8ms inference, 1.0ms postprocess per image at shape (1, 3, 384, 640)\n",
      "\n"
     ]
    },
    {
     "name": "stdout",
     "output_type": "stream",
     "text": [
      "[[848, 418, 903, 460, 0.6487225890159607, 'car'], [554, 339, 589, 365, 0.6419289112091064, 'car'], [486, 391, 540, 428, 0.6306988596916199, 'car'], [645, 308, 671, 331, 0.38159286975860596, 'car']]\n",
      "[[553, 338, 588, 366, 0.696372389793396, 'car'], [485, 386, 551, 431, 0.6144777536392212, 'car'], [846, 418, 904, 456, 0.5843610167503357, 'car'], [642, 310, 669, 331, 0.3123628795146942, 'car']]\n"
     ]
    },
    {
     "name": "stderr",
     "output_type": "stream",
     "text": [
      "0: 384x640 5 cars, 62.8ms\n",
      "Speed: 2.0ms preprocess, 62.8ms inference, 1.0ms postprocess per image at shape (1, 3, 384, 640)\n",
      "\n",
      "0: 384x640 6 cars, 66.9ms\n",
      "Speed: 2.0ms preprocess, 66.9ms inference, 1.0ms postprocess per image at shape (1, 3, 384, 640)\n",
      "\n"
     ]
    },
    {
     "name": "stdout",
     "output_type": "stream",
     "text": [
      "[[551, 342, 586, 367, 0.6303041577339172, 'car'], [481, 394, 532, 433, 0.5764163732528687, 'car'], [840, 414, 904, 452, 0.5547571778297424, 'car']]\n",
      "[[478, 396, 531, 436, 0.6806695461273193, 'car'], [548, 340, 587, 369, 0.6418746113777161, 'car'], [836, 409, 914, 451, 0.5718743205070496, 'car']]\n"
     ]
    },
    {
     "name": "stderr",
     "output_type": "stream",
     "text": [
      "0: 384x640 5 cars, 76.8ms\n",
      "Speed: 2.0ms preprocess, 76.8ms inference, 1.0ms postprocess per image at shape (1, 3, 384, 640)\n",
      "\n",
      "0: 384x640 5 cars, 60.8ms\n",
      "Speed: 1.9ms preprocess, 60.8ms inference, 1.0ms postprocess per image at shape (1, 3, 384, 640)\n",
      "\n"
     ]
    },
    {
     "name": "stdout",
     "output_type": "stream",
     "text": [
      "[[468, 400, 522, 443, 0.8013489842414856, 'car'], [545, 339, 585, 371, 0.6199931502342224, 'car'], [835, 399, 894, 440, 0.3592003583908081, 'car']]\n",
      "[[465, 403, 520, 445, 0.7010931372642517, 'car'], [543, 342, 582, 373, 0.6365523934364319, 'car'], [831, 399, 890, 438, 0.5596602559089661, 'car'], [634, 310, 667, 336, 0.35798320174217224, 'car']]\n"
     ]
    },
    {
     "name": "stderr",
     "output_type": "stream",
     "text": [
      "0: 384x640 4 cars, 68.8ms\n",
      "Speed: 2.0ms preprocess, 68.8ms inference, 1.0ms postprocess per image at shape (1, 3, 384, 640)\n",
      "\n",
      "0: 384x640 4 cars, 74.8ms\n",
      "Speed: 2.0ms preprocess, 74.8ms inference, 1.0ms postprocess per image at shape (1, 3, 384, 640)\n",
      "WARNING  'source' is missing. Using 'source=C:\\Anaconda\\envs\\torch_env\\Lib\\site-packages\\ultralytics\\assets'.\n"
     ]
    },
    {
     "name": "stdout",
     "output_type": "stream",
     "text": [
      "[[458, 405, 512, 450, 0.8773258328437805, 'car'], [542, 342, 581, 373, 0.648243248462677, 'car'], [829, 399, 897, 436, 0.43357449769973755, 'car'], [633, 309, 665, 336, 0.3578428030014038, 'car']]\n",
      "[[458, 405, 512, 450, 0.8773210644721985, 'car'], [542, 342, 581, 373, 0.6483136415481567, 'car'], [829, 399, 897, 436, 0.4358803629875183, 'car'], [633, 309, 665, 336, 0.35770198702812195, 'car']]\n"
     ]
    },
    {
     "name": "stderr",
     "output_type": "stream",
     "text": [
      "\n",
      "image 1/2 C:\\Anaconda\\envs\\torch_env\\Lib\\site-packages\\ultralytics\\assets\\bus.jpg: 640x480 4 persons, 1 bus, 1 stop sign, 99.7ms\n",
      "image 2/2 C:\\Anaconda\\envs\\torch_env\\Lib\\site-packages\\ultralytics\\assets\\zidane.jpg: 384x640 2 persons, 1 tie, 53.9ms\n",
      "Speed: 2.0ms preprocess, 76.8ms inference, 0.5ms postprocess per image at shape (1, 3, 384, 640)\n"
     ]
    },
    {
     "name": "stdout",
     "output_type": "stream",
     "text": [
      "[[22, 231, 805, 756, 0.8734485507011414, 'bus']]\n"
     ]
    },
    {
     "ename": "AttributeError",
     "evalue": "'NoneType' object has no attribute 'shape'",
     "output_type": "error",
     "traceback": [
      "\u001b[1;31m---------------------------------------------------------------------------\u001b[0m",
      "\u001b[1;31mAttributeError\u001b[0m                            Traceback (most recent call last)",
      "Cell \u001b[1;32mIn[15], line 46\u001b[0m\n\u001b[0;32m     42\u001b[0m     detections\u001b[38;5;241m.\u001b[39mappend(b)\n\u001b[0;32m     44\u001b[0m \u001b[38;5;28mprint\u001b[39m(detections)\n\u001b[1;32m---> 46\u001b[0m tracker\u001b[38;5;241m.\u001b[39mupdate(frame, detections)\n\u001b[0;32m     47\u001b[0m \u001b[38;5;66;03m# Updating the tracks with the new frame\u001b[39;00m\n\u001b[0;32m     48\u001b[0m \u001b[38;5;28;01mfor\u001b[39;00m track \u001b[38;5;129;01min\u001b[39;00m tracker\u001b[38;5;241m.\u001b[39mtracks:\n",
      "File \u001b[1;32m~\\deep_learning\\Real-time-object-tracking\\tracker.py:38\u001b[0m, in \u001b[0;36mObject_Tracker.update\u001b[1;34m(self, frame, detections)\u001b[0m\n\u001b[0;32m     35\u001b[0m scores \u001b[38;5;241m=\u001b[39m [d[\u001b[38;5;241m-\u001b[39m\u001b[38;5;241m2\u001b[39m] \u001b[38;5;28;01mfor\u001b[39;00m d \u001b[38;5;129;01min\u001b[39;00m detections]\n\u001b[0;32m     36\u001b[0m names \u001b[38;5;241m=\u001b[39m [d[\u001b[38;5;241m-\u001b[39m\u001b[38;5;241m1\u001b[39m] \u001b[38;5;28;01mfor\u001b[39;00m d \u001b[38;5;129;01min\u001b[39;00m detections]\n\u001b[1;32m---> 38\u001b[0m features \u001b[38;5;241m=\u001b[39m \u001b[38;5;28mself\u001b[39m\u001b[38;5;241m.\u001b[39mencoder(frame, bboxes)\n\u001b[0;32m     40\u001b[0m dets \u001b[38;5;241m=\u001b[39m []\n\u001b[0;32m     41\u001b[0m \u001b[38;5;28;01mfor\u001b[39;00m bbox_id, bbox \u001b[38;5;129;01min\u001b[39;00m \u001b[38;5;28menumerate\u001b[39m(bboxes):\n",
      "File \u001b[1;32m~\\deep_learning\\Real-time-object-tracking\\deep_sort\\generate_detections.py:110\u001b[0m, in \u001b[0;36mcreate_box_encoder.<locals>.encoder\u001b[1;34m(image, boxes)\u001b[0m\n\u001b[0;32m    108\u001b[0m image_patches \u001b[38;5;241m=\u001b[39m []\n\u001b[0;32m    109\u001b[0m \u001b[38;5;28;01mfor\u001b[39;00m box \u001b[38;5;129;01min\u001b[39;00m boxes:\n\u001b[1;32m--> 110\u001b[0m     patch \u001b[38;5;241m=\u001b[39m extract_image_patch(image, box, image_shape[:\u001b[38;5;241m2\u001b[39m])\n\u001b[0;32m    111\u001b[0m     \u001b[38;5;28;01mif\u001b[39;00m patch \u001b[38;5;129;01mis\u001b[39;00m \u001b[38;5;28;01mNone\u001b[39;00m:\n\u001b[0;32m    112\u001b[0m         \u001b[38;5;28mprint\u001b[39m(\u001b[38;5;124m\"\u001b[39m\u001b[38;5;124mWARNING: Failed to extract image patch: \u001b[39m\u001b[38;5;132;01m%s\u001b[39;00m\u001b[38;5;124m.\u001b[39m\u001b[38;5;124m\"\u001b[39m \u001b[38;5;241m%\u001b[39m \u001b[38;5;28mstr\u001b[39m(box))\n",
      "File \u001b[1;32m~\\deep_learning\\Real-time-object-tracking\\deep_sort\\generate_detections.py:65\u001b[0m, in \u001b[0;36mextract_image_patch\u001b[1;34m(image, bbox, patch_shape)\u001b[0m\n\u001b[0;32m     63\u001b[0m \u001b[38;5;66;03m# clip at image boundaries\u001b[39;00m\n\u001b[0;32m     64\u001b[0m bbox[:\u001b[38;5;241m2\u001b[39m] \u001b[38;5;241m=\u001b[39m np\u001b[38;5;241m.\u001b[39mmaximum(\u001b[38;5;241m0\u001b[39m, bbox[:\u001b[38;5;241m2\u001b[39m])\n\u001b[1;32m---> 65\u001b[0m bbox[\u001b[38;5;241m2\u001b[39m:] \u001b[38;5;241m=\u001b[39m np\u001b[38;5;241m.\u001b[39mminimum(np\u001b[38;5;241m.\u001b[39masarray(image\u001b[38;5;241m.\u001b[39mshape[:\u001b[38;5;241m2\u001b[39m][::\u001b[38;5;241m-\u001b[39m\u001b[38;5;241m1\u001b[39m]) \u001b[38;5;241m-\u001b[39m \u001b[38;5;241m1\u001b[39m, bbox[\u001b[38;5;241m2\u001b[39m:])\n\u001b[0;32m     66\u001b[0m \u001b[38;5;28;01mif\u001b[39;00m np\u001b[38;5;241m.\u001b[39many(bbox[:\u001b[38;5;241m2\u001b[39m] \u001b[38;5;241m>\u001b[39m\u001b[38;5;241m=\u001b[39m bbox[\u001b[38;5;241m2\u001b[39m:]):\n\u001b[0;32m     67\u001b[0m     \u001b[38;5;28;01mreturn\u001b[39;00m \u001b[38;5;28;01mNone\u001b[39;00m\n",
      "\u001b[1;31mAttributeError\u001b[0m: 'NoneType' object has no attribute 'shape'"
     ]
    }
   ],
   "source": [
    "while(True):\n",
    "# start_time = time.time()\n",
    "\n",
    "# for img in os.listdir(data_path):\n",
    "#     frame = cv2.imread(os.path.join(data_path, img))\n",
    "    _, frame = vid.read()\n",
    "    # Perform object detection using YOLO on the current frame\n",
    "    results = model(frame)  \n",
    "\n",
    "    # Update the tracks using the DeepSort tracker\n",
    "    for result in results:\n",
    "        detections = []\n",
    "        \n",
    "\n",
    "        # Creating the detections array\n",
    "        for r in result.boxes.data:\n",
    "            x1, y1, x2, y2, score, class_id = r\n",
    "            x1 = int(x1)\n",
    "            x2 = int(x2)\n",
    "            y1 = int(y1)\n",
    "            y2 = int(y2)\n",
    "\n",
    "            class_id = int(class_id)\n",
    "            class_name= names[class_id]\n",
    "            if score>=0.3:\n",
    "                detections.append([x1, y1, x2, y2, score, class_name])\n",
    "            \n",
    "        \n",
    "       \n",
    "        boxes, score, classes= non_max_suppression(detections, 0.5)\n",
    "        detections=[]\n",
    "        for i in range(len(boxes)):\n",
    "            b= []\n",
    "            b.append(boxes[i][0])\n",
    "            b.append(boxes[i][1])\n",
    "            b.append(boxes[i][2])\n",
    "            b.append(boxes[i][3])\n",
    "            b.append(score[i])\n",
    "            b.append(classes[i])\n",
    "            \n",
    "            \n",
    "            detections.append(b)\n",
    "        \n",
    "        print(detections)\n",
    "    \n",
    "        tracker.update(frame, detections)\n",
    "        # Updating the tracks with the new frame\n",
    "        for track in tracker.tracks:\n",
    "            bbox = track.bbox\n",
    "            x1, y1, x2, y2 = bbox\n",
    "            track_id = track.track_id\n",
    "            \n",
    "            \n",
    "\n",
    "            cv2.rectangle(frame, (int(x1), int(y1)), (int(x2), int(y2)), (colors[track_id % len(colors)]), 3)\n",
    "\n",
    "            # Define the text you want to add\n",
    "            text = track.class_name\n",
    "\n",
    "            # Define the position where you want to place the text (adjust coordinates as needed)\n",
    "            text_x = int(x1)  # You can adjust the x-coordinate as needed\n",
    "            text_y = int(y1) - 10  # You can adjust the y-coordinate as needed\n",
    "\n",
    "            # Get the color of the rectangle\n",
    "            rectangle_color = colors[track_id % len(colors)]\n",
    "\n",
    "            # Get the size of the text to calculate the size of the background rectangle\n",
    "            (text_width, text_height), baseline = cv2.getTextSize(text, cv2.FONT_HERSHEY_SIMPLEX, 0.5, 1)\n",
    "            background_width = text_width + 10\n",
    "            background_height = text_height + 10\n",
    "\n",
    "            # Define the position of the background rectangle\n",
    "            background_x = text_x\n",
    "            background_y = text_y - text_height\n",
    "\n",
    "            # Draw the background rectangle\n",
    "            cv2.rectangle(frame, (background_x, background_y), (background_x + background_width, background_y + background_height), rectangle_color, -1)\n",
    "\n",
    "            # Define the font and font scale\n",
    "            font = cv2.FONT_HERSHEY_SIMPLEX\n",
    "            font_scale = 0.5\n",
    "\n",
    "            # Define the color of the text (you can change this if needed)\n",
    "            text_color = (255, 255, 255)  # White color in BGR\n",
    "\n",
    "            # Add the text to the frame\n",
    "            cv2.putText(frame, text, (text_x, text_y), font, font_scale, text_color, 1, cv2.LINE_AA)\n",
    "        # Save the frame with tracking results\n",
    "        cv2.imshow('img', frame)\n",
    "        \n",
    "        frames.append(frame)\n",
    "\n",
    "        if cv2.waitKey(1) & 0xFF == ord('q'):\n",
    "            break\n",
    "\n",
    "cv2.destroyAllWindows()\n",
    "vid.release()"
   ]
  },
  {
   "cell_type": "code",
   "execution_count": 16,
   "id": "5ef32721",
   "metadata": {},
   "outputs": [],
   "source": [
    "output_file = 'output_video.mp4'\n",
    "fourcc = cv2.VideoWriter_fourcc(*'mp4v')  # Codec for MP4\n",
    "frame_rate = 30  # Adjust this to your desired frame rate\n",
    "width, height = frames[0].shape[1], frames[0].shape[0]  # Use dimensions from the first frame\n",
    "\n",
    "# Create VideoWriter object\n",
    "out = cv2.VideoWriter(output_file, fourcc, frame_rate, (width, height))\n",
    "\n",
    "# Loop through the array of frames and write them to the video\n",
    "for frame in frames:\n",
    "    out.write(frame)\n",
    "\n",
    "# Release the VideoWriter\n",
    "out.release()\n",
    "\n",
    "# Optionally, you can also destroy any OpenCV windows that might be open\n",
    "cv2.destroyAllWindows()"
   ]
  },
  {
   "cell_type": "code",
   "execution_count": null,
   "id": "70c85c3f",
   "metadata": {},
   "outputs": [],
   "source": []
  },
  {
   "cell_type": "code",
   "execution_count": null,
   "id": "6a41d6f3",
   "metadata": {},
   "outputs": [],
   "source": []
  },
  {
   "cell_type": "code",
   "execution_count": null,
   "id": "69049fe3",
   "metadata": {},
   "outputs": [],
   "source": []
  }
 ],
 "metadata": {
  "kernelspec": {
   "display_name": "Python 3 (ipykernel)",
   "language": "python",
   "name": "python3"
  },
  "language_info": {
   "codemirror_mode": {
    "name": "ipython",
    "version": 3
   },
   "file_extension": ".py",
   "mimetype": "text/x-python",
   "name": "python",
   "nbconvert_exporter": "python",
   "pygments_lexer": "ipython3",
   "version": "3.11.4"
  }
 },
 "nbformat": 4,
 "nbformat_minor": 5
}
